{
 "cells": [
  {
   "cell_type": "code",
   "execution_count": 1,
   "metadata": {},
   "outputs": [],
   "source": [
    "import os\n",
    "import pandas as pd\n",
    "import copy\n",
    "import numpy as np\n",
    "import matplotlib.pyplot as plt\n",
    "%matplotlib inline\n",
    "from transformers import BertTokenizerFast\n",
    "import shap\n",
    "import scipy as sp\n",
    "import nlp\n",
    "import torch\n",
    "pd.set_option('display.max_columns', None)\n",
    "pd.set_option('max_colwidth', None)\n",
    "pd.set_option(\"max_rows\", None)"
   ]
  },
  {
   "cell_type": "code",
   "execution_count": 2,
   "metadata": {},
   "outputs": [],
   "source": [
    "from pytorch_transformers import (WEIGHTS_NAME, BertConfig,\n",
    "                                  BertForSequenceClassification)\n",
    "\n",
    "from pytorch_transformers import AdamW, WarmupLinearSchedule                                "
   ]
  },
  {
   "cell_type": "code",
   "execution_count": 3,
   "metadata": {},
   "outputs": [],
   "source": [
    "MODEL_CLASSES = {\n",
    "    'bert': (BertConfig, BertForSequenceClassification, BertTokenizerFast)\n",
    "}\n",
    "config_class, model_class, tokenizer_class = MODEL_CLASSES['bert']"
   ]
  },
  {
   "cell_type": "code",
   "execution_count": 4,
   "metadata": {},
   "outputs": [],
   "source": [
    "def get_labels_from_label_dict(lbl_dict_path):\n",
    "        line_id = 0\n",
    "        labels = []\n",
    "        for line in open(lbl_dict_path, encoding='utf8'):\n",
    "            fds = line.strip().split(' ')\n",
    "            assert len(fds) == 2, 'incorrect format {}'.format(line)\n",
    "            lbl = fds[0]\n",
    "            fid = int(fds[1])\n",
    "            assert fid == line_id, 'id not correct {} -- {}'.format(fid, line_id)\n",
    "            labels.append(lbl)\n",
    "            line_id += 1\n",
    "        return labels"
   ]
  },
  {
   "cell_type": "code",
   "execution_count": 5,
   "metadata": {},
   "outputs": [],
   "source": [
    "def read_fasttext(infile):\n",
    "        data = []\n",
    "        # HACK for windows the first line causes utf problem...\n",
    "        fFirstline = True\n",
    "        for line in open(infile, 'r', encoding='utf-8-sig'):\n",
    "            # __label__Step in st george wharf tower ) have modern and luxurious installations .\n",
    "            fields = line.strip().split()\n",
    "            words, label = [], ''\n",
    "            for fd in fields:\n",
    "                if fd.startswith('__label__'):\n",
    "                    label = fd\n",
    "                else:\n",
    "                    words.append(fd)\n",
    "            if label != '' and len(words) > 0:\n",
    "                data.append((label, ' '.join(words)))\n",
    "\n",
    "        return data"
   ]
  },
  {
   "cell_type": "code",
   "execution_count": 6,
   "metadata": {},
   "outputs": [],
   "source": [
    "args = {\n",
    "'data_dir':'C:\\\\Users\\\\ryserrao\\\\Microsoft_work\\\\AIPLATFORM_SHAP\\\\PPT_Text_to_Icon_Data\\\\Turing_Text2Icon_Code_and_Model\\\\outputs',\n",
    "'model_name_or_path':'ft_set12_256x2_pcln2sc_nowiki.py_e10_wu02_bs8_ts08_sc12_lr7e-5',\n",
    "'data_path':'test_mturk.txt',\n",
    "'task_name':'text2content',\n",
    "'do_lower_case':True,\n",
    "'lbl_dict_path' : 'train.txt.lbl.dict.txt',\n",
    "'max_seq_len':32\n",
    "}\n",
    "labels = get_labels_from_label_dict(os.path.join(args['data_dir'], args['lbl_dict_path']))\n",
    "num_labels = len(labels)"
   ]
  },
  {
   "cell_type": "code",
   "execution_count": 28,
   "metadata": {},
   "outputs": [],
   "source": [
    "label2id = {}\n",
    "for i,label in enumerate(labels):\n",
    "    label2id[label]=i"
   ]
  },
  {
   "cell_type": "code",
   "execution_count": 14,
   "metadata": {},
   "outputs": [],
   "source": [
    "data = pd.DataFrame(read_fasttext(os.path.join(args['data_dir'], args['data_path'])), columns=['Label','Sentence'])"
   ]
  },
  {
   "cell_type": "code",
   "execution_count": 15,
   "metadata": {},
   "outputs": [
    {
     "output_type": "execute_result",
     "data": {
      "text/plain": [
       "                  Label  \\\n",
       "0        __label__Acorn   \n",
       "1          __label__Add   \n",
       "2  __label__Advertising   \n",
       "3       __label__Africa   \n",
       "4     __label__Airplane   \n",
       "\n",
       "                                                                                                                                                                                            Sentence  \n",
       "0                                                                                                                                                                                      an acorn PUNC  \n",
       "1                                                                                                                                                       there is alway an addition to the party PUNC  \n",
       "2                                                                                                                                                we specialize in outdoor billboard advertising PUNC  \n",
       "3                                                                                                                                                                       the continent of africa PUNC  \n",
       "4  PUNC it PUNC s a symbol of airplane mode icon PUNC while travelling on a plane PUNC you have to put your mobile on this mode PUNC so PUNC that you wo n't get your network in the plane PUNC PUNC  "
      ],
      "text/html": "<div>\n<style scoped>\n    .dataframe tbody tr th:only-of-type {\n        vertical-align: middle;\n    }\n\n    .dataframe tbody tr th {\n        vertical-align: top;\n    }\n\n    .dataframe thead th {\n        text-align: right;\n    }\n</style>\n<table border=\"1\" class=\"dataframe\">\n  <thead>\n    <tr style=\"text-align: right;\">\n      <th></th>\n      <th>Label</th>\n      <th>Sentence</th>\n    </tr>\n  </thead>\n  <tbody>\n    <tr>\n      <th>0</th>\n      <td>__label__Acorn</td>\n      <td>an acorn PUNC</td>\n    </tr>\n    <tr>\n      <th>1</th>\n      <td>__label__Add</td>\n      <td>there is alway an addition to the party PUNC</td>\n    </tr>\n    <tr>\n      <th>2</th>\n      <td>__label__Advertising</td>\n      <td>we specialize in outdoor billboard advertising PUNC</td>\n    </tr>\n    <tr>\n      <th>3</th>\n      <td>__label__Africa</td>\n      <td>the continent of africa PUNC</td>\n    </tr>\n    <tr>\n      <th>4</th>\n      <td>__label__Airplane</td>\n      <td>PUNC it PUNC s a symbol of airplane mode icon PUNC while travelling on a plane PUNC you have to put your mobile on this mode PUNC so PUNC that you wo n't get your network in the plane PUNC PUNC</td>\n    </tr>\n  </tbody>\n</table>\n</div>"
     },
     "metadata": {},
     "execution_count": 15
    }
   ],
   "source": [
    "data.head()"
   ]
  },
  {
   "cell_type": "code",
   "execution_count": 11,
   "metadata": {
    "tags": []
   },
   "outputs": [],
   "source": [
    "config = config_class.from_pretrained(os.path.join(args['data_dir'],args['model_name_or_path']), num_labels=num_labels, finetuning_task=args['task_name'])"
   ]
  },
  {
   "cell_type": "code",
   "execution_count": 12,
   "metadata": {},
   "outputs": [],
   "source": [
    "tokenizer = tokenizer_class.from_pretrained(os.path.join(args['data_dir'],args['model_name_or_path']), do_lower_case=args['do_lower_case'])"
   ]
  },
  {
   "cell_type": "code",
   "execution_count": 13,
   "metadata": {
    "tags": []
   },
   "outputs": [
    {
     "output_type": "stream",
     "name": "stdout",
     "text": [
      "{\n  \"attention_probs_dropout_prob\": 0.1,\n  \"finetuning_task\": \"text2content\",\n  \"hidden_act\": \"gelu\",\n  \"hidden_dropout_prob\": 0.1,\n  \"hidden_size\": 256,\n  \"initializer_range\": 0.02,\n  \"intermediate_size\": 1024,\n  \"layer_norm_eps\": 1e-12,\n  \"max_position_embeddings\": 512,\n  \"num_attention_heads\": 8,\n  \"num_hidden_layers\": 2,\n  \"num_labels\": 865,\n  \"output_attentions\": false,\n  \"output_hidden_states\": false,\n  \"pooler\": \"cls\",\n  \"torchscript\": false,\n  \"type_vocab_size\": 2,\n  \"vocab_size\": 30522\n}\n\n"
     ]
    }
   ],
   "source": [
    "model = model_class.from_pretrained(os.path.join(args['data_dir'],args['model_name_or_path']),config=config).cuda()"
   ]
  },
  {
   "cell_type": "code",
   "execution_count": 16,
   "metadata": {},
   "outputs": [],
   "source": [
    "def f(x):\n",
    "    tv = torch.tensor([tokenizer.encode(v, pad_to_max_length=True, max_length=args['max_seq_len'],truncation=True) for v in x]).cuda()\n",
    "    attention_mask = (tv!=0).type(torch.int64).cuda()\n",
    "    outputs = model(tv,attention_mask=attention_mask)[0].detach().cpu().numpy()\n",
    "    scores = (np.exp(outputs).T / np.exp(outputs).sum(-1)).T\n",
    "    val = sp.special.logit(scores) \n",
    "    return val"
   ]
  },
  {
   "cell_type": "code",
   "execution_count": 17,
   "metadata": {},
   "outputs": [],
   "source": [
    "explainer = shap.Explainer(f,tokenizer,output_names=labels)"
   ]
  },
  {
   "cell_type": "code",
   "execution_count": 18,
   "metadata": {
    "tags": []
   },
   "outputs": [
    {
     "output_type": "stream",
     "name": "stderr",
     "text": [
      "Partition explainer: 695it [00:30, 23.13it/s]                         \n"
     ]
    }
   ],
   "source": [
    "shap_values_multiclass = explainer(data['Sentence'][:1000])"
   ]
  },
  {
   "cell_type": "code",
   "execution_count": 22,
   "metadata": {},
   "outputs": [],
   "source": [
    "def text_plot(class_index,start_idx,end_idx):\n",
    "    shap_values = copy.copy(shap_values_multiclass[:])\n",
    "    if len(shap_values.base_values.shape) == 1:\n",
    "        shap_values.values = shap_values.values[:,class_index]\n",
    "        shap_values.hierarchical_values = shap_values.hierarchical_values[:,class_index]\n",
    "        shap_values.base_values = shap_values.base_values[class_index]\n",
    "    else:\n",
    "        for i in range(start_idx,end_idx):\n",
    "            shap_values.values[i] = shap_values.values[i][:,class_index]\n",
    "            shap_values.hierarchical_values[i] = shap_values.hierarchical_values[i][:,class_index]\n",
    "        shap_values.base_values = shap_values.base_values[:,class_index]\n",
    "    shap.plots.text(shap_values[start_idx:end_idx])"
   ]
  },
  {
   "cell_type": "code",
   "execution_count": 23,
   "metadata": {},
   "outputs": [],
   "source": [
    "def custom_masked_bar_plot(class_index,mask_type,viz_type):\n",
    "    #determine type of operation on the explanation object\n",
    "    if viz_type=='mean':\n",
    "        compute_shap=copy.copy(shap_values_multiclass.mean(0))\n",
    "    if viz_type=='sum':\n",
    "        compute_shap=copy.copy(shap_values_multiclass.sum(0))\n",
    "    if viz_type=='abs_mean':\n",
    "        compute_shap=copy.copy(shap_values_multiclass.abs.sum(0))\n",
    "    if viz_type=='abs_sum':\n",
    "        compute_shap=copy.copy(shap_values_multiclass.abs.sum(0))\n",
    "    #create a mask to visualize either positively or negatively contributing features\n",
    "    if mask_type=='pos':\n",
    "        mask=compute_shap.values[:,class_index]>=0\n",
    "    else:\n",
    "        mask=compute_shap.values[:,class_index]<=0\n",
    "    #slice values related to a given class\n",
    "    compute_shap.values=compute_shap.values[:,class_index][mask]\n",
    "    compute_shap.feature_names=list(np.array(compute_shap.feature_names)[mask])\n",
    "    #plot\n",
    "    shap.plots.bar(compute_shap.abs,order=shap.Explanation.identity)"
   ]
  },
  {
   "cell_type": "code",
   "execution_count": 24,
   "metadata": {},
   "outputs": [
    {
     "output_type": "display_data",
     "data": {
      "text/plain": "<Figure size 576x468 with 1 Axes>",
      "image/svg+xml": "<?xml version=\"1.0\" encoding=\"utf-8\" standalone=\"no\"?>\r\n<!DOCTYPE svg PUBLIC \"-//W3C//DTD SVG 1.1//EN\"\r\n  \"http://www.w3.org/Graphics/SVG/1.1/DTD/svg11.dtd\">\r\n<!-- Created with matplotlib (https://matplotlib.org/) -->\r\n<svg height=\"402.385938pt\" version=\"1.1\" viewBox=\"0 0 670.36877 402.385938\" width=\"670.36877pt\" xmlns=\"http://www.w3.org/2000/svg\" xmlns:xlink=\"http://www.w3.org/1999/xlink\">\r\n <metadata>\r\n  <rdf:RDF xmlns:cc=\"http://creativecommons.org/ns#\" xmlns:dc=\"http://purl.org/dc/elements/1.1/\" xmlns:rdf=\"http://www.w3.org/1999/02/22-rdf-syntax-ns#\">\r\n   <cc:Work>\r\n    <dc:type rdf:resource=\"http://purl.org/dc/dcmitype/StillImage\"/>\r\n    <dc:date>2020-10-28T09:02:13.029024</dc:date>\r\n    <dc:format>image/svg+xml</dc:format>\r\n    <dc:creator>\r\n     <cc:Agent>\r\n      <dc:title>Matplotlib v3.3.1, https://matplotlib.org/</dc:title>\r\n     </cc:Agent>\r\n    </dc:creator>\r\n   </cc:Work>\r\n  </rdf:RDF>\r\n </metadata>\r\n <defs>\r\n  <style type=\"text/css\">*{stroke-linecap:butt;stroke-linejoin:round;}</style>\r\n </defs>\r\n <g id=\"figure_1\">\r\n  <g id=\"patch_1\">\r\n   <path d=\"M 0 402.385938 \r\nL 670.36877 402.385938 \r\nL 670.36877 0 \r\nL 0 0 \r\nz\r\n\" style=\"fill:none;\"/>\r\n  </g>\r\n  <g id=\"axes_1\">\r\n   <g id=\"patch_2\">\r\n    <path d=\"M 193.829531 360.54 \r\nL 640.229531 360.54 \r\nL 640.229531 7.2 \r\nL 193.829531 7.2 \r\nz\r\n\" style=\"fill:#ffffff;\"/>\r\n   </g>\r\n   <g id=\"line2d_1\">\r\n    <path clip-path=\"url(#pea21b1310f)\" d=\"M 193.829531 332.888744 \r\nL 640.229531 332.888744 \r\n\" style=\"fill:none;stroke:#888888;stroke-dasharray:0.5,2.5;stroke-dashoffset:0;stroke-width:0.5;\"/>\r\n   </g>\r\n   <g id=\"line2d_2\">\r\n    <path clip-path=\"url(#pea21b1310f)\" d=\"M 193.829531 299.773468 \r\nL 640.229531 299.773468 \r\n\" style=\"fill:none;stroke:#888888;stroke-dasharray:0.5,2.5;stroke-dashoffset:0;stroke-width:0.5;\"/>\r\n   </g>\r\n   <g id=\"line2d_3\">\r\n    <path clip-path=\"url(#pea21b1310f)\" d=\"M 193.829531 266.658191 \r\nL 640.229531 266.658191 \r\n\" style=\"fill:none;stroke:#888888;stroke-dasharray:0.5,2.5;stroke-dashoffset:0;stroke-width:0.5;\"/>\r\n   </g>\r\n   <g id=\"line2d_4\">\r\n    <path clip-path=\"url(#pea21b1310f)\" d=\"M 193.829531 233.542915 \r\nL 640.229531 233.542915 \r\n\" style=\"fill:none;stroke:#888888;stroke-dasharray:0.5,2.5;stroke-dashoffset:0;stroke-width:0.5;\"/>\r\n   </g>\r\n   <g id=\"line2d_5\">\r\n    <path clip-path=\"url(#pea21b1310f)\" d=\"M 193.829531 200.427638 \r\nL 640.229531 200.427638 \r\n\" style=\"fill:none;stroke:#888888;stroke-dasharray:0.5,2.5;stroke-dashoffset:0;stroke-width:0.5;\"/>\r\n   </g>\r\n   <g id=\"line2d_6\">\r\n    <path clip-path=\"url(#pea21b1310f)\" d=\"M 193.829531 167.312362 \r\nL 640.229531 167.312362 \r\n\" style=\"fill:none;stroke:#888888;stroke-dasharray:0.5,2.5;stroke-dashoffset:0;stroke-width:0.5;\"/>\r\n   </g>\r\n   <g id=\"line2d_7\">\r\n    <path clip-path=\"url(#pea21b1310f)\" d=\"M 193.829531 134.197085 \r\nL 640.229531 134.197085 \r\n\" style=\"fill:none;stroke:#888888;stroke-dasharray:0.5,2.5;stroke-dashoffset:0;stroke-width:0.5;\"/>\r\n   </g>\r\n   <g id=\"line2d_8\">\r\n    <path clip-path=\"url(#pea21b1310f)\" d=\"M 193.829531 101.081809 \r\nL 640.229531 101.081809 \r\n\" style=\"fill:none;stroke:#888888;stroke-dasharray:0.5,2.5;stroke-dashoffset:0;stroke-width:0.5;\"/>\r\n   </g>\r\n   <g id=\"line2d_9\">\r\n    <path clip-path=\"url(#pea21b1310f)\" d=\"M 193.829531 67.966532 \r\nL 640.229531 67.966532 \r\n\" style=\"fill:none;stroke:#888888;stroke-dasharray:0.5,2.5;stroke-dashoffset:0;stroke-width:0.5;\"/>\r\n   </g>\r\n   <g id=\"line2d_10\">\r\n    <path clip-path=\"url(#pea21b1310f)\" d=\"M 193.829531 34.851256 \r\nL 640.229531 34.851256 \r\n\" style=\"fill:none;stroke:#888888;stroke-dasharray:0.5,2.5;stroke-dashoffset:0;stroke-width:0.5;\"/>\r\n   </g>\r\n   <g id=\"patch_3\">\r\n    <path clip-path=\"url(#pea21b1310f)\" d=\"M 193.829531 46.441603 \r\nL 196.215587 46.441603 \r\nL 196.215587 23.260909 \r\nL 193.829531 23.260909 \r\nz\r\n\" style=\"fill:#ff0051;stroke:#ffffff;stroke-linejoin:miter;stroke-opacity:0.8;\"/>\r\n   </g>\r\n   <g id=\"patch_4\">\r\n    <path clip-path=\"url(#pea21b1310f)\" d=\"M 193.829531 79.556879 \r\nL 196.02524 79.556879 \r\nL 196.02524 56.376186 \r\nL 193.829531 56.376186 \r\nz\r\n\" style=\"fill:#ff0051;stroke:#ffffff;stroke-linejoin:miter;stroke-opacity:0.8;\"/>\r\n   </g>\r\n   <g id=\"patch_5\">\r\n    <path clip-path=\"url(#pea21b1310f)\" d=\"M 193.829531 112.672156 \r\nL 195.964279 112.672156 \r\nL 195.964279 89.491462 \r\nL 193.829531 89.491462 \r\nz\r\n\" style=\"fill:#ff0051;stroke:#ffffff;stroke-linejoin:miter;stroke-opacity:0.8;\"/>\r\n   </g>\r\n   <g id=\"patch_6\">\r\n    <path clip-path=\"url(#pea21b1310f)\" d=\"M 193.829531 145.787432 \r\nL 195.924299 145.787432 \r\nL 195.924299 122.606739 \r\nL 193.829531 122.606739 \r\nz\r\n\" style=\"fill:#ff0051;stroke:#ffffff;stroke-linejoin:miter;stroke-opacity:0.8;\"/>\r\n   </g>\r\n   <g id=\"patch_7\">\r\n    <path clip-path=\"url(#pea21b1310f)\" d=\"M 193.829531 178.902709 \r\nL 195.869542 178.902709 \r\nL 195.869542 155.722015 \r\nL 193.829531 155.722015 \r\nz\r\n\" style=\"fill:#ff0051;stroke:#ffffff;stroke-linejoin:miter;stroke-opacity:0.8;\"/>\r\n   </g>\r\n   <g id=\"patch_8\">\r\n    <path clip-path=\"url(#pea21b1310f)\" d=\"M 193.829531 212.017985 \r\nL 195.79962 212.017985 \r\nL 195.79962 188.837291 \r\nL 193.829531 188.837291 \r\nz\r\n\" style=\"fill:#ff0051;stroke:#ffffff;stroke-linejoin:miter;stroke-opacity:0.8;\"/>\r\n   </g>\r\n   <g id=\"patch_9\">\r\n    <path clip-path=\"url(#pea21b1310f)\" d=\"M 193.829531 245.133261 \r\nL 195.766719 245.133261 \r\nL 195.766719 221.952568 \r\nL 193.829531 221.952568 \r\nz\r\n\" style=\"fill:#ff0051;stroke:#ffffff;stroke-linejoin:miter;stroke-opacity:0.8;\"/>\r\n   </g>\r\n   <g id=\"patch_10\">\r\n    <path clip-path=\"url(#pea21b1310f)\" d=\"M 193.829531 278.248538 \r\nL 195.753821 278.248538 \r\nL 195.753821 255.067844 \r\nL 193.829531 255.067844 \r\nz\r\n\" style=\"fill:#ff0051;stroke:#ffffff;stroke-linejoin:miter;stroke-opacity:0.8;\"/>\r\n   </g>\r\n   <g id=\"patch_11\">\r\n    <path clip-path=\"url(#pea21b1310f)\" d=\"M 193.829531 311.363814 \r\nL 195.680347 311.363814 \r\nL 195.680347 288.183121 \r\nL 193.829531 288.183121 \r\nz\r\n\" style=\"fill:#ff0051;stroke:#ffffff;stroke-linejoin:miter;stroke-opacity:0.8;\"/>\r\n   </g>\r\n   <g id=\"patch_12\">\r\n    <path clip-path=\"url(#pea21b1310f)\" d=\"M 193.829531 344.479091 \r\nL 598.72749 344.479091 \r\nL 598.72749 321.298397 \r\nL 193.829531 321.298397 \r\nz\r\n\" style=\"fill:#ff0051;stroke:#ffffff;stroke-linejoin:miter;stroke-opacity:0.8;\"/>\r\n   </g>\r\n   <g id=\"matplotlib.axis_1\">\r\n    <g id=\"xtick_1\">\r\n     <g id=\"line2d_11\">\r\n      <defs>\r\n       <path d=\"M 0 0 \r\nL 0 3.5 \r\n\" id=\"m2a13766869\" style=\"stroke:#000000;stroke-width:0.8;\"/>\r\n      </defs>\r\n      <g>\r\n       <use style=\"stroke:#000000;stroke-width:0.8;\" x=\"193.829531\" xlink:href=\"#m2a13766869\" y=\"360.54\"/>\r\n      </g>\r\n     </g>\r\n     <g id=\"text_1\">\r\n      <!-- 0 -->\r\n      <g transform=\"translate(190.330156 375.898281)scale(0.11 -0.11)\">\r\n       <defs>\r\n        <path d=\"M 31.78125 66.40625 \r\nQ 24.171875 66.40625 20.328125 58.90625 \r\nQ 16.5 51.421875 16.5 36.375 \r\nQ 16.5 21.390625 20.328125 13.890625 \r\nQ 24.171875 6.390625 31.78125 6.390625 \r\nQ 39.453125 6.390625 43.28125 13.890625 \r\nQ 47.125 21.390625 47.125 36.375 \r\nQ 47.125 51.421875 43.28125 58.90625 \r\nQ 39.453125 66.40625 31.78125 66.40625 \r\nz\r\nM 31.78125 74.21875 \r\nQ 44.046875 74.21875 50.515625 64.515625 \r\nQ 56.984375 54.828125 56.984375 36.375 \r\nQ 56.984375 17.96875 50.515625 8.265625 \r\nQ 44.046875 -1.421875 31.78125 -1.421875 \r\nQ 19.53125 -1.421875 13.0625 8.265625 \r\nQ 6.59375 17.96875 6.59375 36.375 \r\nQ 6.59375 54.828125 13.0625 64.515625 \r\nQ 19.53125 74.21875 31.78125 74.21875 \r\nz\r\n\" id=\"DejaVuSans-48\"/>\r\n       </defs>\r\n       <use xlink:href=\"#DejaVuSans-48\"/>\r\n      </g>\r\n     </g>\r\n    </g>\r\n    <g id=\"xtick_2\">\r\n     <g id=\"line2d_12\">\r\n      <g>\r\n       <use style=\"stroke:#000000;stroke-width:0.8;\" x=\"250.656495\" xlink:href=\"#m2a13766869\" y=\"360.54\"/>\r\n      </g>\r\n     </g>\r\n     <g id=\"text_2\">\r\n      <!-- 200 -->\r\n      <g transform=\"translate(240.15837 375.898281)scale(0.11 -0.11)\">\r\n       <defs>\r\n        <path d=\"M 19.1875 8.296875 \r\nL 53.609375 8.296875 \r\nL 53.609375 0 \r\nL 7.328125 0 \r\nL 7.328125 8.296875 \r\nQ 12.9375 14.109375 22.625 23.890625 \r\nQ 32.328125 33.6875 34.8125 36.53125 \r\nQ 39.546875 41.84375 41.421875 45.53125 \r\nQ 43.3125 49.21875 43.3125 52.78125 \r\nQ 43.3125 58.59375 39.234375 62.25 \r\nQ 35.15625 65.921875 28.609375 65.921875 \r\nQ 23.96875 65.921875 18.8125 64.3125 \r\nQ 13.671875 62.703125 7.8125 59.421875 \r\nL 7.8125 69.390625 \r\nQ 13.765625 71.78125 18.9375 73 \r\nQ 24.125 74.21875 28.421875 74.21875 \r\nQ 39.75 74.21875 46.484375 68.546875 \r\nQ 53.21875 62.890625 53.21875 53.421875 \r\nQ 53.21875 48.921875 51.53125 44.890625 \r\nQ 49.859375 40.875 45.40625 35.40625 \r\nQ 44.1875 33.984375 37.640625 27.21875 \r\nQ 31.109375 20.453125 19.1875 8.296875 \r\nz\r\n\" id=\"DejaVuSans-50\"/>\r\n       </defs>\r\n       <use xlink:href=\"#DejaVuSans-50\"/>\r\n       <use x=\"63.623047\" xlink:href=\"#DejaVuSans-48\"/>\r\n       <use x=\"127.246094\" xlink:href=\"#DejaVuSans-48\"/>\r\n      </g>\r\n     </g>\r\n    </g>\r\n    <g id=\"xtick_3\">\r\n     <g id=\"line2d_13\">\r\n      <g>\r\n       <use style=\"stroke:#000000;stroke-width:0.8;\" x=\"307.48346\" xlink:href=\"#m2a13766869\" y=\"360.54\"/>\r\n      </g>\r\n     </g>\r\n     <g id=\"text_3\">\r\n      <!-- 400 -->\r\n      <g transform=\"translate(296.985335 375.898281)scale(0.11 -0.11)\">\r\n       <defs>\r\n        <path d=\"M 37.796875 64.3125 \r\nL 12.890625 25.390625 \r\nL 37.796875 25.390625 \r\nz\r\nM 35.203125 72.90625 \r\nL 47.609375 72.90625 \r\nL 47.609375 25.390625 \r\nL 58.015625 25.390625 \r\nL 58.015625 17.1875 \r\nL 47.609375 17.1875 \r\nL 47.609375 0 \r\nL 37.796875 0 \r\nL 37.796875 17.1875 \r\nL 4.890625 17.1875 \r\nL 4.890625 26.703125 \r\nz\r\n\" id=\"DejaVuSans-52\"/>\r\n       </defs>\r\n       <use xlink:href=\"#DejaVuSans-52\"/>\r\n       <use x=\"63.623047\" xlink:href=\"#DejaVuSans-48\"/>\r\n       <use x=\"127.246094\" xlink:href=\"#DejaVuSans-48\"/>\r\n      </g>\r\n     </g>\r\n    </g>\r\n    <g id=\"xtick_4\">\r\n     <g id=\"line2d_14\">\r\n      <g>\r\n       <use style=\"stroke:#000000;stroke-width:0.8;\" x=\"364.310424\" xlink:href=\"#m2a13766869\" y=\"360.54\"/>\r\n      </g>\r\n     </g>\r\n     <g id=\"text_4\">\r\n      <!-- 600 -->\r\n      <g transform=\"translate(353.812299 375.898281)scale(0.11 -0.11)\">\r\n       <defs>\r\n        <path d=\"M 33.015625 40.375 \r\nQ 26.375 40.375 22.484375 35.828125 \r\nQ 18.609375 31.296875 18.609375 23.390625 \r\nQ 18.609375 15.53125 22.484375 10.953125 \r\nQ 26.375 6.390625 33.015625 6.390625 \r\nQ 39.65625 6.390625 43.53125 10.953125 \r\nQ 47.40625 15.53125 47.40625 23.390625 \r\nQ 47.40625 31.296875 43.53125 35.828125 \r\nQ 39.65625 40.375 33.015625 40.375 \r\nz\r\nM 52.59375 71.296875 \r\nL 52.59375 62.3125 \r\nQ 48.875 64.0625 45.09375 64.984375 \r\nQ 41.3125 65.921875 37.59375 65.921875 \r\nQ 27.828125 65.921875 22.671875 59.328125 \r\nQ 17.53125 52.734375 16.796875 39.40625 \r\nQ 19.671875 43.65625 24.015625 45.921875 \r\nQ 28.375 48.1875 33.59375 48.1875 \r\nQ 44.578125 48.1875 50.953125 41.515625 \r\nQ 57.328125 34.859375 57.328125 23.390625 \r\nQ 57.328125 12.15625 50.6875 5.359375 \r\nQ 44.046875 -1.421875 33.015625 -1.421875 \r\nQ 20.359375 -1.421875 13.671875 8.265625 \r\nQ 6.984375 17.96875 6.984375 36.375 \r\nQ 6.984375 53.65625 15.1875 63.9375 \r\nQ 23.390625 74.21875 37.203125 74.21875 \r\nQ 40.921875 74.21875 44.703125 73.484375 \r\nQ 48.484375 72.75 52.59375 71.296875 \r\nz\r\n\" id=\"DejaVuSans-54\"/>\r\n       </defs>\r\n       <use xlink:href=\"#DejaVuSans-54\"/>\r\n       <use x=\"63.623047\" xlink:href=\"#DejaVuSans-48\"/>\r\n       <use x=\"127.246094\" xlink:href=\"#DejaVuSans-48\"/>\r\n      </g>\r\n     </g>\r\n    </g>\r\n    <g id=\"xtick_5\">\r\n     <g id=\"line2d_15\">\r\n      <g>\r\n       <use style=\"stroke:#000000;stroke-width:0.8;\" x=\"421.137388\" xlink:href=\"#m2a13766869\" y=\"360.54\"/>\r\n      </g>\r\n     </g>\r\n     <g id=\"text_5\">\r\n      <!-- 800 -->\r\n      <g transform=\"translate(410.639263 375.898281)scale(0.11 -0.11)\">\r\n       <defs>\r\n        <path d=\"M 31.78125 34.625 \r\nQ 24.75 34.625 20.71875 30.859375 \r\nQ 16.703125 27.09375 16.703125 20.515625 \r\nQ 16.703125 13.921875 20.71875 10.15625 \r\nQ 24.75 6.390625 31.78125 6.390625 \r\nQ 38.8125 6.390625 42.859375 10.171875 \r\nQ 46.921875 13.96875 46.921875 20.515625 \r\nQ 46.921875 27.09375 42.890625 30.859375 \r\nQ 38.875 34.625 31.78125 34.625 \r\nz\r\nM 21.921875 38.8125 \r\nQ 15.578125 40.375 12.03125 44.71875 \r\nQ 8.5 49.078125 8.5 55.328125 \r\nQ 8.5 64.0625 14.71875 69.140625 \r\nQ 20.953125 74.21875 31.78125 74.21875 \r\nQ 42.671875 74.21875 48.875 69.140625 \r\nQ 55.078125 64.0625 55.078125 55.328125 \r\nQ 55.078125 49.078125 51.53125 44.71875 \r\nQ 48 40.375 41.703125 38.8125 \r\nQ 48.828125 37.15625 52.796875 32.3125 \r\nQ 56.78125 27.484375 56.78125 20.515625 \r\nQ 56.78125 9.90625 50.3125 4.234375 \r\nQ 43.84375 -1.421875 31.78125 -1.421875 \r\nQ 19.734375 -1.421875 13.25 4.234375 \r\nQ 6.78125 9.90625 6.78125 20.515625 \r\nQ 6.78125 27.484375 10.78125 32.3125 \r\nQ 14.796875 37.15625 21.921875 38.8125 \r\nz\r\nM 18.3125 54.390625 \r\nQ 18.3125 48.734375 21.84375 45.5625 \r\nQ 25.390625 42.390625 31.78125 42.390625 \r\nQ 38.140625 42.390625 41.71875 45.5625 \r\nQ 45.3125 48.734375 45.3125 54.390625 \r\nQ 45.3125 60.0625 41.71875 63.234375 \r\nQ 38.140625 66.40625 31.78125 66.40625 \r\nQ 25.390625 66.40625 21.84375 63.234375 \r\nQ 18.3125 60.0625 18.3125 54.390625 \r\nz\r\n\" id=\"DejaVuSans-56\"/>\r\n       </defs>\r\n       <use xlink:href=\"#DejaVuSans-56\"/>\r\n       <use x=\"63.623047\" xlink:href=\"#DejaVuSans-48\"/>\r\n       <use x=\"127.246094\" xlink:href=\"#DejaVuSans-48\"/>\r\n      </g>\r\n     </g>\r\n    </g>\r\n    <g id=\"xtick_6\">\r\n     <g id=\"line2d_16\">\r\n      <g>\r\n       <use style=\"stroke:#000000;stroke-width:0.8;\" x=\"477.964352\" xlink:href=\"#m2a13766869\" y=\"360.54\"/>\r\n      </g>\r\n     </g>\r\n     <g id=\"text_6\">\r\n      <!-- 1000 -->\r\n      <g transform=\"translate(463.966852 375.898281)scale(0.11 -0.11)\">\r\n       <defs>\r\n        <path d=\"M 12.40625 8.296875 \r\nL 28.515625 8.296875 \r\nL 28.515625 63.921875 \r\nL 10.984375 60.40625 \r\nL 10.984375 69.390625 \r\nL 28.421875 72.90625 \r\nL 38.28125 72.90625 \r\nL 38.28125 8.296875 \r\nL 54.390625 8.296875 \r\nL 54.390625 0 \r\nL 12.40625 0 \r\nz\r\n\" id=\"DejaVuSans-49\"/>\r\n       </defs>\r\n       <use xlink:href=\"#DejaVuSans-49\"/>\r\n       <use x=\"63.623047\" xlink:href=\"#DejaVuSans-48\"/>\r\n       <use x=\"127.246094\" xlink:href=\"#DejaVuSans-48\"/>\r\n       <use x=\"190.869141\" xlink:href=\"#DejaVuSans-48\"/>\r\n      </g>\r\n     </g>\r\n    </g>\r\n    <g id=\"xtick_7\">\r\n     <g id=\"line2d_17\">\r\n      <g>\r\n       <use style=\"stroke:#000000;stroke-width:0.8;\" x=\"534.791316\" xlink:href=\"#m2a13766869\" y=\"360.54\"/>\r\n      </g>\r\n     </g>\r\n     <g id=\"text_7\">\r\n      <!-- 1200 -->\r\n      <g transform=\"translate(520.793816 375.898281)scale(0.11 -0.11)\">\r\n       <use xlink:href=\"#DejaVuSans-49\"/>\r\n       <use x=\"63.623047\" xlink:href=\"#DejaVuSans-50\"/>\r\n       <use x=\"127.246094\" xlink:href=\"#DejaVuSans-48\"/>\r\n       <use x=\"190.869141\" xlink:href=\"#DejaVuSans-48\"/>\r\n      </g>\r\n     </g>\r\n    </g>\r\n    <g id=\"xtick_8\">\r\n     <g id=\"line2d_18\">\r\n      <g>\r\n       <use style=\"stroke:#000000;stroke-width:0.8;\" x=\"591.61828\" xlink:href=\"#m2a13766869\" y=\"360.54\"/>\r\n      </g>\r\n     </g>\r\n     <g id=\"text_8\">\r\n      <!-- 1400 -->\r\n      <g transform=\"translate(577.62078 375.898281)scale(0.11 -0.11)\">\r\n       <use xlink:href=\"#DejaVuSans-49\"/>\r\n       <use x=\"63.623047\" xlink:href=\"#DejaVuSans-52\"/>\r\n       <use x=\"127.246094\" xlink:href=\"#DejaVuSans-48\"/>\r\n       <use x=\"190.869141\" xlink:href=\"#DejaVuSans-48\"/>\r\n      </g>\r\n     </g>\r\n    </g>\r\n    <g id=\"text_9\">\r\n     <!-- |mean(SHAP value)| -->\r\n     <g transform=\"translate(351.943203 392.120781)scale(0.13 -0.13)\">\r\n      <defs>\r\n       <path d=\"M 21 76.421875 \r\nL 21 -23.578125 \r\nL 12.703125 -23.578125 \r\nL 12.703125 76.421875 \r\nz\r\n\" id=\"DejaVuSans-124\"/>\r\n       <path d=\"M 52 44.1875 \r\nQ 55.375 50.25 60.0625 53.125 \r\nQ 64.75 56 71.09375 56 \r\nQ 79.640625 56 84.28125 50.015625 \r\nQ 88.921875 44.046875 88.921875 33.015625 \r\nL 88.921875 0 \r\nL 79.890625 0 \r\nL 79.890625 32.71875 \r\nQ 79.890625 40.578125 77.09375 44.375 \r\nQ 74.3125 48.1875 68.609375 48.1875 \r\nQ 61.625 48.1875 57.5625 43.546875 \r\nQ 53.515625 38.921875 53.515625 30.90625 \r\nL 53.515625 0 \r\nL 44.484375 0 \r\nL 44.484375 32.71875 \r\nQ 44.484375 40.625 41.703125 44.40625 \r\nQ 38.921875 48.1875 33.109375 48.1875 \r\nQ 26.21875 48.1875 22.15625 43.53125 \r\nQ 18.109375 38.875 18.109375 30.90625 \r\nL 18.109375 0 \r\nL 9.078125 0 \r\nL 9.078125 54.6875 \r\nL 18.109375 54.6875 \r\nL 18.109375 46.1875 \r\nQ 21.1875 51.21875 25.484375 53.609375 \r\nQ 29.78125 56 35.6875 56 \r\nQ 41.65625 56 45.828125 52.96875 \r\nQ 50 49.953125 52 44.1875 \r\nz\r\n\" id=\"DejaVuSans-109\"/>\r\n       <path d=\"M 56.203125 29.59375 \r\nL 56.203125 25.203125 \r\nL 14.890625 25.203125 \r\nQ 15.484375 15.921875 20.484375 11.0625 \r\nQ 25.484375 6.203125 34.421875 6.203125 \r\nQ 39.59375 6.203125 44.453125 7.46875 \r\nQ 49.3125 8.734375 54.109375 11.28125 \r\nL 54.109375 2.78125 \r\nQ 49.265625 0.734375 44.1875 -0.34375 \r\nQ 39.109375 -1.421875 33.890625 -1.421875 \r\nQ 20.796875 -1.421875 13.15625 6.1875 \r\nQ 5.515625 13.8125 5.515625 26.8125 \r\nQ 5.515625 40.234375 12.765625 48.109375 \r\nQ 20.015625 56 32.328125 56 \r\nQ 43.359375 56 49.78125 48.890625 \r\nQ 56.203125 41.796875 56.203125 29.59375 \r\nz\r\nM 47.21875 32.234375 \r\nQ 47.125 39.59375 43.09375 43.984375 \r\nQ 39.0625 48.390625 32.421875 48.390625 \r\nQ 24.90625 48.390625 20.390625 44.140625 \r\nQ 15.875 39.890625 15.1875 32.171875 \r\nz\r\n\" id=\"DejaVuSans-101\"/>\r\n       <path d=\"M 34.28125 27.484375 \r\nQ 23.390625 27.484375 19.1875 25 \r\nQ 14.984375 22.515625 14.984375 16.5 \r\nQ 14.984375 11.71875 18.140625 8.90625 \r\nQ 21.296875 6.109375 26.703125 6.109375 \r\nQ 34.1875 6.109375 38.703125 11.40625 \r\nQ 43.21875 16.703125 43.21875 25.484375 \r\nL 43.21875 27.484375 \r\nz\r\nM 52.203125 31.203125 \r\nL 52.203125 0 \r\nL 43.21875 0 \r\nL 43.21875 8.296875 \r\nQ 40.140625 3.328125 35.546875 0.953125 \r\nQ 30.953125 -1.421875 24.3125 -1.421875 \r\nQ 15.921875 -1.421875 10.953125 3.296875 \r\nQ 6 8.015625 6 15.921875 \r\nQ 6 25.140625 12.171875 29.828125 \r\nQ 18.359375 34.515625 30.609375 34.515625 \r\nL 43.21875 34.515625 \r\nL 43.21875 35.40625 \r\nQ 43.21875 41.609375 39.140625 45 \r\nQ 35.0625 48.390625 27.6875 48.390625 \r\nQ 23 48.390625 18.546875 47.265625 \r\nQ 14.109375 46.140625 10.015625 43.890625 \r\nL 10.015625 52.203125 \r\nQ 14.9375 54.109375 19.578125 55.046875 \r\nQ 24.21875 56 28.609375 56 \r\nQ 40.484375 56 46.34375 49.84375 \r\nQ 52.203125 43.703125 52.203125 31.203125 \r\nz\r\n\" id=\"DejaVuSans-97\"/>\r\n       <path d=\"M 54.890625 33.015625 \r\nL 54.890625 0 \r\nL 45.90625 0 \r\nL 45.90625 32.71875 \r\nQ 45.90625 40.484375 42.875 44.328125 \r\nQ 39.84375 48.1875 33.796875 48.1875 \r\nQ 26.515625 48.1875 22.3125 43.546875 \r\nQ 18.109375 38.921875 18.109375 30.90625 \r\nL 18.109375 0 \r\nL 9.078125 0 \r\nL 9.078125 54.6875 \r\nL 18.109375 54.6875 \r\nL 18.109375 46.1875 \r\nQ 21.34375 51.125 25.703125 53.5625 \r\nQ 30.078125 56 35.796875 56 \r\nQ 45.21875 56 50.046875 50.171875 \r\nQ 54.890625 44.34375 54.890625 33.015625 \r\nz\r\n\" id=\"DejaVuSans-110\"/>\r\n       <path d=\"M 31 75.875 \r\nQ 24.46875 64.65625 21.28125 53.65625 \r\nQ 18.109375 42.671875 18.109375 31.390625 \r\nQ 18.109375 20.125 21.3125 9.0625 \r\nQ 24.515625 -2 31 -13.1875 \r\nL 23.1875 -13.1875 \r\nQ 15.875 -1.703125 12.234375 9.375 \r\nQ 8.59375 20.453125 8.59375 31.390625 \r\nQ 8.59375 42.28125 12.203125 53.3125 \r\nQ 15.828125 64.359375 23.1875 75.875 \r\nz\r\n\" id=\"DejaVuSans-40\"/>\r\n       <path d=\"M 53.515625 70.515625 \r\nL 53.515625 60.890625 \r\nQ 47.90625 63.578125 42.921875 64.890625 \r\nQ 37.9375 66.21875 33.296875 66.21875 \r\nQ 25.25 66.21875 20.875 63.09375 \r\nQ 16.5 59.96875 16.5 54.203125 \r\nQ 16.5 49.359375 19.40625 46.890625 \r\nQ 22.3125 44.4375 30.421875 42.921875 \r\nL 36.375 41.703125 \r\nQ 47.40625 39.59375 52.65625 34.296875 \r\nQ 57.90625 29 57.90625 20.125 \r\nQ 57.90625 9.515625 50.796875 4.046875 \r\nQ 43.703125 -1.421875 29.984375 -1.421875 \r\nQ 24.8125 -1.421875 18.96875 -0.25 \r\nQ 13.140625 0.921875 6.890625 3.21875 \r\nL 6.890625 13.375 \r\nQ 12.890625 10.015625 18.65625 8.296875 \r\nQ 24.421875 6.59375 29.984375 6.59375 \r\nQ 38.421875 6.59375 43.015625 9.90625 \r\nQ 47.609375 13.234375 47.609375 19.390625 \r\nQ 47.609375 24.75 44.3125 27.78125 \r\nQ 41.015625 30.8125 33.5 32.328125 \r\nL 27.484375 33.5 \r\nQ 16.453125 35.6875 11.515625 40.375 \r\nQ 6.59375 45.0625 6.59375 53.421875 \r\nQ 6.59375 63.09375 13.40625 68.65625 \r\nQ 20.21875 74.21875 32.171875 74.21875 \r\nQ 37.3125 74.21875 42.625 73.28125 \r\nQ 47.953125 72.359375 53.515625 70.515625 \r\nz\r\n\" id=\"DejaVuSans-83\"/>\r\n       <path d=\"M 9.8125 72.90625 \r\nL 19.671875 72.90625 \r\nL 19.671875 43.015625 \r\nL 55.515625 43.015625 \r\nL 55.515625 72.90625 \r\nL 65.375 72.90625 \r\nL 65.375 0 \r\nL 55.515625 0 \r\nL 55.515625 34.71875 \r\nL 19.671875 34.71875 \r\nL 19.671875 0 \r\nL 9.8125 0 \r\nz\r\n\" id=\"DejaVuSans-72\"/>\r\n       <path d=\"M 34.1875 63.1875 \r\nL 20.796875 26.90625 \r\nL 47.609375 26.90625 \r\nz\r\nM 28.609375 72.90625 \r\nL 39.796875 72.90625 \r\nL 67.578125 0 \r\nL 57.328125 0 \r\nL 50.6875 18.703125 \r\nL 17.828125 18.703125 \r\nL 11.1875 0 \r\nL 0.78125 0 \r\nz\r\n\" id=\"DejaVuSans-65\"/>\r\n       <path d=\"M 19.671875 64.796875 \r\nL 19.671875 37.40625 \r\nL 32.078125 37.40625 \r\nQ 38.96875 37.40625 42.71875 40.96875 \r\nQ 46.484375 44.53125 46.484375 51.125 \r\nQ 46.484375 57.671875 42.71875 61.234375 \r\nQ 38.96875 64.796875 32.078125 64.796875 \r\nz\r\nM 9.8125 72.90625 \r\nL 32.078125 72.90625 \r\nQ 44.34375 72.90625 50.609375 67.359375 \r\nQ 56.890625 61.8125 56.890625 51.125 \r\nQ 56.890625 40.328125 50.609375 34.8125 \r\nQ 44.34375 29.296875 32.078125 29.296875 \r\nL 19.671875 29.296875 \r\nL 19.671875 0 \r\nL 9.8125 0 \r\nz\r\n\" id=\"DejaVuSans-80\"/>\r\n       <path id=\"DejaVuSans-32\"/>\r\n       <path d=\"M 2.984375 54.6875 \r\nL 12.5 54.6875 \r\nL 29.59375 8.796875 \r\nL 46.6875 54.6875 \r\nL 56.203125 54.6875 \r\nL 35.6875 0 \r\nL 23.484375 0 \r\nz\r\n\" id=\"DejaVuSans-118\"/>\r\n       <path d=\"M 9.421875 75.984375 \r\nL 18.40625 75.984375 \r\nL 18.40625 0 \r\nL 9.421875 0 \r\nz\r\n\" id=\"DejaVuSans-108\"/>\r\n       <path d=\"M 8.5 21.578125 \r\nL 8.5 54.6875 \r\nL 17.484375 54.6875 \r\nL 17.484375 21.921875 \r\nQ 17.484375 14.15625 20.5 10.265625 \r\nQ 23.53125 6.390625 29.59375 6.390625 \r\nQ 36.859375 6.390625 41.078125 11.03125 \r\nQ 45.3125 15.671875 45.3125 23.6875 \r\nL 45.3125 54.6875 \r\nL 54.296875 54.6875 \r\nL 54.296875 0 \r\nL 45.3125 0 \r\nL 45.3125 8.40625 \r\nQ 42.046875 3.421875 37.71875 1 \r\nQ 33.40625 -1.421875 27.6875 -1.421875 \r\nQ 18.265625 -1.421875 13.375 4.4375 \r\nQ 8.5 10.296875 8.5 21.578125 \r\nz\r\nM 31.109375 56 \r\nz\r\n\" id=\"DejaVuSans-117\"/>\r\n       <path d=\"M 8.015625 75.875 \r\nL 15.828125 75.875 \r\nQ 23.140625 64.359375 26.78125 53.3125 \r\nQ 30.421875 42.28125 30.421875 31.390625 \r\nQ 30.421875 20.453125 26.78125 9.375 \r\nQ 23.140625 -1.703125 15.828125 -13.1875 \r\nL 8.015625 -13.1875 \r\nQ 14.5 -2 17.703125 9.0625 \r\nQ 20.90625 20.125 20.90625 31.390625 \r\nQ 20.90625 42.671875 17.703125 53.65625 \r\nQ 14.5 64.65625 8.015625 75.875 \r\nz\r\n\" id=\"DejaVuSans-41\"/>\r\n      </defs>\r\n      <use xlink:href=\"#DejaVuSans-124\"/>\r\n      <use x=\"33.691406\" xlink:href=\"#DejaVuSans-109\"/>\r\n      <use x=\"131.103516\" xlink:href=\"#DejaVuSans-101\"/>\r\n      <use x=\"192.626953\" xlink:href=\"#DejaVuSans-97\"/>\r\n      <use x=\"253.90625\" xlink:href=\"#DejaVuSans-110\"/>\r\n      <use x=\"317.285156\" xlink:href=\"#DejaVuSans-40\"/>\r\n      <use x=\"356.298828\" xlink:href=\"#DejaVuSans-83\"/>\r\n      <use x=\"419.775391\" xlink:href=\"#DejaVuSans-72\"/>\r\n      <use x=\"494.970703\" xlink:href=\"#DejaVuSans-65\"/>\r\n      <use x=\"563.378906\" xlink:href=\"#DejaVuSans-80\"/>\r\n      <use x=\"623.681641\" xlink:href=\"#DejaVuSans-32\"/>\r\n      <use x=\"655.46875\" xlink:href=\"#DejaVuSans-118\"/>\r\n      <use x=\"714.648438\" xlink:href=\"#DejaVuSans-97\"/>\r\n      <use x=\"775.927734\" xlink:href=\"#DejaVuSans-108\"/>\r\n      <use x=\"803.710938\" xlink:href=\"#DejaVuSans-117\"/>\r\n      <use x=\"867.089844\" xlink:href=\"#DejaVuSans-101\"/>\r\n      <use x=\"928.613281\" xlink:href=\"#DejaVuSans-41\"/>\r\n      <use x=\"967.626953\" xlink:href=\"#DejaVuSans-124\"/>\r\n     </g>\r\n    </g>\r\n   </g>\r\n   <g id=\"matplotlib.axis_2\">\r\n    <g id=\"ytick_1\">\r\n     <g id=\"text_10\">\r\n      <!-- canoe -->\r\n      <g style=\"fill:#999999;\" transform=\"translate(147.522812 39.79024)scale(0.13 -0.13)\">\r\n       <defs>\r\n        <path d=\"M 48.78125 52.59375 \r\nL 48.78125 44.1875 \r\nQ 44.96875 46.296875 41.140625 47.34375 \r\nQ 37.3125 48.390625 33.40625 48.390625 \r\nQ 24.65625 48.390625 19.8125 42.84375 \r\nQ 14.984375 37.3125 14.984375 27.296875 \r\nQ 14.984375 17.28125 19.8125 11.734375 \r\nQ 24.65625 6.203125 33.40625 6.203125 \r\nQ 37.3125 6.203125 41.140625 7.25 \r\nQ 44.96875 8.296875 48.78125 10.40625 \r\nL 48.78125 2.09375 \r\nQ 45.015625 0.34375 40.984375 -0.53125 \r\nQ 36.96875 -1.421875 32.421875 -1.421875 \r\nQ 20.0625 -1.421875 12.78125 6.34375 \r\nQ 5.515625 14.109375 5.515625 27.296875 \r\nQ 5.515625 40.671875 12.859375 48.328125 \r\nQ 20.21875 56 33.015625 56 \r\nQ 37.15625 56 41.109375 55.140625 \r\nQ 45.0625 54.296875 48.78125 52.59375 \r\nz\r\n\" id=\"DejaVuSans-99\"/>\r\n        <path d=\"M 30.609375 48.390625 \r\nQ 23.390625 48.390625 19.1875 42.75 \r\nQ 14.984375 37.109375 14.984375 27.296875 \r\nQ 14.984375 17.484375 19.15625 11.84375 \r\nQ 23.34375 6.203125 30.609375 6.203125 \r\nQ 37.796875 6.203125 41.984375 11.859375 \r\nQ 46.1875 17.53125 46.1875 27.296875 \r\nQ 46.1875 37.015625 41.984375 42.703125 \r\nQ 37.796875 48.390625 30.609375 48.390625 \r\nz\r\nM 30.609375 56 \r\nQ 42.328125 56 49.015625 48.375 \r\nQ 55.71875 40.765625 55.71875 27.296875 \r\nQ 55.71875 13.875 49.015625 6.21875 \r\nQ 42.328125 -1.421875 30.609375 -1.421875 \r\nQ 18.84375 -1.421875 12.171875 6.21875 \r\nQ 5.515625 13.875 5.515625 27.296875 \r\nQ 5.515625 40.765625 12.171875 48.375 \r\nQ 18.84375 56 30.609375 56 \r\nz\r\n\" id=\"DejaVuSans-111\"/>\r\n       </defs>\r\n       <use xlink:href=\"#DejaVuSans-99\"/>\r\n       <use x=\"54.980469\" xlink:href=\"#DejaVuSans-97\"/>\r\n       <use x=\"116.259766\" xlink:href=\"#DejaVuSans-110\"/>\r\n       <use x=\"179.638672\" xlink:href=\"#DejaVuSans-111\"/>\r\n       <use x=\"240.820312\" xlink:href=\"#DejaVuSans-101\"/>\r\n      </g>\r\n     </g>\r\n    </g>\r\n    <g id=\"ytick_2\">\r\n     <g id=\"text_11\">\r\n      <!-- gorilla -->\r\n      <g style=\"fill:#999999;\" transform=\"translate(146.476719 72.905517)scale(0.13 -0.13)\">\r\n       <defs>\r\n        <path d=\"M 45.40625 27.984375 \r\nQ 45.40625 37.75 41.375 43.109375 \r\nQ 37.359375 48.484375 30.078125 48.484375 \r\nQ 22.859375 48.484375 18.828125 43.109375 \r\nQ 14.796875 37.75 14.796875 27.984375 \r\nQ 14.796875 18.265625 18.828125 12.890625 \r\nQ 22.859375 7.515625 30.078125 7.515625 \r\nQ 37.359375 7.515625 41.375 12.890625 \r\nQ 45.40625 18.265625 45.40625 27.984375 \r\nz\r\nM 54.390625 6.78125 \r\nQ 54.390625 -7.171875 48.1875 -13.984375 \r\nQ 42 -20.796875 29.203125 -20.796875 \r\nQ 24.46875 -20.796875 20.265625 -20.09375 \r\nQ 16.0625 -19.390625 12.109375 -17.921875 \r\nL 12.109375 -9.1875 \r\nQ 16.0625 -11.328125 19.921875 -12.34375 \r\nQ 23.78125 -13.375 27.78125 -13.375 \r\nQ 36.625 -13.375 41.015625 -8.765625 \r\nQ 45.40625 -4.15625 45.40625 5.171875 \r\nL 45.40625 9.625 \r\nQ 42.625 4.78125 38.28125 2.390625 \r\nQ 33.9375 0 27.875 0 \r\nQ 17.828125 0 11.671875 7.65625 \r\nQ 5.515625 15.328125 5.515625 27.984375 \r\nQ 5.515625 40.671875 11.671875 48.328125 \r\nQ 17.828125 56 27.875 56 \r\nQ 33.9375 56 38.28125 53.609375 \r\nQ 42.625 51.21875 45.40625 46.390625 \r\nL 45.40625 54.6875 \r\nL 54.390625 54.6875 \r\nz\r\n\" id=\"DejaVuSans-103\"/>\r\n        <path d=\"M 41.109375 46.296875 \r\nQ 39.59375 47.171875 37.8125 47.578125 \r\nQ 36.03125 48 33.890625 48 \r\nQ 26.265625 48 22.1875 43.046875 \r\nQ 18.109375 38.09375 18.109375 28.8125 \r\nL 18.109375 0 \r\nL 9.078125 0 \r\nL 9.078125 54.6875 \r\nL 18.109375 54.6875 \r\nL 18.109375 46.1875 \r\nQ 20.953125 51.171875 25.484375 53.578125 \r\nQ 30.03125 56 36.53125 56 \r\nQ 37.453125 56 38.578125 55.875 \r\nQ 39.703125 55.765625 41.0625 55.515625 \r\nz\r\n\" id=\"DejaVuSans-114\"/>\r\n        <path d=\"M 9.421875 54.6875 \r\nL 18.40625 54.6875 \r\nL 18.40625 0 \r\nL 9.421875 0 \r\nz\r\nM 9.421875 75.984375 \r\nL 18.40625 75.984375 \r\nL 18.40625 64.59375 \r\nL 9.421875 64.59375 \r\nz\r\n\" id=\"DejaVuSans-105\"/>\r\n       </defs>\r\n       <use xlink:href=\"#DejaVuSans-103\"/>\r\n       <use x=\"63.476562\" xlink:href=\"#DejaVuSans-111\"/>\r\n       <use x=\"124.658203\" xlink:href=\"#DejaVuSans-114\"/>\r\n       <use x=\"165.771484\" xlink:href=\"#DejaVuSans-105\"/>\r\n       <use x=\"193.554688\" xlink:href=\"#DejaVuSans-108\"/>\r\n       <use x=\"221.337891\" xlink:href=\"#DejaVuSans-108\"/>\r\n       <use x=\"249.121094\" xlink:href=\"#DejaVuSans-97\"/>\r\n      </g>\r\n     </g>\r\n    </g>\r\n    <g id=\"ytick_3\">\r\n     <g id=\"text_12\">\r\n      <!-- elephant -->\r\n      <g style=\"fill:#999999;\" transform=\"translate(129.426406 106.020793)scale(0.13 -0.13)\">\r\n       <defs>\r\n        <path d=\"M 18.109375 8.203125 \r\nL 18.109375 -20.796875 \r\nL 9.078125 -20.796875 \r\nL 9.078125 54.6875 \r\nL 18.109375 54.6875 \r\nL 18.109375 46.390625 \r\nQ 20.953125 51.265625 25.265625 53.625 \r\nQ 29.59375 56 35.59375 56 \r\nQ 45.5625 56 51.78125 48.09375 \r\nQ 58.015625 40.1875 58.015625 27.296875 \r\nQ 58.015625 14.40625 51.78125 6.484375 \r\nQ 45.5625 -1.421875 35.59375 -1.421875 \r\nQ 29.59375 -1.421875 25.265625 0.953125 \r\nQ 20.953125 3.328125 18.109375 8.203125 \r\nz\r\nM 48.6875 27.296875 \r\nQ 48.6875 37.203125 44.609375 42.84375 \r\nQ 40.53125 48.484375 33.40625 48.484375 \r\nQ 26.265625 48.484375 22.1875 42.84375 \r\nQ 18.109375 37.203125 18.109375 27.296875 \r\nQ 18.109375 17.390625 22.1875 11.75 \r\nQ 26.265625 6.109375 33.40625 6.109375 \r\nQ 40.53125 6.109375 44.609375 11.75 \r\nQ 48.6875 17.390625 48.6875 27.296875 \r\nz\r\n\" id=\"DejaVuSans-112\"/>\r\n        <path d=\"M 54.890625 33.015625 \r\nL 54.890625 0 \r\nL 45.90625 0 \r\nL 45.90625 32.71875 \r\nQ 45.90625 40.484375 42.875 44.328125 \r\nQ 39.84375 48.1875 33.796875 48.1875 \r\nQ 26.515625 48.1875 22.3125 43.546875 \r\nQ 18.109375 38.921875 18.109375 30.90625 \r\nL 18.109375 0 \r\nL 9.078125 0 \r\nL 9.078125 75.984375 \r\nL 18.109375 75.984375 \r\nL 18.109375 46.1875 \r\nQ 21.34375 51.125 25.703125 53.5625 \r\nQ 30.078125 56 35.796875 56 \r\nQ 45.21875 56 50.046875 50.171875 \r\nQ 54.890625 44.34375 54.890625 33.015625 \r\nz\r\n\" id=\"DejaVuSans-104\"/>\r\n        <path d=\"M 18.3125 70.21875 \r\nL 18.3125 54.6875 \r\nL 36.8125 54.6875 \r\nL 36.8125 47.703125 \r\nL 18.3125 47.703125 \r\nL 18.3125 18.015625 \r\nQ 18.3125 11.328125 20.140625 9.421875 \r\nQ 21.96875 7.515625 27.59375 7.515625 \r\nL 36.8125 7.515625 \r\nL 36.8125 0 \r\nL 27.59375 0 \r\nQ 17.1875 0 13.234375 3.875 \r\nQ 9.28125 7.765625 9.28125 18.015625 \r\nL 9.28125 47.703125 \r\nL 2.6875 47.703125 \r\nL 2.6875 54.6875 \r\nL 9.28125 54.6875 \r\nL 9.28125 70.21875 \r\nz\r\n\" id=\"DejaVuSans-116\"/>\r\n       </defs>\r\n       <use xlink:href=\"#DejaVuSans-101\"/>\r\n       <use x=\"61.523438\" xlink:href=\"#DejaVuSans-108\"/>\r\n       <use x=\"89.306641\" xlink:href=\"#DejaVuSans-101\"/>\r\n       <use x=\"150.830078\" xlink:href=\"#DejaVuSans-112\"/>\r\n       <use x=\"214.306641\" xlink:href=\"#DejaVuSans-104\"/>\r\n       <use x=\"277.685547\" xlink:href=\"#DejaVuSans-97\"/>\r\n       <use x=\"338.964844\" xlink:href=\"#DejaVuSans-110\"/>\r\n       <use x=\"402.34375\" xlink:href=\"#DejaVuSans-116\"/>\r\n      </g>\r\n     </g>\r\n    </g>\r\n    <g id=\"ytick_4\">\r\n     <g id=\"text_13\">\r\n      <!-- robot -->\r\n      <g style=\"fill:#999999;\" transform=\"translate(152.519688 139.13607)scale(0.13 -0.13)\">\r\n       <defs>\r\n        <path d=\"M 48.6875 27.296875 \r\nQ 48.6875 37.203125 44.609375 42.84375 \r\nQ 40.53125 48.484375 33.40625 48.484375 \r\nQ 26.265625 48.484375 22.1875 42.84375 \r\nQ 18.109375 37.203125 18.109375 27.296875 \r\nQ 18.109375 17.390625 22.1875 11.75 \r\nQ 26.265625 6.109375 33.40625 6.109375 \r\nQ 40.53125 6.109375 44.609375 11.75 \r\nQ 48.6875 17.390625 48.6875 27.296875 \r\nz\r\nM 18.109375 46.390625 \r\nQ 20.953125 51.265625 25.265625 53.625 \r\nQ 29.59375 56 35.59375 56 \r\nQ 45.5625 56 51.78125 48.09375 \r\nQ 58.015625 40.1875 58.015625 27.296875 \r\nQ 58.015625 14.40625 51.78125 6.484375 \r\nQ 45.5625 -1.421875 35.59375 -1.421875 \r\nQ 29.59375 -1.421875 25.265625 0.953125 \r\nQ 20.953125 3.328125 18.109375 8.203125 \r\nL 18.109375 0 \r\nL 9.078125 0 \r\nL 9.078125 75.984375 \r\nL 18.109375 75.984375 \r\nz\r\n\" id=\"DejaVuSans-98\"/>\r\n       </defs>\r\n       <use xlink:href=\"#DejaVuSans-114\"/>\r\n       <use x=\"38.863281\" xlink:href=\"#DejaVuSans-111\"/>\r\n       <use x=\"100.044922\" xlink:href=\"#DejaVuSans-98\"/>\r\n       <use x=\"163.521484\" xlink:href=\"#DejaVuSans-111\"/>\r\n       <use x=\"224.703125\" xlink:href=\"#DejaVuSans-116\"/>\r\n      </g>\r\n     </g>\r\n    </g>\r\n    <g id=\"ytick_5\">\r\n     <g id=\"text_14\">\r\n      <!-- seal -->\r\n      <g style=\"fill:#999999;\" transform=\"translate(160.480156 172.251346)scale(0.13 -0.13)\">\r\n       <defs>\r\n        <path d=\"M 44.28125 53.078125 \r\nL 44.28125 44.578125 \r\nQ 40.484375 46.53125 36.375 47.5 \r\nQ 32.28125 48.484375 27.875 48.484375 \r\nQ 21.1875 48.484375 17.84375 46.4375 \r\nQ 14.5 44.390625 14.5 40.28125 \r\nQ 14.5 37.15625 16.890625 35.375 \r\nQ 19.28125 33.59375 26.515625 31.984375 \r\nL 29.59375 31.296875 \r\nQ 39.15625 29.25 43.1875 25.515625 \r\nQ 47.21875 21.78125 47.21875 15.09375 \r\nQ 47.21875 7.46875 41.1875 3.015625 \r\nQ 35.15625 -1.421875 24.609375 -1.421875 \r\nQ 20.21875 -1.421875 15.453125 -0.5625 \r\nQ 10.6875 0.296875 5.421875 2 \r\nL 5.421875 11.28125 \r\nQ 10.40625 8.6875 15.234375 7.390625 \r\nQ 20.0625 6.109375 24.8125 6.109375 \r\nQ 31.15625 6.109375 34.5625 8.28125 \r\nQ 37.984375 10.453125 37.984375 14.40625 \r\nQ 37.984375 18.0625 35.515625 20.015625 \r\nQ 33.0625 21.96875 24.703125 23.78125 \r\nL 21.578125 24.515625 \r\nQ 13.234375 26.265625 9.515625 29.90625 \r\nQ 5.8125 33.546875 5.8125 39.890625 \r\nQ 5.8125 47.609375 11.28125 51.796875 \r\nQ 16.75 56 26.8125 56 \r\nQ 31.78125 56 36.171875 55.265625 \r\nQ 40.578125 54.546875 44.28125 53.078125 \r\nz\r\n\" id=\"DejaVuSans-115\"/>\r\n       </defs>\r\n       <use xlink:href=\"#DejaVuSans-115\"/>\r\n       <use x=\"52.099609\" xlink:href=\"#DejaVuSans-101\"/>\r\n       <use x=\"113.623047\" xlink:href=\"#DejaVuSans-97\"/>\r\n       <use x=\"174.902344\" xlink:href=\"#DejaVuSans-108\"/>\r\n      </g>\r\n     </g>\r\n    </g>\r\n    <g id=\"ytick_6\">\r\n     <g id=\"text_15\">\r\n      <!-- skirt -->\r\n      <g style=\"fill:#999999;\" transform=\"translate(158.477344 205.366623)scale(0.13 -0.13)\">\r\n       <defs>\r\n        <path d=\"M 9.078125 75.984375 \r\nL 18.109375 75.984375 \r\nL 18.109375 31.109375 \r\nL 44.921875 54.6875 \r\nL 56.390625 54.6875 \r\nL 27.390625 29.109375 \r\nL 57.625 0 \r\nL 45.90625 0 \r\nL 18.109375 26.703125 \r\nL 18.109375 0 \r\nL 9.078125 0 \r\nz\r\n\" id=\"DejaVuSans-107\"/>\r\n       </defs>\r\n       <use xlink:href=\"#DejaVuSans-115\"/>\r\n       <use x=\"52.099609\" xlink:href=\"#DejaVuSans-107\"/>\r\n       <use x=\"110.009766\" xlink:href=\"#DejaVuSans-105\"/>\r\n       <use x=\"137.792969\" xlink:href=\"#DejaVuSans-114\"/>\r\n       <use x=\"178.90625\" xlink:href=\"#DejaVuSans-116\"/>\r\n      </g>\r\n     </g>\r\n    </g>\r\n    <g id=\"ytick_7\">\r\n     <g id=\"text_16\">\r\n      <!-- popcorn -->\r\n      <g style=\"fill:#999999;\" transform=\"translate(133.911406 238.481899)scale(0.13 -0.13)\">\r\n       <use xlink:href=\"#DejaVuSans-112\"/>\r\n       <use x=\"63.476562\" xlink:href=\"#DejaVuSans-111\"/>\r\n       <use x=\"124.658203\" xlink:href=\"#DejaVuSans-112\"/>\r\n       <use x=\"188.134766\" xlink:href=\"#DejaVuSans-99\"/>\r\n       <use x=\"243.115234\" xlink:href=\"#DejaVuSans-111\"/>\r\n       <use x=\"304.296875\" xlink:href=\"#DejaVuSans-114\"/>\r\n       <use x=\"343.660156\" xlink:href=\"#DejaVuSans-110\"/>\r\n      </g>\r\n     </g>\r\n    </g>\r\n    <g id=\"ytick_8\">\r\n     <g id=\"text_17\">\r\n      <!-- tiger -->\r\n      <g style=\"fill:#999999;\" transform=\"translate(156.525313 271.597176)scale(0.13 -0.13)\">\r\n       <use xlink:href=\"#DejaVuSans-116\"/>\r\n       <use x=\"39.208984\" xlink:href=\"#DejaVuSans-105\"/>\r\n       <use x=\"66.992188\" xlink:href=\"#DejaVuSans-103\"/>\r\n       <use x=\"130.46875\" xlink:href=\"#DejaVuSans-101\"/>\r\n       <use x=\"191.992188\" xlink:href=\"#DejaVuSans-114\"/>\r\n      </g>\r\n     </g>\r\n    </g>\r\n    <g id=\"ytick_9\">\r\n     <g id=\"text_18\">\r\n      <!-- monkey -->\r\n      <g style=\"fill:#999999;\" transform=\"translate(135.223594 304.712452)scale(0.13 -0.13)\">\r\n       <defs>\r\n        <path d=\"M 32.171875 -5.078125 \r\nQ 28.375 -14.84375 24.75 -17.8125 \r\nQ 21.140625 -20.796875 15.09375 -20.796875 \r\nL 7.90625 -20.796875 \r\nL 7.90625 -13.28125 \r\nL 13.1875 -13.28125 \r\nQ 16.890625 -13.28125 18.9375 -11.515625 \r\nQ 21 -9.765625 23.484375 -3.21875 \r\nL 25.09375 0.875 \r\nL 2.984375 54.6875 \r\nL 12.5 54.6875 \r\nL 29.59375 11.921875 \r\nL 46.6875 54.6875 \r\nL 56.203125 54.6875 \r\nz\r\n\" id=\"DejaVuSans-121\"/>\r\n       </defs>\r\n       <use xlink:href=\"#DejaVuSans-109\"/>\r\n       <use x=\"97.412109\" xlink:href=\"#DejaVuSans-111\"/>\r\n       <use x=\"158.59375\" xlink:href=\"#DejaVuSans-110\"/>\r\n       <use x=\"221.972656\" xlink:href=\"#DejaVuSans-107\"/>\r\n       <use x=\"276.257812\" xlink:href=\"#DejaVuSans-101\"/>\r\n       <use x=\"337.78125\" xlink:href=\"#DejaVuSans-121\"/>\r\n      </g>\r\n     </g>\r\n    </g>\r\n    <g id=\"ytick_10\">\r\n     <g id=\"text_19\">\r\n      <!-- Sum of 1150 other features -->\r\n      <g style=\"fill:#999999;\" transform=\"translate(7.2 337.827729)scale(0.13 -0.13)\">\r\n       <defs>\r\n        <path d=\"M 37.109375 75.984375 \r\nL 37.109375 68.5 \r\nL 28.515625 68.5 \r\nQ 23.6875 68.5 21.796875 66.546875 \r\nQ 19.921875 64.59375 19.921875 59.515625 \r\nL 19.921875 54.6875 \r\nL 34.71875 54.6875 \r\nL 34.71875 47.703125 \r\nL 19.921875 47.703125 \r\nL 19.921875 0 \r\nL 10.890625 0 \r\nL 10.890625 47.703125 \r\nL 2.296875 47.703125 \r\nL 2.296875 54.6875 \r\nL 10.890625 54.6875 \r\nL 10.890625 58.5 \r\nQ 10.890625 67.625 15.140625 71.796875 \r\nQ 19.390625 75.984375 28.609375 75.984375 \r\nz\r\n\" id=\"DejaVuSans-102\"/>\r\n        <path d=\"M 10.796875 72.90625 \r\nL 49.515625 72.90625 \r\nL 49.515625 64.59375 \r\nL 19.828125 64.59375 \r\nL 19.828125 46.734375 \r\nQ 21.96875 47.46875 24.109375 47.828125 \r\nQ 26.265625 48.1875 28.421875 48.1875 \r\nQ 40.625 48.1875 47.75 41.5 \r\nQ 54.890625 34.8125 54.890625 23.390625 \r\nQ 54.890625 11.625 47.5625 5.09375 \r\nQ 40.234375 -1.421875 26.90625 -1.421875 \r\nQ 22.3125 -1.421875 17.546875 -0.640625 \r\nQ 12.796875 0.140625 7.71875 1.703125 \r\nL 7.71875 11.625 \r\nQ 12.109375 9.234375 16.796875 8.0625 \r\nQ 21.484375 6.890625 26.703125 6.890625 \r\nQ 35.15625 6.890625 40.078125 11.328125 \r\nQ 45.015625 15.765625 45.015625 23.390625 \r\nQ 45.015625 31 40.078125 35.4375 \r\nQ 35.15625 39.890625 26.703125 39.890625 \r\nQ 22.75 39.890625 18.8125 39.015625 \r\nQ 14.890625 38.140625 10.796875 36.28125 \r\nz\r\n\" id=\"DejaVuSans-53\"/>\r\n       </defs>\r\n       <use xlink:href=\"#DejaVuSans-83\"/>\r\n       <use x=\"63.476562\" xlink:href=\"#DejaVuSans-117\"/>\r\n       <use x=\"126.855469\" xlink:href=\"#DejaVuSans-109\"/>\r\n       <use x=\"224.267578\" xlink:href=\"#DejaVuSans-32\"/>\r\n       <use x=\"256.054688\" xlink:href=\"#DejaVuSans-111\"/>\r\n       <use x=\"317.236328\" xlink:href=\"#DejaVuSans-102\"/>\r\n       <use x=\"352.441406\" xlink:href=\"#DejaVuSans-32\"/>\r\n       <use x=\"384.228516\" xlink:href=\"#DejaVuSans-49\"/>\r\n       <use x=\"447.851562\" xlink:href=\"#DejaVuSans-49\"/>\r\n       <use x=\"511.474609\" xlink:href=\"#DejaVuSans-53\"/>\r\n       <use x=\"575.097656\" xlink:href=\"#DejaVuSans-48\"/>\r\n       <use x=\"638.720703\" xlink:href=\"#DejaVuSans-32\"/>\r\n       <use x=\"670.507812\" xlink:href=\"#DejaVuSans-111\"/>\r\n       <use x=\"731.689453\" xlink:href=\"#DejaVuSans-116\"/>\r\n       <use x=\"770.898438\" xlink:href=\"#DejaVuSans-104\"/>\r\n       <use x=\"834.277344\" xlink:href=\"#DejaVuSans-101\"/>\r\n       <use x=\"895.800781\" xlink:href=\"#DejaVuSans-114\"/>\r\n       <use x=\"936.914062\" xlink:href=\"#DejaVuSans-32\"/>\r\n       <use x=\"968.701172\" xlink:href=\"#DejaVuSans-102\"/>\r\n       <use x=\"1003.90625\" xlink:href=\"#DejaVuSans-101\"/>\r\n       <use x=\"1065.429688\" xlink:href=\"#DejaVuSans-97\"/>\r\n       <use x=\"1126.708984\" xlink:href=\"#DejaVuSans-116\"/>\r\n       <use x=\"1165.917969\" xlink:href=\"#DejaVuSans-117\"/>\r\n       <use x=\"1229.296875\" xlink:href=\"#DejaVuSans-114\"/>\r\n       <use x=\"1268.160156\" xlink:href=\"#DejaVuSans-101\"/>\r\n       <use x=\"1329.683594\" xlink:href=\"#DejaVuSans-115\"/>\r\n      </g>\r\n     </g>\r\n    </g>\r\n    <g id=\"ytick_11\">\r\n     <g id=\"text_20\">\r\n      <!-- canoe -->\r\n      <g transform=\"translate(147.522812 39.79024)scale(0.13 -0.13)\">\r\n       <use xlink:href=\"#DejaVuSans-99\"/>\r\n       <use x=\"54.980469\" xlink:href=\"#DejaVuSans-97\"/>\r\n       <use x=\"116.259766\" xlink:href=\"#DejaVuSans-110\"/>\r\n       <use x=\"179.638672\" xlink:href=\"#DejaVuSans-111\"/>\r\n       <use x=\"240.820312\" xlink:href=\"#DejaVuSans-101\"/>\r\n      </g>\r\n     </g>\r\n    </g>\r\n    <g id=\"ytick_12\">\r\n     <g id=\"text_21\">\r\n      <!-- gorilla -->\r\n      <g transform=\"translate(146.476719 72.905516)scale(0.13 -0.13)\">\r\n       <use xlink:href=\"#DejaVuSans-103\"/>\r\n       <use x=\"63.476562\" xlink:href=\"#DejaVuSans-111\"/>\r\n       <use x=\"124.658203\" xlink:href=\"#DejaVuSans-114\"/>\r\n       <use x=\"165.771484\" xlink:href=\"#DejaVuSans-105\"/>\r\n       <use x=\"193.554688\" xlink:href=\"#DejaVuSans-108\"/>\r\n       <use x=\"221.337891\" xlink:href=\"#DejaVuSans-108\"/>\r\n       <use x=\"249.121094\" xlink:href=\"#DejaVuSans-97\"/>\r\n      </g>\r\n     </g>\r\n    </g>\r\n    <g id=\"ytick_13\">\r\n     <g id=\"text_22\">\r\n      <!-- elephant -->\r\n      <g transform=\"translate(129.426406 106.020793)scale(0.13 -0.13)\">\r\n       <use xlink:href=\"#DejaVuSans-101\"/>\r\n       <use x=\"61.523438\" xlink:href=\"#DejaVuSans-108\"/>\r\n       <use x=\"89.306641\" xlink:href=\"#DejaVuSans-101\"/>\r\n       <use x=\"150.830078\" xlink:href=\"#DejaVuSans-112\"/>\r\n       <use x=\"214.306641\" xlink:href=\"#DejaVuSans-104\"/>\r\n       <use x=\"277.685547\" xlink:href=\"#DejaVuSans-97\"/>\r\n       <use x=\"338.964844\" xlink:href=\"#DejaVuSans-110\"/>\r\n       <use x=\"402.34375\" xlink:href=\"#DejaVuSans-116\"/>\r\n      </g>\r\n     </g>\r\n    </g>\r\n    <g id=\"ytick_14\">\r\n     <g id=\"text_23\">\r\n      <!-- robot -->\r\n      <g transform=\"translate(152.519688 139.136069)scale(0.13 -0.13)\">\r\n       <use xlink:href=\"#DejaVuSans-114\"/>\r\n       <use x=\"38.863281\" xlink:href=\"#DejaVuSans-111\"/>\r\n       <use x=\"100.044922\" xlink:href=\"#DejaVuSans-98\"/>\r\n       <use x=\"163.521484\" xlink:href=\"#DejaVuSans-111\"/>\r\n       <use x=\"224.703125\" xlink:href=\"#DejaVuSans-116\"/>\r\n      </g>\r\n     </g>\r\n    </g>\r\n    <g id=\"ytick_15\">\r\n     <g id=\"text_24\">\r\n      <!-- seal -->\r\n      <g transform=\"translate(160.480156 172.251346)scale(0.13 -0.13)\">\r\n       <use xlink:href=\"#DejaVuSans-115\"/>\r\n       <use x=\"52.099609\" xlink:href=\"#DejaVuSans-101\"/>\r\n       <use x=\"113.623047\" xlink:href=\"#DejaVuSans-97\"/>\r\n       <use x=\"174.902344\" xlink:href=\"#DejaVuSans-108\"/>\r\n      </g>\r\n     </g>\r\n    </g>\r\n    <g id=\"ytick_16\">\r\n     <g id=\"text_25\">\r\n      <!-- skirt -->\r\n      <g transform=\"translate(158.477344 205.366622)scale(0.13 -0.13)\">\r\n       <use xlink:href=\"#DejaVuSans-115\"/>\r\n       <use x=\"52.099609\" xlink:href=\"#DejaVuSans-107\"/>\r\n       <use x=\"110.009766\" xlink:href=\"#DejaVuSans-105\"/>\r\n       <use x=\"137.792969\" xlink:href=\"#DejaVuSans-114\"/>\r\n       <use x=\"178.90625\" xlink:href=\"#DejaVuSans-116\"/>\r\n      </g>\r\n     </g>\r\n    </g>\r\n    <g id=\"ytick_17\">\r\n     <g id=\"text_26\">\r\n      <!-- popcorn -->\r\n      <g transform=\"translate(133.911406 238.481899)scale(0.13 -0.13)\">\r\n       <use xlink:href=\"#DejaVuSans-112\"/>\r\n       <use x=\"63.476562\" xlink:href=\"#DejaVuSans-111\"/>\r\n       <use x=\"124.658203\" xlink:href=\"#DejaVuSans-112\"/>\r\n       <use x=\"188.134766\" xlink:href=\"#DejaVuSans-99\"/>\r\n       <use x=\"243.115234\" xlink:href=\"#DejaVuSans-111\"/>\r\n       <use x=\"304.296875\" xlink:href=\"#DejaVuSans-114\"/>\r\n       <use x=\"343.660156\" xlink:href=\"#DejaVuSans-110\"/>\r\n      </g>\r\n     </g>\r\n    </g>\r\n    <g id=\"ytick_18\">\r\n     <g id=\"text_27\">\r\n      <!-- tiger -->\r\n      <g transform=\"translate(156.525313 271.597175)scale(0.13 -0.13)\">\r\n       <use xlink:href=\"#DejaVuSans-116\"/>\r\n       <use x=\"39.208984\" xlink:href=\"#DejaVuSans-105\"/>\r\n       <use x=\"66.992188\" xlink:href=\"#DejaVuSans-103\"/>\r\n       <use x=\"130.46875\" xlink:href=\"#DejaVuSans-101\"/>\r\n       <use x=\"191.992188\" xlink:href=\"#DejaVuSans-114\"/>\r\n      </g>\r\n     </g>\r\n    </g>\r\n    <g id=\"ytick_19\">\r\n     <g id=\"text_28\">\r\n      <!-- monkey -->\r\n      <g transform=\"translate(135.223594 304.712452)scale(0.13 -0.13)\">\r\n       <use xlink:href=\"#DejaVuSans-109\"/>\r\n       <use x=\"97.412109\" xlink:href=\"#DejaVuSans-111\"/>\r\n       <use x=\"158.59375\" xlink:href=\"#DejaVuSans-110\"/>\r\n       <use x=\"221.972656\" xlink:href=\"#DejaVuSans-107\"/>\r\n       <use x=\"276.257812\" xlink:href=\"#DejaVuSans-101\"/>\r\n       <use x=\"337.78125\" xlink:href=\"#DejaVuSans-121\"/>\r\n      </g>\r\n     </g>\r\n    </g>\r\n    <g id=\"ytick_20\">\r\n     <g id=\"text_29\">\r\n      <!-- Sum of 1150 other features -->\r\n      <g transform=\"translate(7.2 337.827728)scale(0.13 -0.13)\">\r\n       <use xlink:href=\"#DejaVuSans-83\"/>\r\n       <use x=\"63.476562\" xlink:href=\"#DejaVuSans-117\"/>\r\n       <use x=\"126.855469\" xlink:href=\"#DejaVuSans-109\"/>\r\n       <use x=\"224.267578\" xlink:href=\"#DejaVuSans-32\"/>\r\n       <use x=\"256.054688\" xlink:href=\"#DejaVuSans-111\"/>\r\n       <use x=\"317.236328\" xlink:href=\"#DejaVuSans-102\"/>\r\n       <use x=\"352.441406\" xlink:href=\"#DejaVuSans-32\"/>\r\n       <use x=\"384.228516\" xlink:href=\"#DejaVuSans-49\"/>\r\n       <use x=\"447.851562\" xlink:href=\"#DejaVuSans-49\"/>\r\n       <use x=\"511.474609\" xlink:href=\"#DejaVuSans-53\"/>\r\n       <use x=\"575.097656\" xlink:href=\"#DejaVuSans-48\"/>\r\n       <use x=\"638.720703\" xlink:href=\"#DejaVuSans-32\"/>\r\n       <use x=\"670.507812\" xlink:href=\"#DejaVuSans-111\"/>\r\n       <use x=\"731.689453\" xlink:href=\"#DejaVuSans-116\"/>\r\n       <use x=\"770.898438\" xlink:href=\"#DejaVuSans-104\"/>\r\n       <use x=\"834.277344\" xlink:href=\"#DejaVuSans-101\"/>\r\n       <use x=\"895.800781\" xlink:href=\"#DejaVuSans-114\"/>\r\n       <use x=\"936.914062\" xlink:href=\"#DejaVuSans-32\"/>\r\n       <use x=\"968.701172\" xlink:href=\"#DejaVuSans-102\"/>\r\n       <use x=\"1003.90625\" xlink:href=\"#DejaVuSans-101\"/>\r\n       <use x=\"1065.429688\" xlink:href=\"#DejaVuSans-97\"/>\r\n       <use x=\"1126.708984\" xlink:href=\"#DejaVuSans-116\"/>\r\n       <use x=\"1165.917969\" xlink:href=\"#DejaVuSans-117\"/>\r\n       <use x=\"1229.296875\" xlink:href=\"#DejaVuSans-114\"/>\r\n       <use x=\"1268.160156\" xlink:href=\"#DejaVuSans-101\"/>\r\n       <use x=\"1329.683594\" xlink:href=\"#DejaVuSans-115\"/>\r\n      </g>\r\n     </g>\r\n    </g>\r\n   </g>\r\n   <g id=\"patch_13\">\r\n    <path d=\"M 193.829531 360.54 \r\nL 193.829531 7.2 \r\n\" style=\"fill:none;stroke:#000000;stroke-linecap:square;stroke-linejoin:miter;stroke-width:0.8;\"/>\r\n   </g>\r\n   <g id=\"patch_14\">\r\n    <path d=\"M 193.829531 360.54 \r\nL 640.229531 360.54 \r\n\" style=\"fill:none;stroke:#000000;stroke-linecap:square;stroke-linejoin:miter;stroke-width:0.8;\"/>\r\n   </g>\r\n   <g id=\"text_30\">\r\n    <!-- +8.4 -->\r\n    <g style=\"fill:#ff0051;\" transform=\"translate(200.977492 38.162506)scale(0.12 -0.12)\">\r\n     <defs>\r\n      <path d=\"M 46 62.703125 \r\nL 46 35.5 \r\nL 73.1875 35.5 \r\nL 73.1875 27.203125 \r\nL 46 27.203125 \r\nL 46 0 \r\nL 37.796875 0 \r\nL 37.796875 27.203125 \r\nL 10.59375 27.203125 \r\nL 10.59375 35.5 \r\nL 37.796875 35.5 \r\nL 37.796875 62.703125 \r\nz\r\n\" id=\"DejaVuSans-43\"/>\r\n      <path d=\"M 10.6875 12.40625 \r\nL 21 12.40625 \r\nL 21 0 \r\nL 10.6875 0 \r\nz\r\n\" id=\"DejaVuSans-46\"/>\r\n     </defs>\r\n     <use xlink:href=\"#DejaVuSans-43\"/>\r\n     <use x=\"83.789062\" xlink:href=\"#DejaVuSans-56\"/>\r\n     <use x=\"147.412109\" xlink:href=\"#DejaVuSans-46\"/>\r\n     <use x=\"179.199219\" xlink:href=\"#DejaVuSans-52\"/>\r\n    </g>\r\n   </g>\r\n   <g id=\"text_31\">\r\n    <!-- +7.73 -->\r\n    <g style=\"fill:#ff0051;\" transform=\"translate(200.787145 71.277782)scale(0.12 -0.12)\">\r\n     <defs>\r\n      <path d=\"M 8.203125 72.90625 \r\nL 55.078125 72.90625 \r\nL 55.078125 68.703125 \r\nL 28.609375 0 \r\nL 18.3125 0 \r\nL 43.21875 64.59375 \r\nL 8.203125 64.59375 \r\nz\r\n\" id=\"DejaVuSans-55\"/>\r\n      <path d=\"M 40.578125 39.3125 \r\nQ 47.65625 37.796875 51.625 33 \r\nQ 55.609375 28.21875 55.609375 21.1875 \r\nQ 55.609375 10.40625 48.1875 4.484375 \r\nQ 40.765625 -1.421875 27.09375 -1.421875 \r\nQ 22.515625 -1.421875 17.65625 -0.515625 \r\nQ 12.796875 0.390625 7.625 2.203125 \r\nL 7.625 11.71875 \r\nQ 11.71875 9.328125 16.59375 8.109375 \r\nQ 21.484375 6.890625 26.8125 6.890625 \r\nQ 36.078125 6.890625 40.9375 10.546875 \r\nQ 45.796875 14.203125 45.796875 21.1875 \r\nQ 45.796875 27.640625 41.28125 31.265625 \r\nQ 36.765625 34.90625 28.71875 34.90625 \r\nL 20.21875 34.90625 \r\nL 20.21875 43.015625 \r\nL 29.109375 43.015625 \r\nQ 36.375 43.015625 40.234375 45.921875 \r\nQ 44.09375 48.828125 44.09375 54.296875 \r\nQ 44.09375 59.90625 40.109375 62.90625 \r\nQ 36.140625 65.921875 28.71875 65.921875 \r\nQ 24.65625 65.921875 20.015625 65.03125 \r\nQ 15.375 64.15625 9.8125 62.3125 \r\nL 9.8125 71.09375 \r\nQ 15.4375 72.65625 20.34375 73.4375 \r\nQ 25.25 74.21875 29.59375 74.21875 \r\nQ 40.828125 74.21875 47.359375 69.109375 \r\nQ 53.90625 64.015625 53.90625 55.328125 \r\nQ 53.90625 49.265625 50.4375 45.09375 \r\nQ 46.96875 40.921875 40.578125 39.3125 \r\nz\r\n\" id=\"DejaVuSans-51\"/>\r\n     </defs>\r\n     <use xlink:href=\"#DejaVuSans-43\"/>\r\n     <use x=\"83.789062\" xlink:href=\"#DejaVuSans-55\"/>\r\n     <use x=\"147.412109\" xlink:href=\"#DejaVuSans-46\"/>\r\n     <use x=\"179.199219\" xlink:href=\"#DejaVuSans-55\"/>\r\n     <use x=\"242.822266\" xlink:href=\"#DejaVuSans-51\"/>\r\n    </g>\r\n   </g>\r\n   <g id=\"text_32\">\r\n    <!-- +7.51 -->\r\n    <g style=\"fill:#ff0051;\" transform=\"translate(200.726184 104.393059)scale(0.12 -0.12)\">\r\n     <use xlink:href=\"#DejaVuSans-43\"/>\r\n     <use x=\"83.789062\" xlink:href=\"#DejaVuSans-55\"/>\r\n     <use x=\"147.412109\" xlink:href=\"#DejaVuSans-46\"/>\r\n     <use x=\"179.199219\" xlink:href=\"#DejaVuSans-53\"/>\r\n     <use x=\"242.822266\" xlink:href=\"#DejaVuSans-49\"/>\r\n    </g>\r\n   </g>\r\n   <g id=\"text_33\">\r\n    <!-- +7.37 -->\r\n    <g style=\"fill:#ff0051;\" transform=\"translate(200.686203 137.508335)scale(0.12 -0.12)\">\r\n     <use xlink:href=\"#DejaVuSans-43\"/>\r\n     <use x=\"83.789062\" xlink:href=\"#DejaVuSans-55\"/>\r\n     <use x=\"147.412109\" xlink:href=\"#DejaVuSans-46\"/>\r\n     <use x=\"179.199219\" xlink:href=\"#DejaVuSans-51\"/>\r\n     <use x=\"242.822266\" xlink:href=\"#DejaVuSans-55\"/>\r\n    </g>\r\n   </g>\r\n   <g id=\"text_34\">\r\n    <!-- +7.18 -->\r\n    <g style=\"fill:#ff0051;\" transform=\"translate(200.631447 170.623612)scale(0.12 -0.12)\">\r\n     <use xlink:href=\"#DejaVuSans-43\"/>\r\n     <use x=\"83.789062\" xlink:href=\"#DejaVuSans-55\"/>\r\n     <use x=\"147.412109\" xlink:href=\"#DejaVuSans-46\"/>\r\n     <use x=\"179.199219\" xlink:href=\"#DejaVuSans-49\"/>\r\n     <use x=\"242.822266\" xlink:href=\"#DejaVuSans-56\"/>\r\n    </g>\r\n   </g>\r\n   <g id=\"text_35\">\r\n    <!-- +6.93 -->\r\n    <g style=\"fill:#ff0051;\" transform=\"translate(200.561525 203.738888)scale(0.12 -0.12)\">\r\n     <defs>\r\n      <path d=\"M 10.984375 1.515625 \r\nL 10.984375 10.5 \r\nQ 14.703125 8.734375 18.5 7.8125 \r\nQ 22.3125 6.890625 25.984375 6.890625 \r\nQ 35.75 6.890625 40.890625 13.453125 \r\nQ 46.046875 20.015625 46.78125 33.40625 \r\nQ 43.953125 29.203125 39.59375 26.953125 \r\nQ 35.25 24.703125 29.984375 24.703125 \r\nQ 19.046875 24.703125 12.671875 31.3125 \r\nQ 6.296875 37.9375 6.296875 49.421875 \r\nQ 6.296875 60.640625 12.9375 67.421875 \r\nQ 19.578125 74.21875 30.609375 74.21875 \r\nQ 43.265625 74.21875 49.921875 64.515625 \r\nQ 56.59375 54.828125 56.59375 36.375 \r\nQ 56.59375 19.140625 48.40625 8.859375 \r\nQ 40.234375 -1.421875 26.421875 -1.421875 \r\nQ 22.703125 -1.421875 18.890625 -0.6875 \r\nQ 15.09375 0.046875 10.984375 1.515625 \r\nz\r\nM 30.609375 32.421875 \r\nQ 37.25 32.421875 41.125 36.953125 \r\nQ 45.015625 41.5 45.015625 49.421875 \r\nQ 45.015625 57.28125 41.125 61.84375 \r\nQ 37.25 66.40625 30.609375 66.40625 \r\nQ 23.96875 66.40625 20.09375 61.84375 \r\nQ 16.21875 57.28125 16.21875 49.421875 \r\nQ 16.21875 41.5 20.09375 36.953125 \r\nQ 23.96875 32.421875 30.609375 32.421875 \r\nz\r\n\" id=\"DejaVuSans-57\"/>\r\n     </defs>\r\n     <use xlink:href=\"#DejaVuSans-43\"/>\r\n     <use x=\"83.789062\" xlink:href=\"#DejaVuSans-54\"/>\r\n     <use x=\"147.412109\" xlink:href=\"#DejaVuSans-46\"/>\r\n     <use x=\"179.199219\" xlink:href=\"#DejaVuSans-57\"/>\r\n     <use x=\"242.822266\" xlink:href=\"#DejaVuSans-51\"/>\r\n    </g>\r\n   </g>\r\n   <g id=\"text_36\">\r\n    <!-- +6.82 -->\r\n    <g style=\"fill:#ff0051;\" transform=\"translate(200.528624 236.854165)scale(0.12 -0.12)\">\r\n     <use xlink:href=\"#DejaVuSans-43\"/>\r\n     <use x=\"83.789062\" xlink:href=\"#DejaVuSans-54\"/>\r\n     <use x=\"147.412109\" xlink:href=\"#DejaVuSans-46\"/>\r\n     <use x=\"179.199219\" xlink:href=\"#DejaVuSans-56\"/>\r\n     <use x=\"242.822266\" xlink:href=\"#DejaVuSans-50\"/>\r\n    </g>\r\n   </g>\r\n   <g id=\"text_37\">\r\n    <!-- +6.77 -->\r\n    <g style=\"fill:#ff0051;\" transform=\"translate(200.515726 269.969441)scale(0.12 -0.12)\">\r\n     <use xlink:href=\"#DejaVuSans-43\"/>\r\n     <use x=\"83.789062\" xlink:href=\"#DejaVuSans-54\"/>\r\n     <use x=\"147.412109\" xlink:href=\"#DejaVuSans-46\"/>\r\n     <use x=\"179.199219\" xlink:href=\"#DejaVuSans-55\"/>\r\n     <use x=\"242.822266\" xlink:href=\"#DejaVuSans-55\"/>\r\n    </g>\r\n   </g>\r\n   <g id=\"text_38\">\r\n    <!-- +6.51 -->\r\n    <g style=\"fill:#ff0051;\" transform=\"translate(200.442252 303.084718)scale(0.12 -0.12)\">\r\n     <use xlink:href=\"#DejaVuSans-43\"/>\r\n     <use x=\"83.789062\" xlink:href=\"#DejaVuSans-54\"/>\r\n     <use x=\"147.412109\" xlink:href=\"#DejaVuSans-46\"/>\r\n     <use x=\"179.199219\" xlink:href=\"#DejaVuSans-53\"/>\r\n     <use x=\"242.822266\" xlink:href=\"#DejaVuSans-49\"/>\r\n    </g>\r\n   </g>\r\n   <g id=\"text_39\">\r\n    <!-- +1425.02 -->\r\n    <g style=\"fill:#ff0051;\" transform=\"translate(603.489395 336.199994)scale(0.12 -0.12)\">\r\n     <use xlink:href=\"#DejaVuSans-43\"/>\r\n     <use x=\"83.789062\" xlink:href=\"#DejaVuSans-49\"/>\r\n     <use x=\"147.412109\" xlink:href=\"#DejaVuSans-52\"/>\r\n     <use x=\"211.035156\" xlink:href=\"#DejaVuSans-50\"/>\r\n     <use x=\"274.658203\" xlink:href=\"#DejaVuSans-53\"/>\r\n     <use x=\"338.28125\" xlink:href=\"#DejaVuSans-46\"/>\r\n     <use x=\"370.068359\" xlink:href=\"#DejaVuSans-48\"/>\r\n     <use x=\"433.691406\" xlink:href=\"#DejaVuSans-50\"/>\r\n    </g>\r\n   </g>\r\n  </g>\r\n </g>\r\n <defs>\r\n  <clipPath id=\"pea21b1310f\">\r\n   <rect height=\"353.34\" width=\"446.4\" x=\"193.829531\" y=\"7.2\"/>\r\n  </clipPath>\r\n </defs>\r\n</svg>\r\n",
      "image/png": "[encoded data removed]"
     },
     "metadata": {}
    }
   ],
   "source": [
    "label='__label__Fire'\n",
    "custom_masked_bar_plot(labels_to_idx[label],'neg','mean')"
   ]
  },
  {
   "cell_type": "code",
   "execution_count": 29,
   "metadata": {},
   "outputs": [
    {
     "output_type": "display_data",
     "data": {
      "text/plain": "<Figure size 576x468 with 1 Axes>",
      "image/svg+xml": "<?xml version=\"1.0\" encoding=\"utf-8\" standalone=\"no\"?>\r\n<!DOCTYPE svg PUBLIC \"-//W3C//DTD SVG 1.1//EN\"\r\n  \"http://www.w3.org/Graphics/SVG/1.1/DTD/svg11.dtd\">\r\n<!-- Created with matplotlib (https://matplotlib.org/) -->\r\n<svg height=\"402.385938pt\" version=\"1.1\" viewBox=\"0 0 654.46252 402.385938\" width=\"654.46252pt\" xmlns=\"http://www.w3.org/2000/svg\" xmlns:xlink=\"http://www.w3.org/1999/xlink\">\r\n <metadata>\r\n  <rdf:RDF xmlns:cc=\"http://creativecommons.org/ns#\" xmlns:dc=\"http://purl.org/dc/elements/1.1/\" xmlns:rdf=\"http://www.w3.org/1999/02/22-rdf-syntax-ns#\">\r\n   <cc:Work>\r\n    <dc:type rdf:resource=\"http://purl.org/dc/dcmitype/StillImage\"/>\r\n    <dc:date>2020-10-28T09:09:09.753297</dc:date>\r\n    <dc:format>image/svg+xml</dc:format>\r\n    <dc:creator>\r\n     <cc:Agent>\r\n      <dc:title>Matplotlib v3.3.1, https://matplotlib.org/</dc:title>\r\n     </cc:Agent>\r\n    </dc:creator>\r\n   </cc:Work>\r\n  </rdf:RDF>\r\n </metadata>\r\n <defs>\r\n  <style type=\"text/css\">*{stroke-linecap:butt;stroke-linejoin:round;}</style>\r\n </defs>\r\n <g id=\"figure_1\">\r\n  <g id=\"patch_1\">\r\n   <path d=\"M 0 402.385938 \r\nL 654.46252 402.385938 \r\nL 654.46252 0 \r\nL 0 0 \r\nz\r\n\" style=\"fill:none;\"/>\r\n  </g>\r\n  <g id=\"axes_1\">\r\n   <g id=\"patch_2\">\r\n    <path d=\"M 185.558281 360.54 \r\nL 631.958281 360.54 \r\nL 631.958281 7.2 \r\nL 185.558281 7.2 \r\nz\r\n\" style=\"fill:#ffffff;\"/>\r\n   </g>\r\n   <g id=\"line2d_1\">\r\n    <path clip-path=\"url(#pc3b6e8255a)\" d=\"M 185.558281 332.888744 \r\nL 631.958281 332.888744 \r\n\" style=\"fill:none;stroke:#888888;stroke-dasharray:0.5,2.5;stroke-dashoffset:0;stroke-width:0.5;\"/>\r\n   </g>\r\n   <g id=\"line2d_2\">\r\n    <path clip-path=\"url(#pc3b6e8255a)\" d=\"M 185.558281 299.773468 \r\nL 631.958281 299.773468 \r\n\" style=\"fill:none;stroke:#888888;stroke-dasharray:0.5,2.5;stroke-dashoffset:0;stroke-width:0.5;\"/>\r\n   </g>\r\n   <g id=\"line2d_3\">\r\n    <path clip-path=\"url(#pc3b6e8255a)\" d=\"M 185.558281 266.658191 \r\nL 631.958281 266.658191 \r\n\" style=\"fill:none;stroke:#888888;stroke-dasharray:0.5,2.5;stroke-dashoffset:0;stroke-width:0.5;\"/>\r\n   </g>\r\n   <g id=\"line2d_4\">\r\n    <path clip-path=\"url(#pc3b6e8255a)\" d=\"M 185.558281 233.542915 \r\nL 631.958281 233.542915 \r\n\" style=\"fill:none;stroke:#888888;stroke-dasharray:0.5,2.5;stroke-dashoffset:0;stroke-width:0.5;\"/>\r\n   </g>\r\n   <g id=\"line2d_5\">\r\n    <path clip-path=\"url(#pc3b6e8255a)\" d=\"M 185.558281 200.427638 \r\nL 631.958281 200.427638 \r\n\" style=\"fill:none;stroke:#888888;stroke-dasharray:0.5,2.5;stroke-dashoffset:0;stroke-width:0.5;\"/>\r\n   </g>\r\n   <g id=\"line2d_6\">\r\n    <path clip-path=\"url(#pc3b6e8255a)\" d=\"M 185.558281 167.312362 \r\nL 631.958281 167.312362 \r\n\" style=\"fill:none;stroke:#888888;stroke-dasharray:0.5,2.5;stroke-dashoffset:0;stroke-width:0.5;\"/>\r\n   </g>\r\n   <g id=\"line2d_7\">\r\n    <path clip-path=\"url(#pc3b6e8255a)\" d=\"M 185.558281 134.197085 \r\nL 631.958281 134.197085 \r\n\" style=\"fill:none;stroke:#888888;stroke-dasharray:0.5,2.5;stroke-dashoffset:0;stroke-width:0.5;\"/>\r\n   </g>\r\n   <g id=\"line2d_8\">\r\n    <path clip-path=\"url(#pc3b6e8255a)\" d=\"M 185.558281 101.081809 \r\nL 631.958281 101.081809 \r\n\" style=\"fill:none;stroke:#888888;stroke-dasharray:0.5,2.5;stroke-dashoffset:0;stroke-width:0.5;\"/>\r\n   </g>\r\n   <g id=\"line2d_9\">\r\n    <path clip-path=\"url(#pc3b6e8255a)\" d=\"M 185.558281 67.966532 \r\nL 631.958281 67.966532 \r\n\" style=\"fill:none;stroke:#888888;stroke-dasharray:0.5,2.5;stroke-dashoffset:0;stroke-width:0.5;\"/>\r\n   </g>\r\n   <g id=\"line2d_10\">\r\n    <path clip-path=\"url(#pc3b6e8255a)\" d=\"M 185.558281 34.851256 \r\nL 631.958281 34.851256 \r\n\" style=\"fill:none;stroke:#888888;stroke-dasharray:0.5,2.5;stroke-dashoffset:0;stroke-width:0.5;\"/>\r\n   </g>\r\n   <g id=\"patch_3\">\r\n    <path clip-path=\"url(#pc3b6e8255a)\" d=\"M 185.558281 46.441603 \r\nL 195.300794 46.441603 \r\nL 195.300794 23.260909 \r\nL 185.558281 23.260909 \r\nz\r\n\" style=\"fill:#ff0051;stroke:#ffffff;stroke-linejoin:miter;stroke-opacity:0.8;\"/>\r\n   </g>\r\n   <g id=\"patch_4\">\r\n    <path clip-path=\"url(#pc3b6e8255a)\" d=\"M 185.558281 79.556879 \r\nL 194.811369 79.556879 \r\nL 194.811369 56.376186 \r\nL 185.558281 56.376186 \r\nz\r\n\" style=\"fill:#ff0051;stroke:#ffffff;stroke-linejoin:miter;stroke-opacity:0.8;\"/>\r\n   </g>\r\n   <g id=\"patch_5\">\r\n    <path clip-path=\"url(#pc3b6e8255a)\" d=\"M 185.558281 112.672156 \r\nL 193.997794 112.672156 \r\nL 193.997794 89.491462 \r\nL 185.558281 89.491462 \r\nz\r\n\" style=\"fill:#ff0051;stroke:#ffffff;stroke-linejoin:miter;stroke-opacity:0.8;\"/>\r\n   </g>\r\n   <g id=\"patch_6\">\r\n    <path clip-path=\"url(#pc3b6e8255a)\" d=\"M 185.558281 145.787432 \r\nL 191.841558 145.787432 \r\nL 191.841558 122.606739 \r\nL 185.558281 122.606739 \r\nz\r\n\" style=\"fill:#ff0051;stroke:#ffffff;stroke-linejoin:miter;stroke-opacity:0.8;\"/>\r\n   </g>\r\n   <g id=\"patch_7\">\r\n    <path clip-path=\"url(#pc3b6e8255a)\" d=\"M 185.558281 178.902709 \r\nL 191.163939 178.902709 \r\nL 191.163939 155.722015 \r\nL 185.558281 155.722015 \r\nz\r\n\" style=\"fill:#ff0051;stroke:#ffffff;stroke-linejoin:miter;stroke-opacity:0.8;\"/>\r\n   </g>\r\n   <g id=\"patch_8\">\r\n    <path clip-path=\"url(#pc3b6e8255a)\" d=\"M 185.558281 212.017985 \r\nL 190.518803 212.017985 \r\nL 190.518803 188.837291 \r\nL 185.558281 188.837291 \r\nz\r\n\" style=\"fill:#ff0051;stroke:#ffffff;stroke-linejoin:miter;stroke-opacity:0.8;\"/>\r\n   </g>\r\n   <g id=\"patch_9\">\r\n    <path clip-path=\"url(#pc3b6e8255a)\" d=\"M 185.558281 245.133261 \r\nL 190.284698 245.133261 \r\nL 190.284698 221.952568 \r\nL 185.558281 221.952568 \r\nz\r\n\" style=\"fill:#ff0051;stroke:#ffffff;stroke-linejoin:miter;stroke-opacity:0.8;\"/>\r\n   </g>\r\n   <g id=\"patch_10\">\r\n    <path clip-path=\"url(#pc3b6e8255a)\" d=\"M 185.558281 278.248538 \r\nL 190.01791 278.248538 \r\nL 190.01791 255.067844 \r\nL 185.558281 255.067844 \r\nz\r\n\" style=\"fill:#ff0051;stroke:#ffffff;stroke-linejoin:miter;stroke-opacity:0.8;\"/>\r\n   </g>\r\n   <g id=\"patch_11\">\r\n    <path clip-path=\"url(#pc3b6e8255a)\" d=\"M 185.558281 311.363814 \r\nL 189.73585 311.363814 \r\nL 189.73585 288.183121 \r\nL 185.558281 288.183121 \r\nz\r\n\" style=\"fill:#ff0051;stroke:#ffffff;stroke-linejoin:miter;stroke-opacity:0.8;\"/>\r\n   </g>\r\n   <g id=\"patch_12\">\r\n    <path clip-path=\"url(#pc3b6e8255a)\" d=\"M 185.558281 344.479091 \r\nL 590.45624 344.479091 \r\nL 590.45624 321.298397 \r\nL 185.558281 321.298397 \r\nz\r\n\" style=\"fill:#ff0051;stroke:#ffffff;stroke-linejoin:miter;stroke-opacity:0.8;\"/>\r\n   </g>\r\n   <g id=\"matplotlib.axis_1\">\r\n    <g id=\"xtick_1\">\r\n     <g id=\"line2d_11\">\r\n      <defs>\r\n       <path d=\"M 0 0 \r\nL 0 3.5 \r\n\" id=\"m96d0853d91\" style=\"stroke:#000000;stroke-width:0.8;\"/>\r\n      </defs>\r\n      <g>\r\n       <use style=\"stroke:#000000;stroke-width:0.8;\" x=\"185.558281\" xlink:href=\"#m96d0853d91\" y=\"360.54\"/>\r\n      </g>\r\n     </g>\r\n     <g id=\"text_1\">\r\n      <!-- 0 -->\r\n      <g transform=\"translate(182.058906 375.898281)scale(0.11 -0.11)\">\r\n       <defs>\r\n        <path d=\"M 31.78125 66.40625 \r\nQ 24.171875 66.40625 20.328125 58.90625 \r\nQ 16.5 51.421875 16.5 36.375 \r\nQ 16.5 21.390625 20.328125 13.890625 \r\nQ 24.171875 6.390625 31.78125 6.390625 \r\nQ 39.453125 6.390625 43.28125 13.890625 \r\nQ 47.125 21.390625 47.125 36.375 \r\nQ 47.125 51.421875 43.28125 58.90625 \r\nQ 39.453125 66.40625 31.78125 66.40625 \r\nz\r\nM 31.78125 74.21875 \r\nQ 44.046875 74.21875 50.515625 64.515625 \r\nQ 56.984375 54.828125 56.984375 36.375 \r\nQ 56.984375 17.96875 50.515625 8.265625 \r\nQ 44.046875 -1.421875 31.78125 -1.421875 \r\nQ 19.53125 -1.421875 13.0625 8.265625 \r\nQ 6.59375 17.96875 6.59375 36.375 \r\nQ 6.59375 54.828125 13.0625 64.515625 \r\nQ 19.53125 74.21875 31.78125 74.21875 \r\nz\r\n\" id=\"DejaVuSans-48\"/>\r\n       </defs>\r\n       <use xlink:href=\"#DejaVuSans-48\"/>\r\n      </g>\r\n     </g>\r\n    </g>\r\n    <g id=\"xtick_2\">\r\n     <g id=\"line2d_12\">\r\n      <g>\r\n       <use style=\"stroke:#000000;stroke-width:0.8;\" x=\"244.375925\" xlink:href=\"#m96d0853d91\" y=\"360.54\"/>\r\n      </g>\r\n     </g>\r\n     <g id=\"text_2\">\r\n      <!-- 20 -->\r\n      <g transform=\"translate(237.377175 375.898281)scale(0.11 -0.11)\">\r\n       <defs>\r\n        <path d=\"M 19.1875 8.296875 \r\nL 53.609375 8.296875 \r\nL 53.609375 0 \r\nL 7.328125 0 \r\nL 7.328125 8.296875 \r\nQ 12.9375 14.109375 22.625 23.890625 \r\nQ 32.328125 33.6875 34.8125 36.53125 \r\nQ 39.546875 41.84375 41.421875 45.53125 \r\nQ 43.3125 49.21875 43.3125 52.78125 \r\nQ 43.3125 58.59375 39.234375 62.25 \r\nQ 35.15625 65.921875 28.609375 65.921875 \r\nQ 23.96875 65.921875 18.8125 64.3125 \r\nQ 13.671875 62.703125 7.8125 59.421875 \r\nL 7.8125 69.390625 \r\nQ 13.765625 71.78125 18.9375 73 \r\nQ 24.125 74.21875 28.421875 74.21875 \r\nQ 39.75 74.21875 46.484375 68.546875 \r\nQ 53.21875 62.890625 53.21875 53.421875 \r\nQ 53.21875 48.921875 51.53125 44.890625 \r\nQ 49.859375 40.875 45.40625 35.40625 \r\nQ 44.1875 33.984375 37.640625 27.21875 \r\nQ 31.109375 20.453125 19.1875 8.296875 \r\nz\r\n\" id=\"DejaVuSans-50\"/>\r\n       </defs>\r\n       <use xlink:href=\"#DejaVuSans-50\"/>\r\n       <use x=\"63.623047\" xlink:href=\"#DejaVuSans-48\"/>\r\n      </g>\r\n     </g>\r\n    </g>\r\n    <g id=\"xtick_3\">\r\n     <g id=\"line2d_13\">\r\n      <g>\r\n       <use style=\"stroke:#000000;stroke-width:0.8;\" x=\"303.193569\" xlink:href=\"#m96d0853d91\" y=\"360.54\"/>\r\n      </g>\r\n     </g>\r\n     <g id=\"text_3\">\r\n      <!-- 40 -->\r\n      <g transform=\"translate(296.194819 375.898281)scale(0.11 -0.11)\">\r\n       <defs>\r\n        <path d=\"M 37.796875 64.3125 \r\nL 12.890625 25.390625 \r\nL 37.796875 25.390625 \r\nz\r\nM 35.203125 72.90625 \r\nL 47.609375 72.90625 \r\nL 47.609375 25.390625 \r\nL 58.015625 25.390625 \r\nL 58.015625 17.1875 \r\nL 47.609375 17.1875 \r\nL 47.609375 0 \r\nL 37.796875 0 \r\nL 37.796875 17.1875 \r\nL 4.890625 17.1875 \r\nL 4.890625 26.703125 \r\nz\r\n\" id=\"DejaVuSans-52\"/>\r\n       </defs>\r\n       <use xlink:href=\"#DejaVuSans-52\"/>\r\n       <use x=\"63.623047\" xlink:href=\"#DejaVuSans-48\"/>\r\n      </g>\r\n     </g>\r\n    </g>\r\n    <g id=\"xtick_4\">\r\n     <g id=\"line2d_14\">\r\n      <g>\r\n       <use style=\"stroke:#000000;stroke-width:0.8;\" x=\"362.011212\" xlink:href=\"#m96d0853d91\" y=\"360.54\"/>\r\n      </g>\r\n     </g>\r\n     <g id=\"text_4\">\r\n      <!-- 60 -->\r\n      <g transform=\"translate(355.012462 375.898281)scale(0.11 -0.11)\">\r\n       <defs>\r\n        <path d=\"M 33.015625 40.375 \r\nQ 26.375 40.375 22.484375 35.828125 \r\nQ 18.609375 31.296875 18.609375 23.390625 \r\nQ 18.609375 15.53125 22.484375 10.953125 \r\nQ 26.375 6.390625 33.015625 6.390625 \r\nQ 39.65625 6.390625 43.53125 10.953125 \r\nQ 47.40625 15.53125 47.40625 23.390625 \r\nQ 47.40625 31.296875 43.53125 35.828125 \r\nQ 39.65625 40.375 33.015625 40.375 \r\nz\r\nM 52.59375 71.296875 \r\nL 52.59375 62.3125 \r\nQ 48.875 64.0625 45.09375 64.984375 \r\nQ 41.3125 65.921875 37.59375 65.921875 \r\nQ 27.828125 65.921875 22.671875 59.328125 \r\nQ 17.53125 52.734375 16.796875 39.40625 \r\nQ 19.671875 43.65625 24.015625 45.921875 \r\nQ 28.375 48.1875 33.59375 48.1875 \r\nQ 44.578125 48.1875 50.953125 41.515625 \r\nQ 57.328125 34.859375 57.328125 23.390625 \r\nQ 57.328125 12.15625 50.6875 5.359375 \r\nQ 44.046875 -1.421875 33.015625 -1.421875 \r\nQ 20.359375 -1.421875 13.671875 8.265625 \r\nQ 6.984375 17.96875 6.984375 36.375 \r\nQ 6.984375 53.65625 15.1875 63.9375 \r\nQ 23.390625 74.21875 37.203125 74.21875 \r\nQ 40.921875 74.21875 44.703125 73.484375 \r\nQ 48.484375 72.75 52.59375 71.296875 \r\nz\r\n\" id=\"DejaVuSans-54\"/>\r\n       </defs>\r\n       <use xlink:href=\"#DejaVuSans-54\"/>\r\n       <use x=\"63.623047\" xlink:href=\"#DejaVuSans-48\"/>\r\n      </g>\r\n     </g>\r\n    </g>\r\n    <g id=\"xtick_5\">\r\n     <g id=\"line2d_15\">\r\n      <g>\r\n       <use style=\"stroke:#000000;stroke-width:0.8;\" x=\"420.828856\" xlink:href=\"#m96d0853d91\" y=\"360.54\"/>\r\n      </g>\r\n     </g>\r\n     <g id=\"text_5\">\r\n      <!-- 80 -->\r\n      <g transform=\"translate(413.830106 375.898281)scale(0.11 -0.11)\">\r\n       <defs>\r\n        <path d=\"M 31.78125 34.625 \r\nQ 24.75 34.625 20.71875 30.859375 \r\nQ 16.703125 27.09375 16.703125 20.515625 \r\nQ 16.703125 13.921875 20.71875 10.15625 \r\nQ 24.75 6.390625 31.78125 6.390625 \r\nQ 38.8125 6.390625 42.859375 10.171875 \r\nQ 46.921875 13.96875 46.921875 20.515625 \r\nQ 46.921875 27.09375 42.890625 30.859375 \r\nQ 38.875 34.625 31.78125 34.625 \r\nz\r\nM 21.921875 38.8125 \r\nQ 15.578125 40.375 12.03125 44.71875 \r\nQ 8.5 49.078125 8.5 55.328125 \r\nQ 8.5 64.0625 14.71875 69.140625 \r\nQ 20.953125 74.21875 31.78125 74.21875 \r\nQ 42.671875 74.21875 48.875 69.140625 \r\nQ 55.078125 64.0625 55.078125 55.328125 \r\nQ 55.078125 49.078125 51.53125 44.71875 \r\nQ 48 40.375 41.703125 38.8125 \r\nQ 48.828125 37.15625 52.796875 32.3125 \r\nQ 56.78125 27.484375 56.78125 20.515625 \r\nQ 56.78125 9.90625 50.3125 4.234375 \r\nQ 43.84375 -1.421875 31.78125 -1.421875 \r\nQ 19.734375 -1.421875 13.25 4.234375 \r\nQ 6.78125 9.90625 6.78125 20.515625 \r\nQ 6.78125 27.484375 10.78125 32.3125 \r\nQ 14.796875 37.15625 21.921875 38.8125 \r\nz\r\nM 18.3125 54.390625 \r\nQ 18.3125 48.734375 21.84375 45.5625 \r\nQ 25.390625 42.390625 31.78125 42.390625 \r\nQ 38.140625 42.390625 41.71875 45.5625 \r\nQ 45.3125 48.734375 45.3125 54.390625 \r\nQ 45.3125 60.0625 41.71875 63.234375 \r\nQ 38.140625 66.40625 31.78125 66.40625 \r\nQ 25.390625 66.40625 21.84375 63.234375 \r\nQ 18.3125 60.0625 18.3125 54.390625 \r\nz\r\n\" id=\"DejaVuSans-56\"/>\r\n       </defs>\r\n       <use xlink:href=\"#DejaVuSans-56\"/>\r\n       <use x=\"63.623047\" xlink:href=\"#DejaVuSans-48\"/>\r\n      </g>\r\n     </g>\r\n    </g>\r\n    <g id=\"xtick_6\">\r\n     <g id=\"line2d_16\">\r\n      <g>\r\n       <use style=\"stroke:#000000;stroke-width:0.8;\" x=\"479.646499\" xlink:href=\"#m96d0853d91\" y=\"360.54\"/>\r\n      </g>\r\n     </g>\r\n     <g id=\"text_6\">\r\n      <!-- 100 -->\r\n      <g transform=\"translate(469.148374 375.898281)scale(0.11 -0.11)\">\r\n       <defs>\r\n        <path d=\"M 12.40625 8.296875 \r\nL 28.515625 8.296875 \r\nL 28.515625 63.921875 \r\nL 10.984375 60.40625 \r\nL 10.984375 69.390625 \r\nL 28.421875 72.90625 \r\nL 38.28125 72.90625 \r\nL 38.28125 8.296875 \r\nL 54.390625 8.296875 \r\nL 54.390625 0 \r\nL 12.40625 0 \r\nz\r\n\" id=\"DejaVuSans-49\"/>\r\n       </defs>\r\n       <use xlink:href=\"#DejaVuSans-49\"/>\r\n       <use x=\"63.623047\" xlink:href=\"#DejaVuSans-48\"/>\r\n       <use x=\"127.246094\" xlink:href=\"#DejaVuSans-48\"/>\r\n      </g>\r\n     </g>\r\n    </g>\r\n    <g id=\"xtick_7\">\r\n     <g id=\"line2d_17\">\r\n      <g>\r\n       <use style=\"stroke:#000000;stroke-width:0.8;\" x=\"538.464143\" xlink:href=\"#m96d0853d91\" y=\"360.54\"/>\r\n      </g>\r\n     </g>\r\n     <g id=\"text_7\">\r\n      <!-- 120 -->\r\n      <g transform=\"translate(527.966018 375.898281)scale(0.11 -0.11)\">\r\n       <use xlink:href=\"#DejaVuSans-49\"/>\r\n       <use x=\"63.623047\" xlink:href=\"#DejaVuSans-50\"/>\r\n       <use x=\"127.246094\" xlink:href=\"#DejaVuSans-48\"/>\r\n      </g>\r\n     </g>\r\n    </g>\r\n    <g id=\"xtick_8\">\r\n     <g id=\"line2d_18\">\r\n      <g>\r\n       <use style=\"stroke:#000000;stroke-width:0.8;\" x=\"597.281787\" xlink:href=\"#m96d0853d91\" y=\"360.54\"/>\r\n      </g>\r\n     </g>\r\n     <g id=\"text_8\">\r\n      <!-- 140 -->\r\n      <g transform=\"translate(586.783662 375.898281)scale(0.11 -0.11)\">\r\n       <use xlink:href=\"#DejaVuSans-49\"/>\r\n       <use x=\"63.623047\" xlink:href=\"#DejaVuSans-52\"/>\r\n       <use x=\"127.246094\" xlink:href=\"#DejaVuSans-48\"/>\r\n      </g>\r\n     </g>\r\n    </g>\r\n    <g id=\"text_9\">\r\n     <!-- |mean(SHAP value)| -->\r\n     <g transform=\"translate(343.671953 392.120781)scale(0.13 -0.13)\">\r\n      <defs>\r\n       <path d=\"M 21 76.421875 \r\nL 21 -23.578125 \r\nL 12.703125 -23.578125 \r\nL 12.703125 76.421875 \r\nz\r\n\" id=\"DejaVuSans-124\"/>\r\n       <path d=\"M 52 44.1875 \r\nQ 55.375 50.25 60.0625 53.125 \r\nQ 64.75 56 71.09375 56 \r\nQ 79.640625 56 84.28125 50.015625 \r\nQ 88.921875 44.046875 88.921875 33.015625 \r\nL 88.921875 0 \r\nL 79.890625 0 \r\nL 79.890625 32.71875 \r\nQ 79.890625 40.578125 77.09375 44.375 \r\nQ 74.3125 48.1875 68.609375 48.1875 \r\nQ 61.625 48.1875 57.5625 43.546875 \r\nQ 53.515625 38.921875 53.515625 30.90625 \r\nL 53.515625 0 \r\nL 44.484375 0 \r\nL 44.484375 32.71875 \r\nQ 44.484375 40.625 41.703125 44.40625 \r\nQ 38.921875 48.1875 33.109375 48.1875 \r\nQ 26.21875 48.1875 22.15625 43.53125 \r\nQ 18.109375 38.875 18.109375 30.90625 \r\nL 18.109375 0 \r\nL 9.078125 0 \r\nL 9.078125 54.6875 \r\nL 18.109375 54.6875 \r\nL 18.109375 46.1875 \r\nQ 21.1875 51.21875 25.484375 53.609375 \r\nQ 29.78125 56 35.6875 56 \r\nQ 41.65625 56 45.828125 52.96875 \r\nQ 50 49.953125 52 44.1875 \r\nz\r\n\" id=\"DejaVuSans-109\"/>\r\n       <path d=\"M 56.203125 29.59375 \r\nL 56.203125 25.203125 \r\nL 14.890625 25.203125 \r\nQ 15.484375 15.921875 20.484375 11.0625 \r\nQ 25.484375 6.203125 34.421875 6.203125 \r\nQ 39.59375 6.203125 44.453125 7.46875 \r\nQ 49.3125 8.734375 54.109375 11.28125 \r\nL 54.109375 2.78125 \r\nQ 49.265625 0.734375 44.1875 -0.34375 \r\nQ 39.109375 -1.421875 33.890625 -1.421875 \r\nQ 20.796875 -1.421875 13.15625 6.1875 \r\nQ 5.515625 13.8125 5.515625 26.8125 \r\nQ 5.515625 40.234375 12.765625 48.109375 \r\nQ 20.015625 56 32.328125 56 \r\nQ 43.359375 56 49.78125 48.890625 \r\nQ 56.203125 41.796875 56.203125 29.59375 \r\nz\r\nM 47.21875 32.234375 \r\nQ 47.125 39.59375 43.09375 43.984375 \r\nQ 39.0625 48.390625 32.421875 48.390625 \r\nQ 24.90625 48.390625 20.390625 44.140625 \r\nQ 15.875 39.890625 15.1875 32.171875 \r\nz\r\n\" id=\"DejaVuSans-101\"/>\r\n       <path d=\"M 34.28125 27.484375 \r\nQ 23.390625 27.484375 19.1875 25 \r\nQ 14.984375 22.515625 14.984375 16.5 \r\nQ 14.984375 11.71875 18.140625 8.90625 \r\nQ 21.296875 6.109375 26.703125 6.109375 \r\nQ 34.1875 6.109375 38.703125 11.40625 \r\nQ 43.21875 16.703125 43.21875 25.484375 \r\nL 43.21875 27.484375 \r\nz\r\nM 52.203125 31.203125 \r\nL 52.203125 0 \r\nL 43.21875 0 \r\nL 43.21875 8.296875 \r\nQ 40.140625 3.328125 35.546875 0.953125 \r\nQ 30.953125 -1.421875 24.3125 -1.421875 \r\nQ 15.921875 -1.421875 10.953125 3.296875 \r\nQ 6 8.015625 6 15.921875 \r\nQ 6 25.140625 12.171875 29.828125 \r\nQ 18.359375 34.515625 30.609375 34.515625 \r\nL 43.21875 34.515625 \r\nL 43.21875 35.40625 \r\nQ 43.21875 41.609375 39.140625 45 \r\nQ 35.0625 48.390625 27.6875 48.390625 \r\nQ 23 48.390625 18.546875 47.265625 \r\nQ 14.109375 46.140625 10.015625 43.890625 \r\nL 10.015625 52.203125 \r\nQ 14.9375 54.109375 19.578125 55.046875 \r\nQ 24.21875 56 28.609375 56 \r\nQ 40.484375 56 46.34375 49.84375 \r\nQ 52.203125 43.703125 52.203125 31.203125 \r\nz\r\n\" id=\"DejaVuSans-97\"/>\r\n       <path d=\"M 54.890625 33.015625 \r\nL 54.890625 0 \r\nL 45.90625 0 \r\nL 45.90625 32.71875 \r\nQ 45.90625 40.484375 42.875 44.328125 \r\nQ 39.84375 48.1875 33.796875 48.1875 \r\nQ 26.515625 48.1875 22.3125 43.546875 \r\nQ 18.109375 38.921875 18.109375 30.90625 \r\nL 18.109375 0 \r\nL 9.078125 0 \r\nL 9.078125 54.6875 \r\nL 18.109375 54.6875 \r\nL 18.109375 46.1875 \r\nQ 21.34375 51.125 25.703125 53.5625 \r\nQ 30.078125 56 35.796875 56 \r\nQ 45.21875 56 50.046875 50.171875 \r\nQ 54.890625 44.34375 54.890625 33.015625 \r\nz\r\n\" id=\"DejaVuSans-110\"/>\r\n       <path d=\"M 31 75.875 \r\nQ 24.46875 64.65625 21.28125 53.65625 \r\nQ 18.109375 42.671875 18.109375 31.390625 \r\nQ 18.109375 20.125 21.3125 9.0625 \r\nQ 24.515625 -2 31 -13.1875 \r\nL 23.1875 -13.1875 \r\nQ 15.875 -1.703125 12.234375 9.375 \r\nQ 8.59375 20.453125 8.59375 31.390625 \r\nQ 8.59375 42.28125 12.203125 53.3125 \r\nQ 15.828125 64.359375 23.1875 75.875 \r\nz\r\n\" id=\"DejaVuSans-40\"/>\r\n       <path d=\"M 53.515625 70.515625 \r\nL 53.515625 60.890625 \r\nQ 47.90625 63.578125 42.921875 64.890625 \r\nQ 37.9375 66.21875 33.296875 66.21875 \r\nQ 25.25 66.21875 20.875 63.09375 \r\nQ 16.5 59.96875 16.5 54.203125 \r\nQ 16.5 49.359375 19.40625 46.890625 \r\nQ 22.3125 44.4375 30.421875 42.921875 \r\nL 36.375 41.703125 \r\nQ 47.40625 39.59375 52.65625 34.296875 \r\nQ 57.90625 29 57.90625 20.125 \r\nQ 57.90625 9.515625 50.796875 4.046875 \r\nQ 43.703125 -1.421875 29.984375 -1.421875 \r\nQ 24.8125 -1.421875 18.96875 -0.25 \r\nQ 13.140625 0.921875 6.890625 3.21875 \r\nL 6.890625 13.375 \r\nQ 12.890625 10.015625 18.65625 8.296875 \r\nQ 24.421875 6.59375 29.984375 6.59375 \r\nQ 38.421875 6.59375 43.015625 9.90625 \r\nQ 47.609375 13.234375 47.609375 19.390625 \r\nQ 47.609375 24.75 44.3125 27.78125 \r\nQ 41.015625 30.8125 33.5 32.328125 \r\nL 27.484375 33.5 \r\nQ 16.453125 35.6875 11.515625 40.375 \r\nQ 6.59375 45.0625 6.59375 53.421875 \r\nQ 6.59375 63.09375 13.40625 68.65625 \r\nQ 20.21875 74.21875 32.171875 74.21875 \r\nQ 37.3125 74.21875 42.625 73.28125 \r\nQ 47.953125 72.359375 53.515625 70.515625 \r\nz\r\n\" id=\"DejaVuSans-83\"/>\r\n       <path d=\"M 9.8125 72.90625 \r\nL 19.671875 72.90625 \r\nL 19.671875 43.015625 \r\nL 55.515625 43.015625 \r\nL 55.515625 72.90625 \r\nL 65.375 72.90625 \r\nL 65.375 0 \r\nL 55.515625 0 \r\nL 55.515625 34.71875 \r\nL 19.671875 34.71875 \r\nL 19.671875 0 \r\nL 9.8125 0 \r\nz\r\n\" id=\"DejaVuSans-72\"/>\r\n       <path d=\"M 34.1875 63.1875 \r\nL 20.796875 26.90625 \r\nL 47.609375 26.90625 \r\nz\r\nM 28.609375 72.90625 \r\nL 39.796875 72.90625 \r\nL 67.578125 0 \r\nL 57.328125 0 \r\nL 50.6875 18.703125 \r\nL 17.828125 18.703125 \r\nL 11.1875 0 \r\nL 0.78125 0 \r\nz\r\n\" id=\"DejaVuSans-65\"/>\r\n       <path d=\"M 19.671875 64.796875 \r\nL 19.671875 37.40625 \r\nL 32.078125 37.40625 \r\nQ 38.96875 37.40625 42.71875 40.96875 \r\nQ 46.484375 44.53125 46.484375 51.125 \r\nQ 46.484375 57.671875 42.71875 61.234375 \r\nQ 38.96875 64.796875 32.078125 64.796875 \r\nz\r\nM 9.8125 72.90625 \r\nL 32.078125 72.90625 \r\nQ 44.34375 72.90625 50.609375 67.359375 \r\nQ 56.890625 61.8125 56.890625 51.125 \r\nQ 56.890625 40.328125 50.609375 34.8125 \r\nQ 44.34375 29.296875 32.078125 29.296875 \r\nL 19.671875 29.296875 \r\nL 19.671875 0 \r\nL 9.8125 0 \r\nz\r\n\" id=\"DejaVuSans-80\"/>\r\n       <path id=\"DejaVuSans-32\"/>\r\n       <path d=\"M 2.984375 54.6875 \r\nL 12.5 54.6875 \r\nL 29.59375 8.796875 \r\nL 46.6875 54.6875 \r\nL 56.203125 54.6875 \r\nL 35.6875 0 \r\nL 23.484375 0 \r\nz\r\n\" id=\"DejaVuSans-118\"/>\r\n       <path d=\"M 9.421875 75.984375 \r\nL 18.40625 75.984375 \r\nL 18.40625 0 \r\nL 9.421875 0 \r\nz\r\n\" id=\"DejaVuSans-108\"/>\r\n       <path d=\"M 8.5 21.578125 \r\nL 8.5 54.6875 \r\nL 17.484375 54.6875 \r\nL 17.484375 21.921875 \r\nQ 17.484375 14.15625 20.5 10.265625 \r\nQ 23.53125 6.390625 29.59375 6.390625 \r\nQ 36.859375 6.390625 41.078125 11.03125 \r\nQ 45.3125 15.671875 45.3125 23.6875 \r\nL 45.3125 54.6875 \r\nL 54.296875 54.6875 \r\nL 54.296875 0 \r\nL 45.3125 0 \r\nL 45.3125 8.40625 \r\nQ 42.046875 3.421875 37.71875 1 \r\nQ 33.40625 -1.421875 27.6875 -1.421875 \r\nQ 18.265625 -1.421875 13.375 4.4375 \r\nQ 8.5 10.296875 8.5 21.578125 \r\nz\r\nM 31.109375 56 \r\nz\r\n\" id=\"DejaVuSans-117\"/>\r\n       <path d=\"M 8.015625 75.875 \r\nL 15.828125 75.875 \r\nQ 23.140625 64.359375 26.78125 53.3125 \r\nQ 30.421875 42.28125 30.421875 31.390625 \r\nQ 30.421875 20.453125 26.78125 9.375 \r\nQ 23.140625 -1.703125 15.828125 -13.1875 \r\nL 8.015625 -13.1875 \r\nQ 14.5 -2 17.703125 9.0625 \r\nQ 20.90625 20.125 20.90625 31.390625 \r\nQ 20.90625 42.671875 17.703125 53.65625 \r\nQ 14.5 64.65625 8.015625 75.875 \r\nz\r\n\" id=\"DejaVuSans-41\"/>\r\n      </defs>\r\n      <use xlink:href=\"#DejaVuSans-124\"/>\r\n      <use x=\"33.691406\" xlink:href=\"#DejaVuSans-109\"/>\r\n      <use x=\"131.103516\" xlink:href=\"#DejaVuSans-101\"/>\r\n      <use x=\"192.626953\" xlink:href=\"#DejaVuSans-97\"/>\r\n      <use x=\"253.90625\" xlink:href=\"#DejaVuSans-110\"/>\r\n      <use x=\"317.285156\" xlink:href=\"#DejaVuSans-40\"/>\r\n      <use x=\"356.298828\" xlink:href=\"#DejaVuSans-83\"/>\r\n      <use x=\"419.775391\" xlink:href=\"#DejaVuSans-72\"/>\r\n      <use x=\"494.970703\" xlink:href=\"#DejaVuSans-65\"/>\r\n      <use x=\"563.378906\" xlink:href=\"#DejaVuSans-80\"/>\r\n      <use x=\"623.681641\" xlink:href=\"#DejaVuSans-32\"/>\r\n      <use x=\"655.46875\" xlink:href=\"#DejaVuSans-118\"/>\r\n      <use x=\"714.648438\" xlink:href=\"#DejaVuSans-97\"/>\r\n      <use x=\"775.927734\" xlink:href=\"#DejaVuSans-108\"/>\r\n      <use x=\"803.710938\" xlink:href=\"#DejaVuSans-117\"/>\r\n      <use x=\"867.089844\" xlink:href=\"#DejaVuSans-101\"/>\r\n      <use x=\"928.613281\" xlink:href=\"#DejaVuSans-41\"/>\r\n      <use x=\"967.626953\" xlink:href=\"#DejaVuSans-124\"/>\r\n     </g>\r\n    </g>\r\n   </g>\r\n   <g id=\"matplotlib.axis_2\">\r\n    <g id=\"ytick_1\">\r\n     <g id=\"text_10\">\r\n      <!-- flame -->\r\n      <g style=\"fill:#999999;\" transform=\"translate(141.741875 39.79024)scale(0.13 -0.13)\">\r\n       <defs>\r\n        <path d=\"M 37.109375 75.984375 \r\nL 37.109375 68.5 \r\nL 28.515625 68.5 \r\nQ 23.6875 68.5 21.796875 66.546875 \r\nQ 19.921875 64.59375 19.921875 59.515625 \r\nL 19.921875 54.6875 \r\nL 34.71875 54.6875 \r\nL 34.71875 47.703125 \r\nL 19.921875 47.703125 \r\nL 19.921875 0 \r\nL 10.890625 0 \r\nL 10.890625 47.703125 \r\nL 2.296875 47.703125 \r\nL 2.296875 54.6875 \r\nL 10.890625 54.6875 \r\nL 10.890625 58.5 \r\nQ 10.890625 67.625 15.140625 71.796875 \r\nQ 19.390625 75.984375 28.609375 75.984375 \r\nz\r\n\" id=\"DejaVuSans-102\"/>\r\n       </defs>\r\n       <use xlink:href=\"#DejaVuSans-102\"/>\r\n       <use x=\"35.205078\" xlink:href=\"#DejaVuSans-108\"/>\r\n       <use x=\"62.988281\" xlink:href=\"#DejaVuSans-97\"/>\r\n       <use x=\"124.267578\" xlink:href=\"#DejaVuSans-109\"/>\r\n       <use x=\"221.679688\" xlink:href=\"#DejaVuSans-101\"/>\r\n      </g>\r\n     </g>\r\n    </g>\r\n    <g id=\"ytick_2\">\r\n     <g id=\"text_11\">\r\n      <!-- fire -->\r\n      <g style=\"fill:#999999;\" transform=\"translate(157.319531 72.905517)scale(0.13 -0.13)\">\r\n       <defs>\r\n        <path d=\"M 9.421875 54.6875 \r\nL 18.40625 54.6875 \r\nL 18.40625 0 \r\nL 9.421875 0 \r\nz\r\nM 9.421875 75.984375 \r\nL 18.40625 75.984375 \r\nL 18.40625 64.59375 \r\nL 9.421875 64.59375 \r\nz\r\n\" id=\"DejaVuSans-105\"/>\r\n        <path d=\"M 41.109375 46.296875 \r\nQ 39.59375 47.171875 37.8125 47.578125 \r\nQ 36.03125 48 33.890625 48 \r\nQ 26.265625 48 22.1875 43.046875 \r\nQ 18.109375 38.09375 18.109375 28.8125 \r\nL 18.109375 0 \r\nL 9.078125 0 \r\nL 9.078125 54.6875 \r\nL 18.109375 54.6875 \r\nL 18.109375 46.1875 \r\nQ 20.953125 51.171875 25.484375 53.578125 \r\nQ 30.03125 56 36.53125 56 \r\nQ 37.453125 56 38.578125 55.875 \r\nQ 39.703125 55.765625 41.0625 55.515625 \r\nz\r\n\" id=\"DejaVuSans-114\"/>\r\n       </defs>\r\n       <use xlink:href=\"#DejaVuSans-102\"/>\r\n       <use x=\"35.205078\" xlink:href=\"#DejaVuSans-105\"/>\r\n       <use x=\"62.988281\" xlink:href=\"#DejaVuSans-114\"/>\r\n       <use x=\"101.851562\" xlink:href=\"#DejaVuSans-101\"/>\r\n      </g>\r\n     </g>\r\n    </g>\r\n    <g id=\"ytick_3\">\r\n     <g id=\"text_12\">\r\n      <!-- burning -->\r\n      <g style=\"fill:#999999;\" transform=\"translate(128.607812 106.020793)scale(0.13 -0.13)\">\r\n       <defs>\r\n        <path d=\"M 48.6875 27.296875 \r\nQ 48.6875 37.203125 44.609375 42.84375 \r\nQ 40.53125 48.484375 33.40625 48.484375 \r\nQ 26.265625 48.484375 22.1875 42.84375 \r\nQ 18.109375 37.203125 18.109375 27.296875 \r\nQ 18.109375 17.390625 22.1875 11.75 \r\nQ 26.265625 6.109375 33.40625 6.109375 \r\nQ 40.53125 6.109375 44.609375 11.75 \r\nQ 48.6875 17.390625 48.6875 27.296875 \r\nz\r\nM 18.109375 46.390625 \r\nQ 20.953125 51.265625 25.265625 53.625 \r\nQ 29.59375 56 35.59375 56 \r\nQ 45.5625 56 51.78125 48.09375 \r\nQ 58.015625 40.1875 58.015625 27.296875 \r\nQ 58.015625 14.40625 51.78125 6.484375 \r\nQ 45.5625 -1.421875 35.59375 -1.421875 \r\nQ 29.59375 -1.421875 25.265625 0.953125 \r\nQ 20.953125 3.328125 18.109375 8.203125 \r\nL 18.109375 0 \r\nL 9.078125 0 \r\nL 9.078125 75.984375 \r\nL 18.109375 75.984375 \r\nz\r\n\" id=\"DejaVuSans-98\"/>\r\n        <path d=\"M 45.40625 27.984375 \r\nQ 45.40625 37.75 41.375 43.109375 \r\nQ 37.359375 48.484375 30.078125 48.484375 \r\nQ 22.859375 48.484375 18.828125 43.109375 \r\nQ 14.796875 37.75 14.796875 27.984375 \r\nQ 14.796875 18.265625 18.828125 12.890625 \r\nQ 22.859375 7.515625 30.078125 7.515625 \r\nQ 37.359375 7.515625 41.375 12.890625 \r\nQ 45.40625 18.265625 45.40625 27.984375 \r\nz\r\nM 54.390625 6.78125 \r\nQ 54.390625 -7.171875 48.1875 -13.984375 \r\nQ 42 -20.796875 29.203125 -20.796875 \r\nQ 24.46875 -20.796875 20.265625 -20.09375 \r\nQ 16.0625 -19.390625 12.109375 -17.921875 \r\nL 12.109375 -9.1875 \r\nQ 16.0625 -11.328125 19.921875 -12.34375 \r\nQ 23.78125 -13.375 27.78125 -13.375 \r\nQ 36.625 -13.375 41.015625 -8.765625 \r\nQ 45.40625 -4.15625 45.40625 5.171875 \r\nL 45.40625 9.625 \r\nQ 42.625 4.78125 38.28125 2.390625 \r\nQ 33.9375 0 27.875 0 \r\nQ 17.828125 0 11.671875 7.65625 \r\nQ 5.515625 15.328125 5.515625 27.984375 \r\nQ 5.515625 40.671875 11.671875 48.328125 \r\nQ 17.828125 56 27.875 56 \r\nQ 33.9375 56 38.28125 53.609375 \r\nQ 42.625 51.21875 45.40625 46.390625 \r\nL 45.40625 54.6875 \r\nL 54.390625 54.6875 \r\nz\r\n\" id=\"DejaVuSans-103\"/>\r\n       </defs>\r\n       <use xlink:href=\"#DejaVuSans-98\"/>\r\n       <use x=\"63.476562\" xlink:href=\"#DejaVuSans-117\"/>\r\n       <use x=\"126.855469\" xlink:href=\"#DejaVuSans-114\"/>\r\n       <use x=\"166.21875\" xlink:href=\"#DejaVuSans-110\"/>\r\n       <use x=\"229.597656\" xlink:href=\"#DejaVuSans-105\"/>\r\n       <use x=\"257.380859\" xlink:href=\"#DejaVuSans-110\"/>\r\n       <use x=\"320.759766\" xlink:href=\"#DejaVuSans-103\"/>\r\n      </g>\r\n     </g>\r\n    </g>\r\n    <g id=\"ytick_4\">\r\n     <g id=\"text_13\">\r\n      <!-- asteroids -->\r\n      <g style=\"fill:#999999;\" transform=\"translate(119.08125 139.13607)scale(0.13 -0.13)\">\r\n       <defs>\r\n        <path d=\"M 44.28125 53.078125 \r\nL 44.28125 44.578125 \r\nQ 40.484375 46.53125 36.375 47.5 \r\nQ 32.28125 48.484375 27.875 48.484375 \r\nQ 21.1875 48.484375 17.84375 46.4375 \r\nQ 14.5 44.390625 14.5 40.28125 \r\nQ 14.5 37.15625 16.890625 35.375 \r\nQ 19.28125 33.59375 26.515625 31.984375 \r\nL 29.59375 31.296875 \r\nQ 39.15625 29.25 43.1875 25.515625 \r\nQ 47.21875 21.78125 47.21875 15.09375 \r\nQ 47.21875 7.46875 41.1875 3.015625 \r\nQ 35.15625 -1.421875 24.609375 -1.421875 \r\nQ 20.21875 -1.421875 15.453125 -0.5625 \r\nQ 10.6875 0.296875 5.421875 2 \r\nL 5.421875 11.28125 \r\nQ 10.40625 8.6875 15.234375 7.390625 \r\nQ 20.0625 6.109375 24.8125 6.109375 \r\nQ 31.15625 6.109375 34.5625 8.28125 \r\nQ 37.984375 10.453125 37.984375 14.40625 \r\nQ 37.984375 18.0625 35.515625 20.015625 \r\nQ 33.0625 21.96875 24.703125 23.78125 \r\nL 21.578125 24.515625 \r\nQ 13.234375 26.265625 9.515625 29.90625 \r\nQ 5.8125 33.546875 5.8125 39.890625 \r\nQ 5.8125 47.609375 11.28125 51.796875 \r\nQ 16.75 56 26.8125 56 \r\nQ 31.78125 56 36.171875 55.265625 \r\nQ 40.578125 54.546875 44.28125 53.078125 \r\nz\r\n\" id=\"DejaVuSans-115\"/>\r\n        <path d=\"M 18.3125 70.21875 \r\nL 18.3125 54.6875 \r\nL 36.8125 54.6875 \r\nL 36.8125 47.703125 \r\nL 18.3125 47.703125 \r\nL 18.3125 18.015625 \r\nQ 18.3125 11.328125 20.140625 9.421875 \r\nQ 21.96875 7.515625 27.59375 7.515625 \r\nL 36.8125 7.515625 \r\nL 36.8125 0 \r\nL 27.59375 0 \r\nQ 17.1875 0 13.234375 3.875 \r\nQ 9.28125 7.765625 9.28125 18.015625 \r\nL 9.28125 47.703125 \r\nL 2.6875 47.703125 \r\nL 2.6875 54.6875 \r\nL 9.28125 54.6875 \r\nL 9.28125 70.21875 \r\nz\r\n\" id=\"DejaVuSans-116\"/>\r\n        <path d=\"M 30.609375 48.390625 \r\nQ 23.390625 48.390625 19.1875 42.75 \r\nQ 14.984375 37.109375 14.984375 27.296875 \r\nQ 14.984375 17.484375 19.15625 11.84375 \r\nQ 23.34375 6.203125 30.609375 6.203125 \r\nQ 37.796875 6.203125 41.984375 11.859375 \r\nQ 46.1875 17.53125 46.1875 27.296875 \r\nQ 46.1875 37.015625 41.984375 42.703125 \r\nQ 37.796875 48.390625 30.609375 48.390625 \r\nz\r\nM 30.609375 56 \r\nQ 42.328125 56 49.015625 48.375 \r\nQ 55.71875 40.765625 55.71875 27.296875 \r\nQ 55.71875 13.875 49.015625 6.21875 \r\nQ 42.328125 -1.421875 30.609375 -1.421875 \r\nQ 18.84375 -1.421875 12.171875 6.21875 \r\nQ 5.515625 13.875 5.515625 27.296875 \r\nQ 5.515625 40.765625 12.171875 48.375 \r\nQ 18.84375 56 30.609375 56 \r\nz\r\n\" id=\"DejaVuSans-111\"/>\r\n        <path d=\"M 45.40625 46.390625 \r\nL 45.40625 75.984375 \r\nL 54.390625 75.984375 \r\nL 54.390625 0 \r\nL 45.40625 0 \r\nL 45.40625 8.203125 \r\nQ 42.578125 3.328125 38.25 0.953125 \r\nQ 33.9375 -1.421875 27.875 -1.421875 \r\nQ 17.96875 -1.421875 11.734375 6.484375 \r\nQ 5.515625 14.40625 5.515625 27.296875 \r\nQ 5.515625 40.1875 11.734375 48.09375 \r\nQ 17.96875 56 27.875 56 \r\nQ 33.9375 56 38.25 53.625 \r\nQ 42.578125 51.265625 45.40625 46.390625 \r\nz\r\nM 14.796875 27.296875 \r\nQ 14.796875 17.390625 18.875 11.75 \r\nQ 22.953125 6.109375 30.078125 6.109375 \r\nQ 37.203125 6.109375 41.296875 11.75 \r\nQ 45.40625 17.390625 45.40625 27.296875 \r\nQ 45.40625 37.203125 41.296875 42.84375 \r\nQ 37.203125 48.484375 30.078125 48.484375 \r\nQ 22.953125 48.484375 18.875 42.84375 \r\nQ 14.796875 37.203125 14.796875 27.296875 \r\nz\r\n\" id=\"DejaVuSans-100\"/>\r\n       </defs>\r\n       <use xlink:href=\"#DejaVuSans-97\"/>\r\n       <use x=\"61.279297\" xlink:href=\"#DejaVuSans-115\"/>\r\n       <use x=\"113.378906\" xlink:href=\"#DejaVuSans-116\"/>\r\n       <use x=\"152.587891\" xlink:href=\"#DejaVuSans-101\"/>\r\n       <use x=\"214.111328\" xlink:href=\"#DejaVuSans-114\"/>\r\n       <use x=\"252.974609\" xlink:href=\"#DejaVuSans-111\"/>\r\n       <use x=\"314.15625\" xlink:href=\"#DejaVuSans-105\"/>\r\n       <use x=\"341.939453\" xlink:href=\"#DejaVuSans-100\"/>\r\n       <use x=\"405.416016\" xlink:href=\"#DejaVuSans-115\"/>\r\n      </g>\r\n     </g>\r\n    </g>\r\n    <g id=\"ytick_5\">\r\n     <g id=\"text_14\">\r\n      <!-- tube -->\r\n      <g style=\"fill:#999999;\" transform=\"translate(148.971094 172.251346)scale(0.13 -0.13)\">\r\n       <use xlink:href=\"#DejaVuSans-116\"/>\r\n       <use x=\"39.208984\" xlink:href=\"#DejaVuSans-117\"/>\r\n       <use x=\"102.587891\" xlink:href=\"#DejaVuSans-98\"/>\r\n       <use x=\"166.064453\" xlink:href=\"#DejaVuSans-101\"/>\r\n      </g>\r\n     </g>\r\n    </g>\r\n    <g id=\"ytick_6\">\r\n     <g id=\"text_15\">\r\n      <!-- supplies -->\r\n      <g style=\"fill:#999999;\" transform=\"translate(125.047031 205.366623)scale(0.13 -0.13)\">\r\n       <defs>\r\n        <path d=\"M 18.109375 8.203125 \r\nL 18.109375 -20.796875 \r\nL 9.078125 -20.796875 \r\nL 9.078125 54.6875 \r\nL 18.109375 54.6875 \r\nL 18.109375 46.390625 \r\nQ 20.953125 51.265625 25.265625 53.625 \r\nQ 29.59375 56 35.59375 56 \r\nQ 45.5625 56 51.78125 48.09375 \r\nQ 58.015625 40.1875 58.015625 27.296875 \r\nQ 58.015625 14.40625 51.78125 6.484375 \r\nQ 45.5625 -1.421875 35.59375 -1.421875 \r\nQ 29.59375 -1.421875 25.265625 0.953125 \r\nQ 20.953125 3.328125 18.109375 8.203125 \r\nz\r\nM 48.6875 27.296875 \r\nQ 48.6875 37.203125 44.609375 42.84375 \r\nQ 40.53125 48.484375 33.40625 48.484375 \r\nQ 26.265625 48.484375 22.1875 42.84375 \r\nQ 18.109375 37.203125 18.109375 27.296875 \r\nQ 18.109375 17.390625 22.1875 11.75 \r\nQ 26.265625 6.109375 33.40625 6.109375 \r\nQ 40.53125 6.109375 44.609375 11.75 \r\nQ 48.6875 17.390625 48.6875 27.296875 \r\nz\r\n\" id=\"DejaVuSans-112\"/>\r\n       </defs>\r\n       <use xlink:href=\"#DejaVuSans-115\"/>\r\n       <use x=\"52.099609\" xlink:href=\"#DejaVuSans-117\"/>\r\n       <use x=\"115.478516\" xlink:href=\"#DejaVuSans-112\"/>\r\n       <use x=\"178.955078\" xlink:href=\"#DejaVuSans-112\"/>\r\n       <use x=\"242.431641\" xlink:href=\"#DejaVuSans-108\"/>\r\n       <use x=\"270.214844\" xlink:href=\"#DejaVuSans-105\"/>\r\n       <use x=\"297.998047\" xlink:href=\"#DejaVuSans-101\"/>\r\n       <use x=\"359.521484\" xlink:href=\"#DejaVuSans-115\"/>\r\n      </g>\r\n     </g>\r\n    </g>\r\n    <g id=\"ytick_7\">\r\n     <g id=\"text_16\">\r\n      <!-- five -->\r\n      <g style=\"fill:#999999;\" transform=\"translate(154.676875 238.481899)scale(0.13 -0.13)\">\r\n       <use xlink:href=\"#DejaVuSans-102\"/>\r\n       <use x=\"35.205078\" xlink:href=\"#DejaVuSans-105\"/>\r\n       <use x=\"62.988281\" xlink:href=\"#DejaVuSans-118\"/>\r\n       <use x=\"122.167969\" xlink:href=\"#DejaVuSans-101\"/>\r\n      </g>\r\n     </g>\r\n    </g>\r\n    <g id=\"ytick_8\">\r\n     <g id=\"text_17\">\r\n      <!-- dark -->\r\n      <g style=\"fill:#999999;\" transform=\"translate(149.466719 271.597176)scale(0.13 -0.13)\">\r\n       <defs>\r\n        <path d=\"M 9.078125 75.984375 \r\nL 18.109375 75.984375 \r\nL 18.109375 31.109375 \r\nL 44.921875 54.6875 \r\nL 56.390625 54.6875 \r\nL 27.390625 29.109375 \r\nL 57.625 0 \r\nL 45.90625 0 \r\nL 18.109375 26.703125 \r\nL 18.109375 0 \r\nL 9.078125 0 \r\nz\r\n\" id=\"DejaVuSans-107\"/>\r\n       </defs>\r\n       <use xlink:href=\"#DejaVuSans-100\"/>\r\n       <use x=\"63.476562\" xlink:href=\"#DejaVuSans-97\"/>\r\n       <use x=\"124.755859\" xlink:href=\"#DejaVuSans-114\"/>\r\n       <use x=\"165.869141\" xlink:href=\"#DejaVuSans-107\"/>\r\n      </g>\r\n     </g>\r\n    </g>\r\n    <g id=\"ytick_9\">\r\n     <g id=\"text_18\">\r\n      <!-- god -->\r\n      <g style=\"fill:#999999;\" transform=\"translate(154.097969 304.712452)scale(0.13 -0.13)\">\r\n       <use xlink:href=\"#DejaVuSans-103\"/>\r\n       <use x=\"63.476562\" xlink:href=\"#DejaVuSans-111\"/>\r\n       <use x=\"124.658203\" xlink:href=\"#DejaVuSans-100\"/>\r\n      </g>\r\n     </g>\r\n    </g>\r\n    <g id=\"ytick_10\">\r\n     <g id=\"text_19\">\r\n      <!-- Sum of 503 other features -->\r\n      <g style=\"fill:#999999;\" transform=\"translate(7.2 337.827729)scale(0.13 -0.13)\">\r\n       <defs>\r\n        <path d=\"M 10.796875 72.90625 \r\nL 49.515625 72.90625 \r\nL 49.515625 64.59375 \r\nL 19.828125 64.59375 \r\nL 19.828125 46.734375 \r\nQ 21.96875 47.46875 24.109375 47.828125 \r\nQ 26.265625 48.1875 28.421875 48.1875 \r\nQ 40.625 48.1875 47.75 41.5 \r\nQ 54.890625 34.8125 54.890625 23.390625 \r\nQ 54.890625 11.625 47.5625 5.09375 \r\nQ 40.234375 -1.421875 26.90625 -1.421875 \r\nQ 22.3125 -1.421875 17.546875 -0.640625 \r\nQ 12.796875 0.140625 7.71875 1.703125 \r\nL 7.71875 11.625 \r\nQ 12.109375 9.234375 16.796875 8.0625 \r\nQ 21.484375 6.890625 26.703125 6.890625 \r\nQ 35.15625 6.890625 40.078125 11.328125 \r\nQ 45.015625 15.765625 45.015625 23.390625 \r\nQ 45.015625 31 40.078125 35.4375 \r\nQ 35.15625 39.890625 26.703125 39.890625 \r\nQ 22.75 39.890625 18.8125 39.015625 \r\nQ 14.890625 38.140625 10.796875 36.28125 \r\nz\r\n\" id=\"DejaVuSans-53\"/>\r\n        <path d=\"M 40.578125 39.3125 \r\nQ 47.65625 37.796875 51.625 33 \r\nQ 55.609375 28.21875 55.609375 21.1875 \r\nQ 55.609375 10.40625 48.1875 4.484375 \r\nQ 40.765625 -1.421875 27.09375 -1.421875 \r\nQ 22.515625 -1.421875 17.65625 -0.515625 \r\nQ 12.796875 0.390625 7.625 2.203125 \r\nL 7.625 11.71875 \r\nQ 11.71875 9.328125 16.59375 8.109375 \r\nQ 21.484375 6.890625 26.8125 6.890625 \r\nQ 36.078125 6.890625 40.9375 10.546875 \r\nQ 45.796875 14.203125 45.796875 21.1875 \r\nQ 45.796875 27.640625 41.28125 31.265625 \r\nQ 36.765625 34.90625 28.71875 34.90625 \r\nL 20.21875 34.90625 \r\nL 20.21875 43.015625 \r\nL 29.109375 43.015625 \r\nQ 36.375 43.015625 40.234375 45.921875 \r\nQ 44.09375 48.828125 44.09375 54.296875 \r\nQ 44.09375 59.90625 40.109375 62.90625 \r\nQ 36.140625 65.921875 28.71875 65.921875 \r\nQ 24.65625 65.921875 20.015625 65.03125 \r\nQ 15.375 64.15625 9.8125 62.3125 \r\nL 9.8125 71.09375 \r\nQ 15.4375 72.65625 20.34375 73.4375 \r\nQ 25.25 74.21875 29.59375 74.21875 \r\nQ 40.828125 74.21875 47.359375 69.109375 \r\nQ 53.90625 64.015625 53.90625 55.328125 \r\nQ 53.90625 49.265625 50.4375 45.09375 \r\nQ 46.96875 40.921875 40.578125 39.3125 \r\nz\r\n\" id=\"DejaVuSans-51\"/>\r\n        <path d=\"M 54.890625 33.015625 \r\nL 54.890625 0 \r\nL 45.90625 0 \r\nL 45.90625 32.71875 \r\nQ 45.90625 40.484375 42.875 44.328125 \r\nQ 39.84375 48.1875 33.796875 48.1875 \r\nQ 26.515625 48.1875 22.3125 43.546875 \r\nQ 18.109375 38.921875 18.109375 30.90625 \r\nL 18.109375 0 \r\nL 9.078125 0 \r\nL 9.078125 75.984375 \r\nL 18.109375 75.984375 \r\nL 18.109375 46.1875 \r\nQ 21.34375 51.125 25.703125 53.5625 \r\nQ 30.078125 56 35.796875 56 \r\nQ 45.21875 56 50.046875 50.171875 \r\nQ 54.890625 44.34375 54.890625 33.015625 \r\nz\r\n\" id=\"DejaVuSans-104\"/>\r\n       </defs>\r\n       <use xlink:href=\"#DejaVuSans-83\"/>\r\n       <use x=\"63.476562\" xlink:href=\"#DejaVuSans-117\"/>\r\n       <use x=\"126.855469\" xlink:href=\"#DejaVuSans-109\"/>\r\n       <use x=\"224.267578\" xlink:href=\"#DejaVuSans-32\"/>\r\n       <use x=\"256.054688\" xlink:href=\"#DejaVuSans-111\"/>\r\n       <use x=\"317.236328\" xlink:href=\"#DejaVuSans-102\"/>\r\n       <use x=\"352.441406\" xlink:href=\"#DejaVuSans-32\"/>\r\n       <use x=\"384.228516\" xlink:href=\"#DejaVuSans-53\"/>\r\n       <use x=\"447.851562\" xlink:href=\"#DejaVuSans-48\"/>\r\n       <use x=\"511.474609\" xlink:href=\"#DejaVuSans-51\"/>\r\n       <use x=\"575.097656\" xlink:href=\"#DejaVuSans-32\"/>\r\n       <use x=\"606.884766\" xlink:href=\"#DejaVuSans-111\"/>\r\n       <use x=\"668.066406\" xlink:href=\"#DejaVuSans-116\"/>\r\n       <use x=\"707.275391\" xlink:href=\"#DejaVuSans-104\"/>\r\n       <use x=\"770.654297\" xlink:href=\"#DejaVuSans-101\"/>\r\n       <use x=\"832.177734\" xlink:href=\"#DejaVuSans-114\"/>\r\n       <use x=\"873.291016\" xlink:href=\"#DejaVuSans-32\"/>\r\n       <use x=\"905.078125\" xlink:href=\"#DejaVuSans-102\"/>\r\n       <use x=\"940.283203\" xlink:href=\"#DejaVuSans-101\"/>\r\n       <use x=\"1001.806641\" xlink:href=\"#DejaVuSans-97\"/>\r\n       <use x=\"1063.085938\" xlink:href=\"#DejaVuSans-116\"/>\r\n       <use x=\"1102.294922\" xlink:href=\"#DejaVuSans-117\"/>\r\n       <use x=\"1165.673828\" xlink:href=\"#DejaVuSans-114\"/>\r\n       <use x=\"1204.537109\" xlink:href=\"#DejaVuSans-101\"/>\r\n       <use x=\"1266.060547\" xlink:href=\"#DejaVuSans-115\"/>\r\n      </g>\r\n     </g>\r\n    </g>\r\n    <g id=\"ytick_11\">\r\n     <g id=\"text_20\">\r\n      <!-- flame -->\r\n      <g transform=\"translate(141.741875 39.79024)scale(0.13 -0.13)\">\r\n       <use xlink:href=\"#DejaVuSans-102\"/>\r\n       <use x=\"35.205078\" xlink:href=\"#DejaVuSans-108\"/>\r\n       <use x=\"62.988281\" xlink:href=\"#DejaVuSans-97\"/>\r\n       <use x=\"124.267578\" xlink:href=\"#DejaVuSans-109\"/>\r\n       <use x=\"221.679688\" xlink:href=\"#DejaVuSans-101\"/>\r\n      </g>\r\n     </g>\r\n    </g>\r\n    <g id=\"ytick_12\">\r\n     <g id=\"text_21\">\r\n      <!-- fire -->\r\n      <g transform=\"translate(157.319531 72.905516)scale(0.13 -0.13)\">\r\n       <use xlink:href=\"#DejaVuSans-102\"/>\r\n       <use x=\"35.205078\" xlink:href=\"#DejaVuSans-105\"/>\r\n       <use x=\"62.988281\" xlink:href=\"#DejaVuSans-114\"/>\r\n       <use x=\"101.851562\" xlink:href=\"#DejaVuSans-101\"/>\r\n      </g>\r\n     </g>\r\n    </g>\r\n    <g id=\"ytick_13\">\r\n     <g id=\"text_22\">\r\n      <!-- burning -->\r\n      <g transform=\"translate(128.607812 106.020793)scale(0.13 -0.13)\">\r\n       <use xlink:href=\"#DejaVuSans-98\"/>\r\n       <use x=\"63.476562\" xlink:href=\"#DejaVuSans-117\"/>\r\n       <use x=\"126.855469\" xlink:href=\"#DejaVuSans-114\"/>\r\n       <use x=\"166.21875\" xlink:href=\"#DejaVuSans-110\"/>\r\n       <use x=\"229.597656\" xlink:href=\"#DejaVuSans-105\"/>\r\n       <use x=\"257.380859\" xlink:href=\"#DejaVuSans-110\"/>\r\n       <use x=\"320.759766\" xlink:href=\"#DejaVuSans-103\"/>\r\n      </g>\r\n     </g>\r\n    </g>\r\n    <g id=\"ytick_14\">\r\n     <g id=\"text_23\">\r\n      <!-- asteroids -->\r\n      <g transform=\"translate(119.08125 139.136069)scale(0.13 -0.13)\">\r\n       <use xlink:href=\"#DejaVuSans-97\"/>\r\n       <use x=\"61.279297\" xlink:href=\"#DejaVuSans-115\"/>\r\n       <use x=\"113.378906\" xlink:href=\"#DejaVuSans-116\"/>\r\n       <use x=\"152.587891\" xlink:href=\"#DejaVuSans-101\"/>\r\n       <use x=\"214.111328\" xlink:href=\"#DejaVuSans-114\"/>\r\n       <use x=\"252.974609\" xlink:href=\"#DejaVuSans-111\"/>\r\n       <use x=\"314.15625\" xlink:href=\"#DejaVuSans-105\"/>\r\n       <use x=\"341.939453\" xlink:href=\"#DejaVuSans-100\"/>\r\n       <use x=\"405.416016\" xlink:href=\"#DejaVuSans-115\"/>\r\n      </g>\r\n     </g>\r\n    </g>\r\n    <g id=\"ytick_15\">\r\n     <g id=\"text_24\">\r\n      <!-- tube -->\r\n      <g transform=\"translate(148.971094 172.251346)scale(0.13 -0.13)\">\r\n       <use xlink:href=\"#DejaVuSans-116\"/>\r\n       <use x=\"39.208984\" xlink:href=\"#DejaVuSans-117\"/>\r\n       <use x=\"102.587891\" xlink:href=\"#DejaVuSans-98\"/>\r\n       <use x=\"166.064453\" xlink:href=\"#DejaVuSans-101\"/>\r\n      </g>\r\n     </g>\r\n    </g>\r\n    <g id=\"ytick_16\">\r\n     <g id=\"text_25\">\r\n      <!-- supplies -->\r\n      <g transform=\"translate(125.047031 205.366622)scale(0.13 -0.13)\">\r\n       <use xlink:href=\"#DejaVuSans-115\"/>\r\n       <use x=\"52.099609\" xlink:href=\"#DejaVuSans-117\"/>\r\n       <use x=\"115.478516\" xlink:href=\"#DejaVuSans-112\"/>\r\n       <use x=\"178.955078\" xlink:href=\"#DejaVuSans-112\"/>\r\n       <use x=\"242.431641\" xlink:href=\"#DejaVuSans-108\"/>\r\n       <use x=\"270.214844\" xlink:href=\"#DejaVuSans-105\"/>\r\n       <use x=\"297.998047\" xlink:href=\"#DejaVuSans-101\"/>\r\n       <use x=\"359.521484\" xlink:href=\"#DejaVuSans-115\"/>\r\n      </g>\r\n     </g>\r\n    </g>\r\n    <g id=\"ytick_17\">\r\n     <g id=\"text_26\">\r\n      <!-- five -->\r\n      <g transform=\"translate(154.676875 238.481899)scale(0.13 -0.13)\">\r\n       <use xlink:href=\"#DejaVuSans-102\"/>\r\n       <use x=\"35.205078\" xlink:href=\"#DejaVuSans-105\"/>\r\n       <use x=\"62.988281\" xlink:href=\"#DejaVuSans-118\"/>\r\n       <use x=\"122.167969\" xlink:href=\"#DejaVuSans-101\"/>\r\n      </g>\r\n     </g>\r\n    </g>\r\n    <g id=\"ytick_18\">\r\n     <g id=\"text_27\">\r\n      <!-- dark -->\r\n      <g transform=\"translate(149.466719 271.597175)scale(0.13 -0.13)\">\r\n       <use xlink:href=\"#DejaVuSans-100\"/>\r\n       <use x=\"63.476562\" xlink:href=\"#DejaVuSans-97\"/>\r\n       <use x=\"124.755859\" xlink:href=\"#DejaVuSans-114\"/>\r\n       <use x=\"165.869141\" xlink:href=\"#DejaVuSans-107\"/>\r\n      </g>\r\n     </g>\r\n    </g>\r\n    <g id=\"ytick_19\">\r\n     <g id=\"text_28\">\r\n      <!-- god -->\r\n      <g transform=\"translate(154.097969 304.712452)scale(0.13 -0.13)\">\r\n       <use xlink:href=\"#DejaVuSans-103\"/>\r\n       <use x=\"63.476562\" xlink:href=\"#DejaVuSans-111\"/>\r\n       <use x=\"124.658203\" xlink:href=\"#DejaVuSans-100\"/>\r\n      </g>\r\n     </g>\r\n    </g>\r\n    <g id=\"ytick_20\">\r\n     <g id=\"text_29\">\r\n      <!-- Sum of 503 other features -->\r\n      <g transform=\"translate(7.2 337.827728)scale(0.13 -0.13)\">\r\n       <use xlink:href=\"#DejaVuSans-83\"/>\r\n       <use x=\"63.476562\" xlink:href=\"#DejaVuSans-117\"/>\r\n       <use x=\"126.855469\" xlink:href=\"#DejaVuSans-109\"/>\r\n       <use x=\"224.267578\" xlink:href=\"#DejaVuSans-32\"/>\r\n       <use x=\"256.054688\" xlink:href=\"#DejaVuSans-111\"/>\r\n       <use x=\"317.236328\" xlink:href=\"#DejaVuSans-102\"/>\r\n       <use x=\"352.441406\" xlink:href=\"#DejaVuSans-32\"/>\r\n       <use x=\"384.228516\" xlink:href=\"#DejaVuSans-53\"/>\r\n       <use x=\"447.851562\" xlink:href=\"#DejaVuSans-48\"/>\r\n       <use x=\"511.474609\" xlink:href=\"#DejaVuSans-51\"/>\r\n       <use x=\"575.097656\" xlink:href=\"#DejaVuSans-32\"/>\r\n       <use x=\"606.884766\" xlink:href=\"#DejaVuSans-111\"/>\r\n       <use x=\"668.066406\" xlink:href=\"#DejaVuSans-116\"/>\r\n       <use x=\"707.275391\" xlink:href=\"#DejaVuSans-104\"/>\r\n       <use x=\"770.654297\" xlink:href=\"#DejaVuSans-101\"/>\r\n       <use x=\"832.177734\" xlink:href=\"#DejaVuSans-114\"/>\r\n       <use x=\"873.291016\" xlink:href=\"#DejaVuSans-32\"/>\r\n       <use x=\"905.078125\" xlink:href=\"#DejaVuSans-102\"/>\r\n       <use x=\"940.283203\" xlink:href=\"#DejaVuSans-101\"/>\r\n       <use x=\"1001.806641\" xlink:href=\"#DejaVuSans-97\"/>\r\n       <use x=\"1063.085938\" xlink:href=\"#DejaVuSans-116\"/>\r\n       <use x=\"1102.294922\" xlink:href=\"#DejaVuSans-117\"/>\r\n       <use x=\"1165.673828\" xlink:href=\"#DejaVuSans-114\"/>\r\n       <use x=\"1204.537109\" xlink:href=\"#DejaVuSans-101\"/>\r\n       <use x=\"1266.060547\" xlink:href=\"#DejaVuSans-115\"/>\r\n      </g>\r\n     </g>\r\n    </g>\r\n   </g>\r\n   <g id=\"patch_13\">\r\n    <path d=\"M 185.558281 360.54 \r\nL 185.558281 7.2 \r\n\" style=\"fill:none;stroke:#000000;stroke-linecap:square;stroke-linejoin:miter;stroke-width:0.8;\"/>\r\n   </g>\r\n   <g id=\"patch_14\">\r\n    <path d=\"M 185.558281 360.54 \r\nL 631.958281 360.54 \r\n\" style=\"fill:none;stroke:#000000;stroke-linecap:square;stroke-linejoin:miter;stroke-width:0.8;\"/>\r\n   </g>\r\n   <g id=\"text_30\">\r\n    <!-- +3.31 -->\r\n    <g style=\"fill:#ff0051;\" transform=\"translate(200.062698 38.162506)scale(0.12 -0.12)\">\r\n     <defs>\r\n      <path d=\"M 46 62.703125 \r\nL 46 35.5 \r\nL 73.1875 35.5 \r\nL 73.1875 27.203125 \r\nL 46 27.203125 \r\nL 46 0 \r\nL 37.796875 0 \r\nL 37.796875 27.203125 \r\nL 10.59375 27.203125 \r\nL 10.59375 35.5 \r\nL 37.796875 35.5 \r\nL 37.796875 62.703125 \r\nz\r\n\" id=\"DejaVuSans-43\"/>\r\n      <path d=\"M 10.6875 12.40625 \r\nL 21 12.40625 \r\nL 21 0 \r\nL 10.6875 0 \r\nz\r\n\" id=\"DejaVuSans-46\"/>\r\n     </defs>\r\n     <use xlink:href=\"#DejaVuSans-43\"/>\r\n     <use x=\"83.789062\" xlink:href=\"#DejaVuSans-51\"/>\r\n     <use x=\"147.412109\" xlink:href=\"#DejaVuSans-46\"/>\r\n     <use x=\"179.199219\" xlink:href=\"#DejaVuSans-51\"/>\r\n     <use x=\"242.822266\" xlink:href=\"#DejaVuSans-49\"/>\r\n    </g>\r\n   </g>\r\n   <g id=\"text_31\">\r\n    <!-- +3.15 -->\r\n    <g style=\"fill:#ff0051;\" transform=\"translate(199.573274 71.277782)scale(0.12 -0.12)\">\r\n     <use xlink:href=\"#DejaVuSans-43\"/>\r\n     <use x=\"83.789062\" xlink:href=\"#DejaVuSans-51\"/>\r\n     <use x=\"147.412109\" xlink:href=\"#DejaVuSans-46\"/>\r\n     <use x=\"179.199219\" xlink:href=\"#DejaVuSans-49\"/>\r\n     <use x=\"242.822266\" xlink:href=\"#DejaVuSans-53\"/>\r\n    </g>\r\n   </g>\r\n   <g id=\"text_32\">\r\n    <!-- +2.87 -->\r\n    <g style=\"fill:#ff0051;\" transform=\"translate(198.759699 104.393059)scale(0.12 -0.12)\">\r\n     <defs>\r\n      <path d=\"M 8.203125 72.90625 \r\nL 55.078125 72.90625 \r\nL 55.078125 68.703125 \r\nL 28.609375 0 \r\nL 18.3125 0 \r\nL 43.21875 64.59375 \r\nL 8.203125 64.59375 \r\nz\r\n\" id=\"DejaVuSans-55\"/>\r\n     </defs>\r\n     <use xlink:href=\"#DejaVuSans-43\"/>\r\n     <use x=\"83.789062\" xlink:href=\"#DejaVuSans-50\"/>\r\n     <use x=\"147.412109\" xlink:href=\"#DejaVuSans-46\"/>\r\n     <use x=\"179.199219\" xlink:href=\"#DejaVuSans-56\"/>\r\n     <use x=\"242.822266\" xlink:href=\"#DejaVuSans-55\"/>\r\n    </g>\r\n   </g>\r\n   <g id=\"text_33\">\r\n    <!-- +2.14 -->\r\n    <g style=\"fill:#ff0051;\" transform=\"translate(196.603463 137.508335)scale(0.12 -0.12)\">\r\n     <use xlink:href=\"#DejaVuSans-43\"/>\r\n     <use x=\"83.789062\" xlink:href=\"#DejaVuSans-50\"/>\r\n     <use x=\"147.412109\" xlink:href=\"#DejaVuSans-46\"/>\r\n     <use x=\"179.199219\" xlink:href=\"#DejaVuSans-49\"/>\r\n     <use x=\"242.822266\" xlink:href=\"#DejaVuSans-52\"/>\r\n    </g>\r\n   </g>\r\n   <g id=\"text_34\">\r\n    <!-- +1.91 -->\r\n    <g style=\"fill:#ff0051;\" transform=\"translate(195.925843 170.623612)scale(0.12 -0.12)\">\r\n     <defs>\r\n      <path d=\"M 10.984375 1.515625 \r\nL 10.984375 10.5 \r\nQ 14.703125 8.734375 18.5 7.8125 \r\nQ 22.3125 6.890625 25.984375 6.890625 \r\nQ 35.75 6.890625 40.890625 13.453125 \r\nQ 46.046875 20.015625 46.78125 33.40625 \r\nQ 43.953125 29.203125 39.59375 26.953125 \r\nQ 35.25 24.703125 29.984375 24.703125 \r\nQ 19.046875 24.703125 12.671875 31.3125 \r\nQ 6.296875 37.9375 6.296875 49.421875 \r\nQ 6.296875 60.640625 12.9375 67.421875 \r\nQ 19.578125 74.21875 30.609375 74.21875 \r\nQ 43.265625 74.21875 49.921875 64.515625 \r\nQ 56.59375 54.828125 56.59375 36.375 \r\nQ 56.59375 19.140625 48.40625 8.859375 \r\nQ 40.234375 -1.421875 26.421875 -1.421875 \r\nQ 22.703125 -1.421875 18.890625 -0.6875 \r\nQ 15.09375 0.046875 10.984375 1.515625 \r\nz\r\nM 30.609375 32.421875 \r\nQ 37.25 32.421875 41.125 36.953125 \r\nQ 45.015625 41.5 45.015625 49.421875 \r\nQ 45.015625 57.28125 41.125 61.84375 \r\nQ 37.25 66.40625 30.609375 66.40625 \r\nQ 23.96875 66.40625 20.09375 61.84375 \r\nQ 16.21875 57.28125 16.21875 49.421875 \r\nQ 16.21875 41.5 20.09375 36.953125 \r\nQ 23.96875 32.421875 30.609375 32.421875 \r\nz\r\n\" id=\"DejaVuSans-57\"/>\r\n     </defs>\r\n     <use xlink:href=\"#DejaVuSans-43\"/>\r\n     <use x=\"83.789062\" xlink:href=\"#DejaVuSans-49\"/>\r\n     <use x=\"147.412109\" xlink:href=\"#DejaVuSans-46\"/>\r\n     <use x=\"179.199219\" xlink:href=\"#DejaVuSans-57\"/>\r\n     <use x=\"242.822266\" xlink:href=\"#DejaVuSans-49\"/>\r\n    </g>\r\n   </g>\r\n   <g id=\"text_35\">\r\n    <!-- +1.69 -->\r\n    <g style=\"fill:#ff0051;\" transform=\"translate(195.280708 203.738888)scale(0.12 -0.12)\">\r\n     <use xlink:href=\"#DejaVuSans-43\"/>\r\n     <use x=\"83.789062\" xlink:href=\"#DejaVuSans-49\"/>\r\n     <use x=\"147.412109\" xlink:href=\"#DejaVuSans-46\"/>\r\n     <use x=\"179.199219\" xlink:href=\"#DejaVuSans-54\"/>\r\n     <use x=\"242.822266\" xlink:href=\"#DejaVuSans-57\"/>\r\n    </g>\r\n   </g>\r\n   <g id=\"text_36\">\r\n    <!-- +1.61 -->\r\n    <g style=\"fill:#ff0051;\" transform=\"translate(195.046603 236.854165)scale(0.12 -0.12)\">\r\n     <use xlink:href=\"#DejaVuSans-43\"/>\r\n     <use x=\"83.789062\" xlink:href=\"#DejaVuSans-49\"/>\r\n     <use x=\"147.412109\" xlink:href=\"#DejaVuSans-46\"/>\r\n     <use x=\"179.199219\" xlink:href=\"#DejaVuSans-54\"/>\r\n     <use x=\"242.822266\" xlink:href=\"#DejaVuSans-49\"/>\r\n    </g>\r\n   </g>\r\n   <g id=\"text_37\">\r\n    <!-- +1.52 -->\r\n    <g style=\"fill:#ff0051;\" transform=\"translate(194.779814 269.969441)scale(0.12 -0.12)\">\r\n     <use xlink:href=\"#DejaVuSans-43\"/>\r\n     <use x=\"83.789062\" xlink:href=\"#DejaVuSans-49\"/>\r\n     <use x=\"147.412109\" xlink:href=\"#DejaVuSans-46\"/>\r\n     <use x=\"179.199219\" xlink:href=\"#DejaVuSans-53\"/>\r\n     <use x=\"242.822266\" xlink:href=\"#DejaVuSans-50\"/>\r\n    </g>\r\n   </g>\r\n   <g id=\"text_38\">\r\n    <!-- +1.42 -->\r\n    <g style=\"fill:#ff0051;\" transform=\"translate(194.497755 303.084718)scale(0.12 -0.12)\">\r\n     <use xlink:href=\"#DejaVuSans-43\"/>\r\n     <use x=\"83.789062\" xlink:href=\"#DejaVuSans-49\"/>\r\n     <use x=\"147.412109\" xlink:href=\"#DejaVuSans-46\"/>\r\n     <use x=\"179.199219\" xlink:href=\"#DejaVuSans-52\"/>\r\n     <use x=\"242.822266\" xlink:href=\"#DejaVuSans-50\"/>\r\n    </g>\r\n   </g>\r\n   <g id=\"text_39\">\r\n    <!-- +137.68 -->\r\n    <g style=\"fill:#ff0051;\" transform=\"translate(595.218145 336.199994)scale(0.12 -0.12)\">\r\n     <use xlink:href=\"#DejaVuSans-43\"/>\r\n     <use x=\"83.789062\" xlink:href=\"#DejaVuSans-49\"/>\r\n     <use x=\"147.412109\" xlink:href=\"#DejaVuSans-51\"/>\r\n     <use x=\"211.035156\" xlink:href=\"#DejaVuSans-55\"/>\r\n     <use x=\"274.658203\" xlink:href=\"#DejaVuSans-46\"/>\r\n     <use x=\"306.445312\" xlink:href=\"#DejaVuSans-54\"/>\r\n     <use x=\"370.068359\" xlink:href=\"#DejaVuSans-56\"/>\r\n    </g>\r\n   </g>\r\n  </g>\r\n </g>\r\n <defs>\r\n  <clipPath id=\"pc3b6e8255a\">\r\n   <rect height=\"353.34\" width=\"446.4\" x=\"185.558281\" y=\"7.2\"/>\r\n  </clipPath>\r\n </defs>\r\n</svg>\r\n",
      "image/png": "[encoded data removed]"
     },
     "metadata": {}
    }
   ],
   "source": [
    "label='__label__Fire'\n",
    "custom_masked_bar_plot(label2id[label],'pos','mean')"
   ]
  },
  {
   "cell_type": "code",
   "execution_count": 25,
   "metadata": {},
   "outputs": [
    {
     "output_type": "error",
     "ename": "AttributeError",
     "evalue": "'numpy.ndarray' object has no attribute 'replace'",
     "traceback": [
      "\u001b[1;31m---------------------------------------------------------------------------\u001b[0m",
      "\u001b[1;31mAttributeError\u001b[0m                            Traceback (most recent call last)",
      "\u001b[1;32m<ipython-input-25-ca5a98fc7d50>\u001b[0m in \u001b[0;36m<module>\u001b[1;34m\u001b[0m\n\u001b[0;32m      1\u001b[0m \u001b[0mlabel\u001b[0m\u001b[1;33m=\u001b[0m\u001b[1;34m'__label__Firefighter'\u001b[0m\u001b[1;33m\u001b[0m\u001b[1;33m\u001b[0m\u001b[0m\n\u001b[1;32m----> 2\u001b[1;33m \u001b[0mtext_plot\u001b[0m\u001b[1;33m(\u001b[0m\u001b[0mlabels_to_idx\u001b[0m\u001b[1;33m[\u001b[0m\u001b[0mlabel\u001b[0m\u001b[1;33m]\u001b[0m\u001b[1;33m,\u001b[0m\u001b[1;36m231\u001b[0m\u001b[1;33m,\u001b[0m\u001b[1;36m232\u001b[0m\u001b[1;33m)\u001b[0m\u001b[1;33m\u001b[0m\u001b[1;33m\u001b[0m\u001b[0m\n\u001b[0m",
      "\u001b[1;32m<ipython-input-22-ef4a8d2a7802>\u001b[0m in \u001b[0;36mtext_plot\u001b[1;34m(class_index, start_idx, end_idx)\u001b[0m\n\u001b[0;32m     10\u001b[0m             \u001b[0mshap_values\u001b[0m\u001b[1;33m.\u001b[0m\u001b[0mhierarchical_values\u001b[0m\u001b[1;33m[\u001b[0m\u001b[0mi\u001b[0m\u001b[1;33m]\u001b[0m \u001b[1;33m=\u001b[0m \u001b[0mshap_values\u001b[0m\u001b[1;33m.\u001b[0m\u001b[0mhierarchical_values\u001b[0m\u001b[1;33m[\u001b[0m\u001b[0mi\u001b[0m\u001b[1;33m]\u001b[0m\u001b[1;33m[\u001b[0m\u001b[1;33m:\u001b[0m\u001b[1;33m,\u001b[0m\u001b[0mclass_index\u001b[0m\u001b[1;33m]\u001b[0m\u001b[1;33m\u001b[0m\u001b[1;33m\u001b[0m\u001b[0m\n\u001b[0;32m     11\u001b[0m         \u001b[0mshap_values\u001b[0m\u001b[1;33m.\u001b[0m\u001b[0mbase_values\u001b[0m \u001b[1;33m=\u001b[0m \u001b[0mshap_values\u001b[0m\u001b[1;33m.\u001b[0m\u001b[0mbase_values\u001b[0m\u001b[1;33m[\u001b[0m\u001b[1;33m:\u001b[0m\u001b[1;33m,\u001b[0m\u001b[0mclass_index\u001b[0m\u001b[1;33m]\u001b[0m\u001b[1;33m\u001b[0m\u001b[1;33m\u001b[0m\u001b[0m\n\u001b[1;32m---> 12\u001b[1;33m     \u001b[0mshap\u001b[0m\u001b[1;33m.\u001b[0m\u001b[0mplots\u001b[0m\u001b[1;33m.\u001b[0m\u001b[0mtext\u001b[0m\u001b[1;33m(\u001b[0m\u001b[0mshap_values\u001b[0m\u001b[1;33m[\u001b[0m\u001b[0mstart_idx\u001b[0m\u001b[1;33m:\u001b[0m\u001b[0mend_idx\u001b[0m\u001b[1;33m]\u001b[0m\u001b[1;33m)\u001b[0m\u001b[1;33m\u001b[0m\u001b[1;33m\u001b[0m\u001b[0m\n\u001b[0m",
      "\u001b[1;32mc:\\users\\ryserrao\\microsoft_work\\aiplatform_shap\\forked_shap\\shap\\shap\\plots\\_text.py\u001b[0m in \u001b[0;36mtext\u001b[1;34m(shap_values, num_starting_labels, group_threshold, separator, xmin, xmax, cmax)\u001b[0m\n\u001b[0;32m     53\u001b[0m \u001b[1;33m\u001b[0m\u001b[0m\n\u001b[0;32m     54\u001b[0m     \u001b[1;32melif\u001b[0m \u001b[0mlen\u001b[0m\u001b[1;33m(\u001b[0m\u001b[0mshap_values\u001b[0m\u001b[1;33m.\u001b[0m\u001b[0mshape\u001b[0m\u001b[1;33m)\u001b[0m \u001b[1;33m==\u001b[0m \u001b[1;36m2\u001b[0m \u001b[1;32mand\u001b[0m \u001b[0mshap_values\u001b[0m\u001b[1;33m.\u001b[0m\u001b[0moutput_names\u001b[0m \u001b[1;32mis\u001b[0m \u001b[1;32mnot\u001b[0m \u001b[1;32mNone\u001b[0m\u001b[1;33m:\u001b[0m\u001b[1;33m\u001b[0m\u001b[1;33m\u001b[0m\u001b[0m\n\u001b[1;32m---> 55\u001b[1;33m         \u001b[0mtext_to_text\u001b[0m\u001b[1;33m(\u001b[0m\u001b[0mshap_values\u001b[0m\u001b[1;33m)\u001b[0m\u001b[1;33m\u001b[0m\u001b[1;33m\u001b[0m\u001b[0m\n\u001b[0m\u001b[0;32m     56\u001b[0m         \u001b[1;32mreturn\u001b[0m\u001b[1;33m\u001b[0m\u001b[1;33m\u001b[0m\u001b[0m\n\u001b[0;32m     57\u001b[0m     \u001b[1;32melif\u001b[0m \u001b[0mlen\u001b[0m\u001b[1;33m(\u001b[0m\u001b[0mshap_values\u001b[0m\u001b[1;33m.\u001b[0m\u001b[0mshape\u001b[0m\u001b[1;33m)\u001b[0m \u001b[1;33m==\u001b[0m \u001b[1;36m3\u001b[0m\u001b[1;33m:\u001b[0m\u001b[1;33m\u001b[0m\u001b[1;33m\u001b[0m\u001b[0m\n",
      "\u001b[1;32mc:\\users\\ryserrao\\microsoft_work\\aiplatform_shap\\forked_shap\\shap\\shap\\plots\\_text.py\u001b[0m in \u001b[0;36mtext_to_text\u001b[1;34m(shap_values)\u001b[0m\n\u001b[0;32m    611\u001b[0m     \u001b[0muuid\u001b[0m \u001b[1;33m=\u001b[0m \u001b[1;34m''\u001b[0m\u001b[1;33m.\u001b[0m\u001b[0mjoin\u001b[0m\u001b[1;33m(\u001b[0m\u001b[0mrandom\u001b[0m\u001b[1;33m.\u001b[0m\u001b[0mchoices\u001b[0m\u001b[1;33m(\u001b[0m\u001b[0mstring\u001b[0m\u001b[1;33m.\u001b[0m\u001b[0mascii_lowercase\u001b[0m\u001b[1;33m,\u001b[0m \u001b[0mk\u001b[0m\u001b[1;33m=\u001b[0m\u001b[1;36m20\u001b[0m\u001b[1;33m)\u001b[0m\u001b[1;33m)\u001b[0m\u001b[1;33m\u001b[0m\u001b[1;33m\u001b[0m\u001b[0m\n\u001b[0;32m    612\u001b[0m \u001b[1;33m\u001b[0m\u001b[0m\n\u001b[1;32m--> 613\u001b[1;33m     \u001b[0msaliency_plot_markup\u001b[0m \u001b[1;33m=\u001b[0m \u001b[0msaliency_plot\u001b[0m\u001b[1;33m(\u001b[0m\u001b[0mshap_values\u001b[0m\u001b[1;33m)\u001b[0m\u001b[1;33m\u001b[0m\u001b[1;33m\u001b[0m\u001b[0m\n\u001b[0m\u001b[0;32m    614\u001b[0m     \u001b[0mheatmap_markup\u001b[0m \u001b[1;33m=\u001b[0m \u001b[0mheatmap\u001b[0m\u001b[1;33m(\u001b[0m\u001b[0mshap_values\u001b[0m\u001b[1;33m)\u001b[0m\u001b[1;33m\u001b[0m\u001b[1;33m\u001b[0m\u001b[0m\n\u001b[0;32m    615\u001b[0m \u001b[1;33m\u001b[0m\u001b[0m\n",
      "\u001b[1;32mc:\\users\\ryserrao\\microsoft_work\\aiplatform_shap\\forked_shap\\shap\\shap\\plots\\_text.py\u001b[0m in \u001b[0;36msaliency_plot\u001b[1;34m(shap_values)\u001b[0m\n\u001b[0;32m    694\u001b[0m     \u001b[0mout\u001b[0m \u001b[1;33m+=\u001b[0m \u001b[1;34m'<th></th>'\u001b[0m\u001b[1;33m\u001b[0m\u001b[1;33m\u001b[0m\u001b[0m\n\u001b[0;32m    695\u001b[0m     \u001b[1;32mfor\u001b[0m \u001b[0mj\u001b[0m \u001b[1;32min\u001b[0m \u001b[0mrange\u001b[0m\u001b[1;33m(\u001b[0m\u001b[0mmodel_input\u001b[0m\u001b[1;33m.\u001b[0m\u001b[0mshape\u001b[0m\u001b[1;33m[\u001b[0m\u001b[1;36m0\u001b[0m\u001b[1;33m]\u001b[0m\u001b[1;33m)\u001b[0m\u001b[1;33m:\u001b[0m\u001b[1;33m\u001b[0m\u001b[1;33m\u001b[0m\u001b[0m\n\u001b[1;32m--> 696\u001b[1;33m         \u001b[0mout\u001b[0m \u001b[1;33m+=\u001b[0m \u001b[1;34m'<th>'\u001b[0m \u001b[1;33m+\u001b[0m \u001b[0mmodel_input\u001b[0m\u001b[1;33m[\u001b[0m\u001b[0mj\u001b[0m\u001b[1;33m]\u001b[0m\u001b[1;33m.\u001b[0m\u001b[0mreplace\u001b[0m\u001b[1;33m(\u001b[0m\u001b[1;34m\"<\"\u001b[0m\u001b[1;33m,\u001b[0m \u001b[1;34m\"&lt;\"\u001b[0m\u001b[1;33m)\u001b[0m\u001b[1;33m.\u001b[0m\u001b[0mreplace\u001b[0m\u001b[1;33m(\u001b[0m\u001b[1;34m\">\"\u001b[0m\u001b[1;33m,\u001b[0m \u001b[1;34m\"&gt;\"\u001b[0m\u001b[1;33m)\u001b[0m\u001b[1;33m.\u001b[0m\u001b[0mreplace\u001b[0m\u001b[1;33m(\u001b[0m\u001b[1;34m' ##'\u001b[0m\u001b[1;33m,\u001b[0m \u001b[1;34m''\u001b[0m\u001b[1;33m)\u001b[0m\u001b[1;33m.\u001b[0m\u001b[0mreplace\u001b[0m\u001b[1;33m(\u001b[0m\u001b[1;34m'▁'\u001b[0m\u001b[1;33m,\u001b[0m \u001b[1;34m''\u001b[0m\u001b[1;33m)\u001b[0m \u001b[1;33m+\u001b[0m \u001b[1;34m'</th>'\u001b[0m\u001b[1;33m\u001b[0m\u001b[1;33m\u001b[0m\u001b[0m\n\u001b[0m\u001b[0;32m    697\u001b[0m     \u001b[0mout\u001b[0m \u001b[1;33m+=\u001b[0m \u001b[1;34m'</tr>'\u001b[0m\u001b[1;33m\u001b[0m\u001b[1;33m\u001b[0m\u001b[0m\n\u001b[0;32m    698\u001b[0m \u001b[1;33m\u001b[0m\u001b[0m\n",
      "\u001b[1;31mAttributeError\u001b[0m: 'numpy.ndarray' object has no attribute 'replace'"
     ]
    }
   ],
   "source": [
    "label='__label__Firefighter'\n",
    "text_plot(label2id[label],231,232)"
   ]
  },
  {
   "cell_type": "markdown",
   "metadata": {},
   "source": [
    "#### Blocklist sentences"
   ]
  },
  {
   "cell_type": "code",
   "execution_count": 38,
   "metadata": {},
   "outputs": [],
   "source": [
    "import pickle\n",
    "pkl_path=r\"C:\\Users\\ryserrao\\Microsoft_work\\AIPLATFORM_SHAP\\PPT_Text_to_Icon_Data\\blocklists\\violent_words.pkl\"\n",
    "with open(pkl_path, 'rb') as f:\n",
    "    violent_words = pickle.load(f)"
   ]
  },
  {
   "cell_type": "code",
   "execution_count": 56,
   "metadata": {},
   "outputs": [],
   "source": [
    "violent_words_set=set()\n",
    "for k,v in violent_words.items():\n",
    "    violent_words_set.update(violent_words[k])"
   ]
  },
  {
   "cell_type": "code",
   "execution_count": 96,
   "metadata": {},
   "outputs": [
    {
     "data": {
      "text/plain": [
       "dict_keys(['bomb', 'abuse', 'kill', 'beat', 'rape', 'shoot', 'suicide', 'dead', 'arms', 'viol'])"
      ]
     },
     "execution_count": 96,
     "metadata": {},
     "output_type": "execute_result"
    }
   ],
   "source": [
    "violent_words.keys()"
   ]
  },
  {
   "cell_type": "code",
   "execution_count": 98,
   "metadata": {},
   "outputs": [
    {
     "data": {
      "text/plain": [
       "{'babykilling',\n",
       " 'babykillings',\n",
       " 'catkiller',\n",
       " 'christkiller',\n",
       " 'christkillers',\n",
       " 'ikilluever',\n",
       " 'kill',\n",
       " 'killary',\n",
       " 'killed',\n",
       " 'killer',\n",
       " 'killerish',\n",
       " 'killers',\n",
       " 'killery',\n",
       " 'killian',\n",
       " 'killin',\n",
       " 'killing',\n",
       " 'killings',\n",
       " 'killmonger',\n",
       " 'killn',\n",
       " 'kills',\n",
       " 'killuminati',\n",
       " 'killyoselph',\n",
       " 'kkill',\n",
       " 'ladykiller',\n",
       " 'ladykillers',\n",
       " 'painkiller',\n",
       " 'painkillers',\n",
       " 'petkiller',\n",
       " 'skill',\n",
       " 'skilled',\n",
       " 'skills',\n",
       " 'skillz',\n",
       " 'sonofthekiller',\n",
       " 'wifekiller'}"
      ]
     },
     "execution_count": 98,
     "metadata": {},
     "output_type": "execute_result"
    }
   ],
   "source": [
    "violent_words['kill']"
   ]
  },
  {
   "cell_type": "code",
   "execution_count": 68,
   "metadata": {},
   "outputs": [],
   "source": [
    "token_set=set()\n",
    "def tokenize_sentence(s):\n",
    "    token_set.update(s.split(' '))"
   ]
  },
  {
   "cell_type": "markdown",
   "metadata": {},
   "source": [
    "#### Blocklist words for violence"
   ]
  },
  {
   "cell_type": "code",
   "execution_count": 85,
   "metadata": {},
   "outputs": [
    {
     "data": {
      "text/plain": [
       "{'abomb',\n",
       " 'abuse',\n",
       " 'abused',\n",
       " 'abuser',\n",
       " 'abusering',\n",
       " 'abuserings',\n",
       " 'abusers',\n",
       " 'abuses',\n",
       " 'anarchybomb',\n",
       " 'antabuse',\n",
       " 'arms',\n",
       " 'armscor',\n",
       " 'armsel',\n",
       " 'armsf',\n",
       " 'armstrong',\n",
       " 'asianrape',\n",
       " 'auntyrape',\n",
       " 'auntyraped',\n",
       " 'auntysraped',\n",
       " 'babykilling',\n",
       " 'babykillings',\n",
       " 'babyrape',\n",
       " 'bbombs',\n",
       " 'beat',\n",
       " 'beata',\n",
       " 'beated',\n",
       " 'beaten',\n",
       " 'beater',\n",
       " 'beaters',\n",
       " 'beatiful',\n",
       " 'beatin',\n",
       " 'beating',\n",
       " 'beatings',\n",
       " 'beatmymeat',\n",
       " 'beatoff',\n",
       " 'beats',\n",
       " 'bhabirape',\n",
       " 'bigrape',\n",
       " 'bomb',\n",
       " 'bombanarchy',\n",
       " 'bombathome',\n",
       " 'bombay',\n",
       " 'bombbuilding',\n",
       " 'bombcookbook',\n",
       " 'bombed',\n",
       " 'bomber',\n",
       " 'bombers',\n",
       " 'bombfactory',\n",
       " 'bombido',\n",
       " 'bombing',\n",
       " 'bombings',\n",
       " 'bombmakehow',\n",
       " 'bombmaking',\n",
       " 'bombrecipe',\n",
       " 'bombs',\n",
       " 'bombshell',\n",
       " 'boyraped',\n",
       " 'boysraped',\n",
       " 'britarms',\n",
       " 'broomrape',\n",
       " 'broomrapes',\n",
       " 'brotherraped',\n",
       " 'brutalrape',\n",
       " 'buildabomb',\n",
       " 'buildbomb',\n",
       " 'buildingbomb',\n",
       " 'bullshooter',\n",
       " 'carbomb',\n",
       " 'catkiller',\n",
       " 'ce_conf_viol',\n",
       " 'celebrityrape',\n",
       " 'childrape',\n",
       " 'christkiller',\n",
       " 'christkillers',\n",
       " 'crapella',\n",
       " 'cruelrape',\n",
       " 'dadrape',\n",
       " 'daterape',\n",
       " 'daughterrape',\n",
       " 'daughterraped',\n",
       " 'dead',\n",
       " 'deadbabies',\n",
       " 'deadbaby',\n",
       " 'deadly',\n",
       " 'deadshit',\n",
       " 'deadshits',\n",
       " 'dirtyrape',\n",
       " 'drape',\n",
       " 'draped',\n",
       " 'draper',\n",
       " 'drapes',\n",
       " 'drapesq',\n",
       " 'eaglearmsea',\n",
       " 'easytomakebomb',\n",
       " 'ebomb',\n",
       " 'ebombs',\n",
       " 'electromagneticbomb',\n",
       " 'electromagneticpulsebomb',\n",
       " 'empbomb',\n",
       " 'europearms',\n",
       " 'extremerapes',\n",
       " 'farms',\n",
       " 'fatherrape',\n",
       " 'firearms',\n",
       " 'forcedrape',\n",
       " 'forcedraped',\n",
       " 'forcerape',\n",
       " 'forearms',\n",
       " 'friendraped',\n",
       " 'fullrape',\n",
       " 'gangrapevideo',\n",
       " 'gangrapevideos',\n",
       " 'gayrape',\n",
       " 'getsraped',\n",
       " 'gettingraped',\n",
       " 'girlrape',\n",
       " 'girlraped',\n",
       " 'girlrapes',\n",
       " 'girlsabused',\n",
       " 'girlsraped',\n",
       " 'grape',\n",
       " 'grapedrank',\n",
       " 'grapedranks',\n",
       " 'grapefruit',\n",
       " 'grapefruited',\n",
       " 'grapefruiting',\n",
       " 'grapeyou',\n",
       " 'grilrape',\n",
       " 'grilsrape',\n",
       " 'gunshoot',\n",
       " 'handsupdontshoot',\n",
       " 'hardcorerape',\n",
       " 'harms',\n",
       " 'hdrape',\n",
       " 'hentairape',\n",
       " 'homadebomb',\n",
       " 'homebomb',\n",
       " 'homemadebomb',\n",
       " 'homemadeeasybomb',\n",
       " 'hotrape',\n",
       " 'hotraped',\n",
       " 'hotrapes',\n",
       " 'hottestrape',\n",
       " 'householdbomb',\n",
       " 'ikilluever',\n",
       " 'ishootmygirl',\n",
       " 'japaneserape',\n",
       " 'jesusbeating',\n",
       " 'kidrape',\n",
       " 'kill',\n",
       " 'killary',\n",
       " 'killed',\n",
       " 'killer',\n",
       " 'killerish',\n",
       " 'killers',\n",
       " 'killery',\n",
       " 'killian',\n",
       " 'killin',\n",
       " 'killing',\n",
       " 'killings',\n",
       " 'killmonger',\n",
       " 'killn',\n",
       " 'kills',\n",
       " 'killuminati',\n",
       " 'killyoselph',\n",
       " 'kkill',\n",
       " 'ladykiller',\n",
       " 'ladykillers',\n",
       " 'letterbomb',\n",
       " 'maidrape',\n",
       " 'maidraped',\n",
       " 'makeabomb',\n",
       " 'makebomb',\n",
       " 'makingabomb',\n",
       " 'makingbomb',\n",
       " 'maleraped',\n",
       " 'manatarms',\n",
       " 'menatarms',\n",
       " 'mirapex',\n",
       " 'momrape',\n",
       " 'motherrape',\n",
       " 'motherraped',\n",
       " 'moviesrape',\n",
       " 'oralrape',\n",
       " 'painkiller',\n",
       " 'painkillers',\n",
       " 'parasuicide',\n",
       " 'pedofiliaviolacion',\n",
       " 'petkiller',\n",
       " 'photoshoot',\n",
       " 'pictureofbomb',\n",
       " 'pipebomb',\n",
       " 'privacyisdead',\n",
       " 'rape',\n",
       " 'rapeasian',\n",
       " 'rapebig',\n",
       " 'rapeclip',\n",
       " 'rapeclips',\n",
       " 'raped',\n",
       " 'rapedby',\n",
       " 'rapedgirl',\n",
       " 'rapedgirls',\n",
       " 'rapedhard',\n",
       " 'rapedhd',\n",
       " 'rapedladies',\n",
       " 'rapedlesbian',\n",
       " 'rapedlolita',\n",
       " 'rapedscene',\n",
       " 'rapedvedio',\n",
       " 'rapedvedios',\n",
       " 'rapedvideos',\n",
       " 'rapedxvedios',\n",
       " 'rapedxvideos',\n",
       " 'rapedyoung',\n",
       " 'rapee',\n",
       " 'rapeeve',\n",
       " 'rapefantasy',\n",
       " 'rapeforced',\n",
       " 'rapefugee',\n",
       " 'rapegay',\n",
       " 'rapegirl',\n",
       " 'rapehard',\n",
       " 'rapehd',\n",
       " 'rapehot',\n",
       " 'rapeimages',\n",
       " 'rapelisberger',\n",
       " 'rapeme',\n",
       " 'rapemovei',\n",
       " 'rapemoves',\n",
       " 'rapemovi',\n",
       " 'rapemovie',\n",
       " 'rapemovies',\n",
       " 'rapepics',\n",
       " 'rapepicture',\n",
       " 'rapepictures',\n",
       " 'rapepron',\n",
       " 'raper',\n",
       " 'raperough',\n",
       " 'rapes',\n",
       " 'rapescences',\n",
       " 'rapescenes',\n",
       " 'rapescens',\n",
       " 'rapesection',\n",
       " 'rapeseedcartoonrape',\n",
       " 'rapesister',\n",
       " 'rapesson',\n",
       " 'rapestory',\n",
       " 'rapesvideo',\n",
       " 'rapesvideos',\n",
       " 'rapesyoung',\n",
       " 'rapetaboo',\n",
       " 'rapetorture',\n",
       " 'rapevdeo',\n",
       " 'rapevedeo',\n",
       " 'rapevedeos',\n",
       " 'rapevedio',\n",
       " 'rapevedios',\n",
       " 'rapevedos',\n",
       " 'rapevideo',\n",
       " 'rapevideoes',\n",
       " 'rapevideos',\n",
       " 'rapevidio',\n",
       " 'rapevidios',\n",
       " 'rapevidos',\n",
       " 'rapevids',\n",
       " 'rapeviedo',\n",
       " 'rapeviedos',\n",
       " 'rapexvideo',\n",
       " 'rapexvideos',\n",
       " 'rapey',\n",
       " 'realrape',\n",
       " 'reciperape',\n",
       " 'repbeatty',\n",
       " 'roughrape',\n",
       " 'schoolgirlrape',\n",
       " 'schoolgirlraped',\n",
       " 'schoolgirlsrape',\n",
       " 'schoolmarms',\n",
       " 'scrape',\n",
       " 'selfharms',\n",
       " 'sharpshooter',\n",
       " 'shitshooter',\n",
       " 'shoot',\n",
       " 'shooted',\n",
       " 'shooter',\n",
       " 'shooters',\n",
       " 'shootin',\n",
       " 'shooting',\n",
       " 'shootings',\n",
       " 'shoots',\n",
       " 'showingraped',\n",
       " 'sisterrape',\n",
       " 'sisterraped',\n",
       " 'sixshooter',\n",
       " 'skill',\n",
       " 'skilled',\n",
       " 'skills',\n",
       " 'skillz',\n",
       " 'slavesrape',\n",
       " 'smallbomb',\n",
       " 'smokebomb',\n",
       " 'sonofthekiller',\n",
       " 'sonrape',\n",
       " 'sonrapes',\n",
       " 'stinkbomb',\n",
       " 'stonedead',\n",
       " 'suicide',\n",
       " 'suicidegirls',\n",
       " 'suicideinducing',\n",
       " 'suicides',\n",
       " 'teenabused',\n",
       " 'teenagerape',\n",
       " 'teenrape',\n",
       " 'teenraped',\n",
       " 'teensrape',\n",
       " 'tennisballbomb',\n",
       " 'timebomb',\n",
       " 'timebombs',\n",
       " 'twinkrape',\n",
       " 'ultraviolence',\n",
       " 'unabomber',\n",
       " 'undraped',\n",
       " 'unibomber',\n",
       " 'usbomb',\n",
       " 'uschildabusedeterrent',\n",
       " 'vedeorape',\n",
       " 'vediosrape',\n",
       " 'vickersarmstrongs',\n",
       " 'videorape',\n",
       " 'videosrape',\n",
       " 'vidiorape',\n",
       " 'viol',\n",
       " 'violate',\n",
       " 'violated',\n",
       " 'violates',\n",
       " 'violatin',\n",
       " 'violating',\n",
       " 'violation',\n",
       " 'violence',\n",
       " 'violent',\n",
       " 'violently',\n",
       " 'violentrape',\n",
       " 'violet',\n",
       " 'violette',\n",
       " 'violla',\n",
       " 'viols',\n",
       " 'wifekiller',\n",
       " 'wiferape',\n",
       " 'wiferaped',\n",
       " 'wiferapes',\n",
       " 'xharmster',\n",
       " 'xharmstermallu',\n",
       " 'xrape',\n",
       " 'xvideosrape'}"
      ]
     },
     "execution_count": 85,
     "metadata": {},
     "output_type": "execute_result"
    }
   ],
   "source": [
    "violent_words_set"
   ]
  },
  {
   "cell_type": "code",
   "execution_count": 69,
   "metadata": {},
   "outputs": [],
   "source": [
    "_=data['Sentence'].apply(tokenize_sentence)"
   ]
  },
  {
   "cell_type": "code",
   "execution_count": 71,
   "metadata": {},
   "outputs": [],
   "source": [
    "violent_words_intersection=list(token_set & violent_words_set)"
   ]
  },
  {
   "cell_type": "code",
   "execution_count": 72,
   "metadata": {},
   "outputs": [
    {
     "data": {
      "text/plain": [
       "['kill', 'shooting', 'beats', 'beat', 'arms']"
      ]
     },
     "execution_count": 72,
     "metadata": {},
     "output_type": "execute_result"
    }
   ],
   "source": [
    "violent_words_intersection"
   ]
  },
  {
   "cell_type": "code",
   "execution_count": 86,
   "metadata": {},
   "outputs": [],
   "source": [
    "blocklist_sentences=[]\n",
    "def print_blocklist_sentences(s):\n",
    "    s_token_set=set(s.split(' '))\n",
    "    if len(set(violent_words_intersection) & s_token_set)>0:\n",
    "        print(s)\n",
    "        blocklist_sentences.append(s)"
   ]
  },
  {
   "cell_type": "code",
   "execution_count": 87,
   "metadata": {},
   "outputs": [
    {
     "name": "stdout",
     "output_type": "stream",
     "text": [
      "the outline of a man with his arms out PUNC\n",
      "PUNC a hummingbird PUNC s heart rate can reach as high as 1,260 beats per minute PUNC PUNC\n",
      "do not kill the bugs PUNC\n",
      "shooting for the stars PUNC\n",
      "a whale shooting water out of it PUNC s blowhole PUNC\n",
      "an instrument that musician use to make certain type of beat for music PUNC\n"
     ]
    }
   ],
   "source": [
    "_=data['Sentence'].apply(print_blocklist_sentences)"
   ]
  },
  {
   "cell_type": "code",
   "execution_count": 88,
   "metadata": {},
   "outputs": [
    {
     "data": {
      "text/html": [
       "<div>\n",
       "<style scoped>\n",
       "    .dataframe tbody tr th:only-of-type {\n",
       "        vertical-align: middle;\n",
       "    }\n",
       "\n",
       "    .dataframe tbody tr th {\n",
       "        vertical-align: top;\n",
       "    }\n",
       "\n",
       "    .dataframe thead th {\n",
       "        text-align: right;\n",
       "    }\n",
       "</style>\n",
       "<table border=\"1\" class=\"dataframe\">\n",
       "  <thead>\n",
       "    <tr style=\"text-align: right;\">\n",
       "      <th></th>\n",
       "      <th>Label</th>\n",
       "      <th>Sentence</th>\n",
       "    </tr>\n",
       "  </thead>\n",
       "  <tbody>\n",
       "    <tr>\n",
       "      <th>139</th>\n",
       "      <td>__label__ConfusedPerson</td>\n",
       "      <td>the outline of a man with his arms out PUNC</td>\n",
       "    </tr>\n",
       "    <tr>\n",
       "      <th>303</th>\n",
       "      <td>__label__HummingBird</td>\n",
       "      <td>PUNC a hummingbird PUNC s heart rate can reach as high as 1,260 beats per minute PUNC PUNC</td>\n",
       "    </tr>\n",
       "    <tr>\n",
       "      <th>324</th>\n",
       "      <td>__label__Ladybug</td>\n",
       "      <td>do not kill the bugs PUNC</td>\n",
       "    </tr>\n",
       "    <tr>\n",
       "      <th>574</th>\n",
       "      <td>__label__Stars</td>\n",
       "      <td>shooting for the stars PUNC</td>\n",
       "    </tr>\n",
       "    <tr>\n",
       "      <th>675</th>\n",
       "      <td>__label__Whale</td>\n",
       "      <td>a whale shooting water out of it PUNC s blowhole PUNC</td>\n",
       "    </tr>\n",
       "    <tr>\n",
       "      <th>689</th>\n",
       "      <td>__label__Xylophone</td>\n",
       "      <td>an instrument that musician use to make certain type of beat for music PUNC</td>\n",
       "    </tr>\n",
       "  </tbody>\n",
       "</table>\n",
       "</div>"
      ],
      "text/plain": [
       "                       Label  \\\n",
       "139  __label__ConfusedPerson   \n",
       "303     __label__HummingBird   \n",
       "324         __label__Ladybug   \n",
       "574           __label__Stars   \n",
       "675           __label__Whale   \n",
       "689       __label__Xylophone   \n",
       "\n",
       "                                                                                       Sentence  \n",
       "139                                                 the outline of a man with his arms out PUNC  \n",
       "303  PUNC a hummingbird PUNC s heart rate can reach as high as 1,260 beats per minute PUNC PUNC  \n",
       "324                                                                   do not kill the bugs PUNC  \n",
       "574                                                                 shooting for the stars PUNC  \n",
       "675                                       a whale shooting water out of it PUNC s blowhole PUNC  \n",
       "689                 an instrument that musician use to make certain type of beat for music PUNC  "
      ]
     },
     "execution_count": 88,
     "metadata": {},
     "output_type": "execute_result"
    }
   ],
   "source": [
    "data.loc[data['Sentence'].isin(blocklist_sentences)]"
   ]
  },
  {
   "cell_type": "markdown",
   "metadata": {},
   "source": [
    "#### Cumulative shap"
   ]
  },
  {
   "cell_type": "code",
   "execution_count": 79,
   "metadata": {},
   "outputs": [],
   "source": [
    "def get_cumulative_shap_values(word_set,shap_values):\n",
    "    token_list = shap_values_multiclass.abs.mean(0).feature_names.tolist()\n",
    "    shap_values_multiclass_abs_mean = shap_values_multiclass.abs.mean(0)\n",
    "    shap_values = []\n",
    "    for word in word_set:\n",
    "        shap_values_word = shap_values_multiclass_abs_mean.values[token_list.index(word)]\n",
    "        shap_values.append(shap_values_word)\n",
    "    \n",
    "    return np.array(shap_values).mean(0)"
   ]
  },
  {
   "cell_type": "code",
   "execution_count": 82,
   "metadata": {},
   "outputs": [
    {
     "data": {
      "text/plain": [
       "0.9207352576293795"
      ]
     },
     "execution_count": 82,
     "metadata": {},
     "output_type": "execute_result"
    }
   ],
   "source": [
    "get_cumulative_shap_values(violent_words_intersection,shap_values_multiclass)[labels_to_idx['__label__Xylophone']]"
   ]
  },
  {
   "cell_type": "code",
   "execution_count": null,
   "metadata": {},
   "outputs": [],
   "source": []
  }
 ],
 "metadata": {
  "kernelspec": {
   "display_name": "run_shap_env_kernel",
   "language": "python",
   "name": "run_shap_env"
  },
  "language_info": {
   "codemirror_mode": {
    "name": "ipython",
    "version": 3
   },
   "file_extension": ".py",
   "mimetype": "text/x-python",
   "name": "python",
   "nbconvert_exporter": "python",
   "pygments_lexer": "ipython3",
   "version": "3.8.5-final"
  }
 },
 "nbformat": 4,
 "nbformat_minor": 2
}