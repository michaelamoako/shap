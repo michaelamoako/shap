{
 "cells": [
  {
   "cell_type": "code",
   "execution_count": 1,
   "metadata": {},
   "outputs": [],
   "source": [
    "import os\n",
    "import pandas as pd\n",
    "import copy\n",
    "import numpy as np\n",
    "import matplotlib.pyplot as plt\n",
    "%matplotlib inline\n",
    "from transformers import BertTokenizerFast\n",
    "import shap\n",
    "import scipy as sp\n",
    "import nlp\n",
    "import torch\n",
    "pd.set_option('display.max_columns', None)\n",
    "pd.set_option('max_colwidth', None)\n",
    "pd.set_option(\"max_rows\", None)\n",
    "from datasets import load_dataset\n",
    "import spacy\n",
    "import seaborn as sns\n",
    "import time"
   ]
  },
  {
   "cell_type": "code",
   "execution_count": 2,
   "metadata": {},
   "outputs": [],
   "source": [
    "from pytorch_transformers import (WEIGHTS_NAME, BertConfig,\n",
    "                                  BertForSequenceClassification)\n",
    "\n",
    "from pytorch_transformers import AdamW, WarmupLinearSchedule "
   ]
  },
  {
   "cell_type": "code",
   "execution_count": 3,
   "metadata": {},
   "outputs": [],
   "source": [
    "MODEL_CLASSES = {\n",
    "    'bert': (BertConfig, BertForSequenceClassification, BertTokenizerFast)\n",
    "}\n",
    "config_class, model_class, tokenizer_class = MODEL_CLASSES['bert']"
   ]
  },
  {
   "cell_type": "code",
   "execution_count": 4,
   "metadata": {},
   "outputs": [],
   "source": [
    "def get_labels_from_label_dict(lbl_dict_path):\n",
    "        line_id = 0\n",
    "        labels = []\n",
    "        for line in open(lbl_dict_path, encoding='utf8'):\n",
    "            fds = line.strip().split(' ')\n",
    "            assert len(fds) == 2, 'incorrect format {}'.format(line)\n",
    "            lbl = fds[0]\n",
    "            fid = int(fds[1])\n",
    "            assert fid == line_id, 'id not correct {} -- {}'.format(fid, line_id)\n",
    "            labels.append(lbl)\n",
    "            line_id += 1\n",
    "        return labels"
   ]
  },
  {
   "cell_type": "code",
   "execution_count": 5,
   "metadata": {},
   "outputs": [],
   "source": [
    "args = {\n",
    "'data_dir':'C:\\\\Users\\\\ryserrao\\\\Microsoft_work\\\\AIPLATFORM_SHAP\\\\PPT_Text_to_Icon_Data\\\\Turing_Text2Icon_Code_and_Model\\\\outputs',\n",
    "'model_name_or_path':'ft_set12_256x2_pcln2sc_nowiki.py_e10_wu02_bs8_ts08_sc12_lr7e-5',\n",
    "'data_path':'test_mturk.txt',\n",
    "'task_name':'text2content',\n",
    "'do_lower_case':True,\n",
    "'lbl_dict_path' : 'train.txt.lbl.dict.txt',\n",
    "'max_seq_len':32\n",
    "}\n",
    "labels = get_labels_from_label_dict(os.path.join(args['data_dir'], args['lbl_dict_path']))\n",
    "num_labels = len(labels)"
   ]
  },
  {
   "cell_type": "code",
   "execution_count": 6,
   "metadata": {},
   "outputs": [
    {
     "name": "stdout",
     "output_type": "stream",
     "text": [
      "{\n",
      "  \"attention_probs_dropout_prob\": 0.1,\n",
      "  \"finetuning_task\": \"text2content\",\n",
      "  \"hidden_act\": \"gelu\",\n",
      "  \"hidden_dropout_prob\": 0.1,\n",
      "  \"hidden_size\": 256,\n",
      "  \"initializer_range\": 0.02,\n",
      "  \"intermediate_size\": 1024,\n",
      "  \"layer_norm_eps\": 1e-12,\n",
      "  \"max_position_embeddings\": 512,\n",
      "  \"num_attention_heads\": 8,\n",
      "  \"num_hidden_layers\": 2,\n",
      "  \"num_labels\": 865,\n",
      "  \"output_attentions\": false,\n",
      "  \"output_hidden_states\": false,\n",
      "  \"pooler\": \"cls\",\n",
      "  \"torchscript\": false,\n",
      "  \"type_vocab_size\": 2,\n",
      "  \"vocab_size\": 30522\n",
      "}\n",
      "\n"
     ]
    }
   ],
   "source": [
    "config = config_class.from_pretrained(os.path.join(args['data_dir'],args['model_name_or_path']), num_labels=num_labels, finetuning_task=args['task_name'])\n",
    "tokenizer = tokenizer_class.from_pretrained(os.path.join(args['data_dir'],args['model_name_or_path']), do_lower_case=args['do_lower_case'])\n",
    "model = model_class.from_pretrained(os.path.join(args['data_dir'],args['model_name_or_path']),config=config).cuda()"
   ]
  },
  {
   "cell_type": "code",
   "execution_count": 7,
   "metadata": {},
   "outputs": [],
   "source": [
    "label2id = {}\n",
    "id2label = {}\n",
    "for i,label in enumerate(labels):\n",
    "    label2id[label]=i\n",
    "    id2label[i]=label"
   ]
  },
  {
   "cell_type": "code",
   "execution_count": 8,
   "metadata": {},
   "outputs": [
    {
     "name": "stderr",
     "output_type": "stream",
     "text": [
      "WARNING - Using custom data configuration default\n"
     ]
    }
   ],
   "source": [
    "data = nlp.load_dataset('reddit',split='train')"
   ]
  },
  {
   "cell_type": "code",
   "execution_count": 9,
   "metadata": {},
   "outputs": [
    {
     "data": {
      "text/plain": [
       "Dataset(features: {'author': Value(dtype='string', id=None), 'body': Value(dtype='string', id=None), 'normalizedBody': Value(dtype='string', id=None), 'subreddit': Value(dtype='string', id=None), 'subreddit_id': Value(dtype='string', id=None), 'id': Value(dtype='string', id=None), 'content': Value(dtype='string', id=None), 'summary': Value(dtype='string', id=None)}, num_rows: 3848330)"
      ]
     },
     "execution_count": 9,
     "metadata": {},
     "output_type": "execute_result"
    }
   ],
   "source": [
    "data"
   ]
  },
  {
   "cell_type": "code",
   "execution_count": 10,
   "metadata": {},
   "outputs": [],
   "source": [
    "subreddit = data['subreddit']"
   ]
  },
  {
   "cell_type": "markdown",
   "metadata": {},
   "source": [
    "#### Unique subreddits"
   ]
  },
  {
   "cell_type": "code",
   "execution_count": 11,
   "metadata": {
    "tags": []
   },
   "outputs": [
    {
     "name": "stdout",
     "output_type": "stream",
     "text": [
      "Total unique subreddits: 29651\n"
     ]
    }
   ],
   "source": [
    "print(f'Total unique subreddits: {len(set(subreddit))}')\n"
   ]
  },
  {
   "cell_type": "code",
   "execution_count": 12,
   "metadata": {},
   "outputs": [
    {
     "name": "stdout",
     "output_type": "stream",
     "text": [
      "['', 'PizzaPresser', 'gunmeetups', 'FloridaMan', 'AskPhilly', 'DatingHell', 'Runner5', 'investing_discussion', 'FoxCoin', 'learnruby', 'chicagobulls', 'GlobalPowers', 'controllablewebcams', 'ClosetSanta', 'Krishnamurti', 'mylittlealcoholic', 'fbla', 'MICF2015', 'shitpostemblem', 'bearbros', 'pokemongoNYC', 'ImmortalKingsMC', 'incest_relationships', 'FCPrimal', 'CTD', 'InboxInvites', 'stanford', 'TransSpace', 'StaffCraft', 'portugaltheman', 'Sissies', 'MilitaryPorn', 'totalanguage', 'Deskbots', 'BreakfastatPiffanyz', 'canadasmallbusiness', 'lonelyrunners', 'Ringling', 'vapebonging', 'wetshaving101', 'Alienware', 'restorethefourthMN', 'DragonHeroes', 'small_business_ideas', 'LiveFromNewYork', 'asm', 'ImGoingToHellForThis', 'waterford', 'FCInterMilan', 'Vaping101', 'skinwalkers', 'SOS', 'ketorage', 'eastborobaptistchurch', 'MLPCCardGame', 'TributeMe', 'dogecoindev', 'opendirectories', 'Disneycollegeprogram', 'Charity', 'libertariancomics', 'gettingsexyback', 'Xanzia', 'IndonesianGamers', 'accountablecooking', 'oddideas', 'TrollingAnimals', 'TalkWithSomeone', 'thathappend', 'PokemonGen', 'hadoop', 'foundation', 'srjc_skeptics', 'YoungJobs', 'gba', 'empyriongame', 'buildapchelp', 'WAVVES', 'WorstGuild', 'ShittyaskIcefrog', 'elon', 'hobbygamedev', 'metaljerkcopypasta', 'LocalBandsMusic', 'Jeepups', 'genewolfe', 'CSPasta', 'rayban', 'russellwilson', 'electricvehicles', 'puppy101', 'gamingcouples', 'CrackRock', 'WarriorCats', 'uglyduckling', 'redditoholic', 'druidism', 'tatting', 'OrderAChaos', 'ebola', 'apchemistry', 'mylittleonions', 'tickling', 'peehole', 'madden16', 'askgis', 'CivEx', 'redditplaysonline', 'RedditorsRightHand', 'skilledtrades', 'learnprogramming', 'LearnKanji', 'nycgaybros', 'StainedGlass', 'TakeBack4chan', 'xposed', 'VoluntaryOhio', 'reddeadredemption', 'chestermc', 'needforspeed', 'BLoDM', 'skryim', 'ns2pugs', 'CivPVP', 'FightTraining', 'PocketPlanes', 'vlogginegan', 'sex_comics', 'UnidanFans', 'CarpFishing', 'Dailyawkwardmoments', 'punchclub', 'YouTubeCollab', 'Islaam', 'St9982_Hospital', 'polyglot', 'CarHelp', 'CircleGrump', 'fsx', 'smashdebate', 'mcstaff', 'vapor', 'GirlsNightOff', 'combatarms', 'ElpianRedCross', 'AskAstrologers', 'Austrian', 'PactApp', 'manfaqs', 'cheddievandtheboys', 'Fire_Emblem_R34', 'Pirate101', 'The_Cheated', 'BooCRedux', 'DarkCrest', 'team60ssecretreb', 'NakedProgress', 'Anthropology', 'derrenbrown', 'PrimitiveTechnology', 'poland', 'wowMentoringProgram', 'WEEDS', 'MusicNews', 'intenselycasual', 'SAVEBRENDAN', 'streetfighters', 'RyzeMains', 'Upwork', 'shittyff', 'LucidDreams', 'DungeonCrawling', 'casualiama', 'WBAfootball', 'smashconnections', 'filemaker', 'GlobalWarming', 'occupychi', 'watchufcfree', 'TwinCities', 'homeautomation', 'SouthJersey', 'NoMansSky_TheGame', 'CoDCompetitiveBios', 'dbrand', 'Delaware', 'unicycling', 'web_dev', 'ExtraCredits', 'nocar', 'AntiPOZi', 'Launchpad', 'expertinayear', 'ESOXBOX', 'ITSAPRANK', 'dfworldgen', 'Slycooper', 'dystopia', 'DvZCirclejerk', 'Nexus7', 'TrollBookClub', 'coys', 'redditbarandlounge', 'hockeygoalies', 'fauxlounge', 'Feminism', 'ImageStabilization', 'shuffling', 'wakarusa', 'TheGirlSurvivalGuide', 'AdvancedRunning', 'Udyrmains', 'BabyNames', 'quilting', 'ABraThatFits', 'AGThemeSub', 'JohnMayer', 'BarBattlestations', 'friendship', 'MegaCivGames', 'Battlefield1943', 'Barbie', 'tempFNAFofficial', 'Antwerpen', 'modthemods', 'Rapids', 'altright', 'webm', 'GYBB', 'SGA_CCNY', 'Andromeda', 'FFRecordKeeper', 'DankNation', 'FittitBuddy', 'dayzlfg', 'mylittledota', 'survivorau', 'beyondbaby', 'archebards', 'TextualIntercourse', 'findaleague', 'fulbright', 'festivals', 'Injection', 'androidAppPromotion', 'PokkenGame', 'IFukMyDog', 'LesBaer', 'muieBOR', 'DayzGypsies', 'askadentist', 'nem', 'AskManagement', 'trolledbynarcissists', 'sunlesssea', 'WesterosCraft', 'Theremin', 'sony', 'steam_giveaway', 'bettafish', 'GEB', 'MUWs', 'MesaBoogie', 'Internet_Box', 'SuiGeneris', 'breakfeminazis', 'Metrology', 'personaltraining', 'EliteGalCop', 'titlegore', 'JMBagels', 'Recettear', 'RandomTriviaBot', 'rollerderby', 'PlaceToBitch', 'fivenightsatfangames', 'motiongraphics', 'blunderyears', 'conservatives', 'pokemontrades', 'IndianBabes', 'DotCom', 'intersex', 'Shinto', 'mass_debate', 'avantgardefashion', 'Teeth', 'ios7', 'supermoto', 'ANW', 'KirstenDunst', 'meatrules', 'mainecoons', 'laptopama', 'ManaBar', 'halo', 'ZeroWaste', 'centurylink', 'Xb1Mods', 'HelpMeFind', 'Veeam', 'ForeverAloneWomen', 'blackmirror', 'WeHateMovies', 'milf', 'Pegging', 'Polycentric_Law', 'mlas1gonewildrebooted', 'Firefighting', 'BoxLacrosse', 'TBoIRule34', 'gangplankmains', 'MetalGearPatriots', 'MacUni', 'JOIP', 'srilanka', 'IPhoneApps', 'upholstery', 'datarecovery', 'modifiedvapes', 'MonsterKittens', 'PetMice', 'onetruegod', 'AlaskaHighway', 'LOPSA', 'movingout', 'gallifreyan', 'poker', 'starbuckspartners', 'suggestasub', 'chromeos', 'redhead', 'wipebrigade', 'rugc_greatlakes', 'ecr_eu', 'InternationalBaseball', 'amibeingdetained', 'WSGuilds', 'premeduk', 'FFVIIRemake', 'orangered', 'linkuei', 'asstastic', 'nonmonogamy', 'SanDiegan', 'habbo', 'THPS', 'NSFR', 'Elsanna', 'animenews', 'zenjerk', 'drhorrible', 'ImaginaryJedi', 'assassinscirclejerk', 'electroforming', 'LouisianaTech', 'athiests', 'ChiList', 'DestinyFashion', 'PokemonPokedexHelp', 'CompetitiveMinecraft', 'Quadcopter', 'LENR', 'listentous', 'edeneternal', 'drivel', 'WICircleJerk', 'StCloudState', 'BetaExpansion', 'GetSuave', 'PoetrySlam', 'ECR_UK', 'chloegracemoretz', 'reptiliandata', 'bikemessengers', 'SAP', 'monogatariplot', 'ParkitectModding', 'eigo', 'Weird', 'WeHaveConcerns', 'SupersRP', 'aircraftmaintenance', 'postrock', 'Polish', 'protips', 'BPDlovedones', '3dsfriends', 'Bestof2011', 'fortwayne', 'Tesla', 'Descendents', 'SFSU', 'goboof', 'bestofconservative', 'RedditHunters', 'bachelorchef', 'gibbs', 'bisexualadults', 'WorldofTanksConsole', 'warframeclanrecruit', 'StepfordZombieWives', 'kyarypamyupamyu', 'Spyro', 'engineer', 'helpmecope', 'plushies', 'traktormapping', 'fsm', 'nook', 'wixoss', 'Alistair9000', 'Twee', 'truezelda', 'siriusxm', 'ActuallyEthics', 'surgery', 'fatpeopleproblems', 'nosurf', 'futuresynth', 'SAIT', 'vinyltoys', 'biggirlsnamedhannah', 'electronic_cigarette', 'portlandmusic', 'TPPCSS', 'dehydrating', 'ACSLB', '10mm', 'kindness', 'South_Korea', 'lost', 'CherokeeCountyGA', 'NSFWChallenges', 'GetGems', 'theLifeofaGlowWorm', 'dunsparce', 'musicproduction', 'AskRedDot', 'DentalCare', 'FRAGCAKECHALLENGE', 'WoodburyMinnesota', 'askportland', 'TorontoEscortReviews', 'awakened', 'MyLittleMotorhead', 'nobingeing', 'knightsofnew', 'tennis', 'SS13', 'Heretics', 'Batch', 'tearaway', 'PlanetsideBattles', 'led_zeppelin', 'VinewoodLocos', 'leavingthelab', 'hardcoreaww', 'ancient', 'shoemaking', 'DecemberBumps2016', 'teamghost', 'gofundme', 'transgender', 'BuffaloWizards', 'fighttherap', 'whatsavet', 'AskScriptSwap', 'IndependentBern', 'TheBookClubbers', 'nuclear', 'Nexus6P', 'fuckreddit', 'AskMe', 'evewormhole', 'PinkFloydCircleJerk', 'Heroquest', 'craft', 'phleef', 'JustHappened', 'FACoaches', 'The48LawsOfPower', 'ToTheRescue', 'monsterfuzz', 'superhoops', 'TheLastLaugh', 'vaperettes', 'lookatmygirlfriend', 'ServerPorn', 'Star_Wars_Battlefront', 'secretpalace', 'consequences', 'phenibut', 'gaycruising', 'MeatBoyRuns', 'CastleDoctrine', 'sunbelt', 'ship', 'toxictower', 'SceneGirls', 'badhistory', 'Trinskets', 'RedditDads', 'macarons', 'legalizeit', 'Adoptees', 'mylittlelistentothis', 'collegeinfogeek', 'NBA2k15', 'storiesaboutfatpeople', 'QuestInternational', 'spss', 'clubesteban', 'entOttawa', 'torontocraftbeer', 'bitcointip', 'Jakarta', 'MedicalPhysics', 'TokyoJihen', 'TrollUniversity', 'fundraisingideas', 'NavyNukes', 'GamingComics', '1200isplentyketo', 'proposals', 'ProjectNEX', 'The100', 'Codependency', 'ExodusRP', 'Symantec', 'SEO', 'teengamingnights', 'ENGLISH', 'epicor', 'MinerVoltZ', 'TalesFromWork', 'Eugene', 'epicmafia', 'LearningChinese', 'FoxMains', 'BipolarSOs', 'dating', 'freejazz', 'TrueTelevision', 'beforeandafteredit', 'scientology', 'trueloseit', 'ukpforum_support', 'water', 'high', 'eulalia', 'ffallstars', 'BeachHouse', 'altTRP', 'sfbayarea', 'silkroadonline', 'ColoradoSchoolOfMines', 'bookshelf', 'keyboards', 'PokemonXandY', 'restaurants', 'coinyecoin', 'MusicForConcentration', 'Vodou', 'PhysicsStudents', 'yoloswagtestreddit', 'freeholdofcastamere', 'trueshittydarksouls', 'LeagueOfMeta', 'starsiege', 'MaddenLeague16', 'enviroaction', 'Purityring', 'thisismyjob', 'PebbleProblems', 'xcom2mods', 'BehavioralMedicine', 'Ooer', 'ScottManley', 'EverythingScience', 'ThinkOutsidetheBun', 'BikeDiscussion', 'drugtesthelp', 'MW3Party', 'PostScarcity', 'LipsThatGrip', 'reddit.com', 'gamegrumps', 'ShitTESTSays', 'NationState', 'FEARS', 'PokemonGo_Tampa', 'iPhoneography', 'liluglymane', 'indiedevelopment', 'shanghai', 'ShortFit', 'RT2crew', 'HonestGameReviewers', 'Xsome', 'SciFiModels', 'MinecraftMadWorld', 'TheBlackKeys', 'suggestapc', 'RPBleach', 'chomsky', 'Carnatic', 'philosopherproblems', 'ModernTwin', 'cumpilation', 'vaccination', 'Norse', 'AlcatelWatch', 'EarningReports', 'Saltwater', '14ers', 'gamejams', 'davidfosterwallace', 'GophersVideos', 'DeepSpaceNine', 'espnyankees', 'fsusports', 'QuantumComputing', 'falcons', 'ShoppingAdvice', 'MurderousMilkmen', 'pokemon_safari', 'diyjontron', 'stylus', 'greenlight', 'SpinsterTreehouse', 'whowillbuildtheroads', 'ppcoin', 'AnythingGoesNews', 'shitduolingosays', 'beagles', 'HawksFootball', 'SRSApologies', 'DMT', 'Project_Ascension', 'happyendings', 'RiverMonsters', 'StoriesAboutKevin', 'frogdogs', 'KONC', 'WorstOfSRS', 'ipadmusic', 'WomenOfColor', 'eu', 'nerdcubed', 'OGRP', 'ChicagoAnythingGoes', 'happygirls', 'myevilplan', 'wallpaper', 'captainsmode', 'moviecritic', 'SOPA', 'CK2GameOfthrones', 'dirtypeepals', 'BlackHair', 'istp', 'MexicoCity', 'ConstructionMNGT', 'CyanideandHappiness', 'HIHalo', 'ChimeClicker', 'jwd', 'askthebritish', 'funhaus', 'gleany', 'SRSSex', 'dcpu16', 'webappsec', 'ogden', 'NoCaf', 'NCIS', 'CSUC', 'lawton', 'ModellMedia', 'LoMTwilightTown', 'ReignofKings', 'OculusIdeas', 'Hemochromatosis', 'BayAreaFilmmakers', 'PinnacleLeague', 'ineedasong', 'kingdomthegame', 'mydrunkkitchen', 'Darksiders', 'CookingForOne', 'worldwhisky', 'nonprofit', 'Carcassonne', 'boobsandbottles', 'bayarea', 'BlueCollarWomen', 'MGSVCrack', 'getting_over_it', 'CompetitiveYugioh', 'Synthetic_Biology', 'TheDays', 'alt_conspiracy', 'television', 'BuildingRP', 'Utrecht', 'Civvit', 'ufc', 'GCXRep', 'CalgaryJobs', 'Dragonstone', 'stationery', 'xenobiology', 'Isis', 'FindingFennsGold', 'sedditchallenge', 'gamesupport', 'USMCboot', 'lgg2', 'Incel', 'FMN', 'conlangs', '911truthers', 'NerdyLadyLovers', 'gta5leak', 'AussieRiders', 'Cantonese', '40krpg', 'AtlFilmmakers', 'TrollXChromosome', 'knifeparty', 'righttodie', 'tacos', 'elationships', 'TheMentalist', 'IBO', 'pureasoiafcirclejerk', 'CivMinusPlus', 'anonymouspals', 'PicatinnyPB', 'preaching', 'Scrollsaw', 'AustralianMilitary', 'MaddenLaLiga', 'boycotthollywood', 'WouldTotallyFuck', 'darksoulspvp', 'SeekingHenna', 'ARKone', 'AustralianPolitics', 'LeavingAcademia', 'Wukongmains', 'amateurcumsluts', 'chachapoyas', 'androidroot', 'officialtf2c', 'TheCinemassacre', 'ModifiedPowerWheels', 'SCT', 'MLPAnalysis', 'mint', 'icmcbcc', 'slackerrecipes', 'Hue', 'RateMyNudeBody', 'thickness', 'Borderlands2', 'highdeas', 'obituaries', 'FuckArvo', 'ONETREEHILL', 'infinitecrisis', 'GFD', 'arkhamhorrorlcg', 'PhoebeCrusadeWarRoom', 'liberalarts', 'CatcherInTheHolden', 'textventures', 'bravelysecond', 'UrgotMains', 'VelcroBabies', 'cultawareness', 'CivConcord', 'AnarchyintheUK', 'TechnologyProTips', 'shegeekshow', 'Assistance', 'Syria', 'GladiatorCraft', 'ecig_vendors', 'JustUnsubbed', 'lotus', 'Minerva', 'chartercable', 'DarkerThanBlack', 'ReformJews', 'microcontrollers', 'soundsaboutright', 'DevolverDigital', 'Saffron_Regiment', 'BitcoinBeginners', 'R3VOLUTION', 'controversial', 'Mustang', 'AskBernieSupporters', 'kde', 'wegmans', 'dotamasterrace', 'pumparum', 'SalemState', 'Chromecast', 'EtrianOdyssey', 'PsychScience', 'utulsa', 'kkpsi', 'zensangha', 'DCJobs', 'internationalpolitics', 'JustCause3MP', 'astrophysics', 'datealive', 'manprovement', 'Amnesia', 'GoalKeepers', 'humblebundles', 'zookeeperbattle', 'Occupational_Therapy', 'SolidSnakes', 'whatsitlike', 'LogitechG', 'IronbornCiv', 'GMOfree', 'stonerrock', 'Kava', 'SkincareAddicts', 'TodayICringed', 'AntiAtheismPlus', 'ProgrammingNoLink', 'WeExistNow', 'periscope', 'afrowearmy', 'RockBottom', 'WashingtonForSanders', 'Teacher', 'Banished', 'tipofmyanimetongue', 'lowlevelaware', 'SteamTeamGreen', 'marriagefree', 'SF2', 'jerd', 'ModelF1', 'Neopia', 'spartacuslegends', 'ResistanceHigh', 'ethnoecology', 'vmi', 'HealthAnxiety', 'americanpirateparty', 'curiosityrover', 'angrybirds', 'ssbbw', 'CallforSubmissions', 'TagPro', 'fatbike', 'magicduels', 'weed', 'CODCIRCLEJERK', 'firstpage', 'malelifestyle', 'Transcraft', 'weimaraner', 'AutoDetailing', 'learnjavascript', 'FCInter', 'screwyoueric', 'fluttercoin', 'androidcirclejerk', 'RelayforLifeFL', 'Argaming', 'declutter', 'matheducation', 'RightWingUK', 'StarTrekViewingParty', 'SRSTabletop', 'soccerref', 'ToolBand', 'pastafarianism', 'davidr64yt', 'Justice_Porn', 'colony', 'practicalagi', 'bootcamp', 'sexual', 'DrDrew', 'learningfilm', '2016_elections', 'ansible', 'charmed', 'marxistreadingclub', 'BrynCity', 'socraticseminar', 'FIlm', 'overcominggravity', 'foodanalogies', 'napa', 'NearlyDied', 'talesfromtheautoshop', 'acbrotherhood', 'SolidWorks', 'MPOM', 'DreamMarketplace', 'GoldenRealm', 'esea', 'starcraft_strategy', 'RandomActsOfVinyl', 'RPGhumor', 'SkyrimActors', 'linearquest', 'ThoughtExperiment', 'Townsville', 'synthtrees', 'TeamDaffodil', 'ParticlePhysics', 'CardinalRegimentVI', 'WisconsinBadgers', 'ArtBuddy', 'LDNamateurcricketclub', 'TheDyingOfTheLight', 'userscripts', 'shittyprogramming', 'BuddyCrossing', 'ElPaso', 'darktower', 'HalloweenProps', 'diysynth', 'ucr', 'BravoRealHousewives', 'phoneswap', 'the404', 'RUGC_EuropeDrama', 'TAPWPMS', 'powerpoint', 'vzla', 'korrasami', 'thewholecar', 'Eartheism', 'MangaDiscovery', 'atlantis', 'AmericanLaw', 'servicedesign', 'DestinyTheGame', 'vcg', 'yahooanswers', 'GeekSquad', 'strykeribedok', 'TwoDeeArt', 'asktransgender', 'Vore', 'horn', 'ecobee', 'ZeroPunctuation', 'crackingwayr', 'GW2EU', 'TheWeeknd', 'metalmusicians', 'MealPrepSunday', 'ecr_tng', 'pike', 'MarioMaker', 'Argentinacirclejerk', 'FLVS', 'unRAID', 'n64', 'redpillbooks', 'droid', 'SlutJustice', 'subway', 'advancedentrepreneur', 'TallMeetTall', 'bakchodi', 'ACNA', 'Android', 'CoyoteTalk', 'pokemon', 'traderjoes', 'danishlanguage', 'CTents', 'OverwatchHeroConcepts', 'nsx', 'Kseries', 'indiefilm', 'swinghouse', 'ToriKelly', 'PalermoStreetClub', 'CBRModelWorldCongress', 'TWiTGameOn', 'gamedevteam', 'oboards', 'ContinueShow']\n"
     ]
    }
   ],
   "source": [
    "print(list(set(subreddit))[:1000])"
   ]
  },
  {
   "cell_type": "code",
   "execution_count": 17,
   "metadata": {},
   "outputs": [],
   "source": [
    "def f(x):\n",
    "    tv = torch.tensor([tokenizer.encode(v, pad_to_max_length=True, max_length=args['max_seq_len'],truncation=True) for v in x]).cuda()\n",
    "    attention_mask = (tv!=0).type(torch.int64).cuda()\n",
    "    outputs = model(tv,attention_mask=attention_mask)[0].detach().cpu().numpy()\n",
    "    scores = (np.exp(outputs).T / np.exp(outputs).sum(-1)).T\n",
    "    val = sp.special.logit(scores) \n",
    "    return val"
   ]
  },
  {
   "cell_type": "code",
   "execution_count": 18,
   "metadata": {},
   "outputs": [
    {
     "name": "stderr",
     "output_type": "stream",
     "text": [
      "explainers.Partition is still in an alpha state, so use with caution...\n"
     ]
    }
   ],
   "source": [
    "explainer = shap.Explainer(f,tokenizer,output_names=labels)"
   ]
  },
  {
   "cell_type": "markdown",
   "metadata": {},
   "source": [
    "#### Semantic grouping of words"
   ]
  },
  {
   "cell_type": "code",
   "execution_count": 9,
   "metadata": {},
   "outputs": [],
   "source": [
    "import heapq as pq\n",
    "nlp = spacy.load(\"en_vectors_web_lg\")"
   ]
  },
  {
   "cell_type": "code",
   "execution_count": 10,
   "metadata": {},
   "outputs": [],
   "source": [
    "def semantic_grouping(semantic_groups_ll,sentences,topk=10):\n",
    "    for group in semantic_groups_ll:\n",
    "        semantic_groups_dict[group]={'similar_words':[],'unique_words':set(),'token_spacy':nlp(group)}\n",
    "    for i,sentence in enumerate(sentences):\n",
    "        #print(i,sentence)\n",
    "        tokens = nlp(sentence)\n",
    "        for token in tokens:\n",
    "            for group in semantic_groups_ll:\n",
    "                if token.text not in semantic_groups_dict[group]['unique_words']:\n",
    "                    if len(semantic_groups_dict[group]['unique_words'])<topk:\n",
    "                        pq.heappush(semantic_groups_dict[group]['similar_words'],(semantic_groups_dict[group]['token_spacy'].similarity(token),token.text))\n",
    "                        semantic_groups_dict[group]['unique_words'].add(token.text)\n",
    "                    else:\n",
    "                        sim_score, text = pq.heappop(semantic_groups_dict[group]['similar_words'])\n",
    "                        semantic_groups_dict[group]['unique_words'].remove(text)\n",
    "                        new_sim_score = semantic_groups_dict[group]['token_spacy'].similarity(token)\n",
    "                        if new_sim_score>sim_score:\n",
    "                            pq.heappush(semantic_groups_dict[group]['similar_words'],(new_sim_score,token.text))\n",
    "                            semantic_groups_dict[group]['unique_words'].add(token.text)\n",
    "                        else:\n",
    "                            pq.heappush(semantic_groups_dict[group]['similar_words'],(sim_score,text))\n",
    "                            semantic_groups_dict[group]['unique_words'].add(text)"
   ]
  },
  {
   "cell_type": "code",
   "execution_count": 24,
   "metadata": {},
   "outputs": [],
   "source": [
    "def extract_similar_words(group):\n",
    "    sem_group = []\n",
    "    for _, g in sorted(semantic_groups_dict[group]['similar_words'],reverse=True):\n",
    "        sem_group.append(g)\n",
    "    return sem_group"
   ]
  },
  {
   "cell_type": "markdown",
   "metadata": {},
   "source": [
    "#### Find subreddits similar to gender, male, female"
   ]
  },
  {
   "cell_type": "code",
   "execution_count": 67,
   "metadata": {},
   "outputs": [
    {
     "name": "stderr",
     "output_type": "stream",
     "text": [
      "[W008] Evaluating Doc.similarity based on empty vectors.\n",
      "[W008] Evaluating Doc.similarity based on empty vectors.\n"
     ]
    }
   ],
   "source": [
    "semantic_groups_ll = ['slang']\n",
    "semantic_groups_dict={}\n",
    "semantic_grouping(semantic_groups_ll, list(set(data['subreddit'])), topk=50)"
   ]
  },
  {
   "cell_type": "code",
   "execution_count": 68,
   "metadata": {},
   "outputs": [
    {
     "name": "stdout",
     "output_type": "stream",
     "text": [
      "Semantic group: slang\n",
      "Words: dictionary,etymology,vocabulary,Jokes,puns,language,grammar,rap,gibberish,wordplay,Spanish,ENGLISH,latin,queer,shit,linguistics,dutch,words,Yiddish,languages,wikipedia,dumbass,etiquette,humor,insults,geek,plural,Vietnamese,punk,Cantonese,Portuguese,Names,Hipster,Tagalog,French,nazi,mumble,australian,illiterate,Irony,origins,Graffiti,Hookers,culture,clue,funny,Weird,bitch,translator,German \n",
      "\n"
     ]
    }
   ],
   "source": [
    "for group in semantic_groups_ll:\n",
    "    print(f'Semantic group: {group}')\n",
    "    print(f'Words: {\",\".join(extract_similar_words(group))} \\n')"
   ]
  },
  {
   "cell_type": "markdown",
   "metadata": {},
   "source": [
    "#### Filter sentences to subreddits"
   ]
  },
  {
   "cell_type": "code",
   "execution_count": 54,
   "metadata": {},
   "outputs": [],
   "source": [
    "def extract_subreddit_sentences(subreddits,k=0,kmax=1000,step=100):\n",
    "    filtered_df=None\n",
    "    while k<kmax:\n",
    "        print(f'Accessing data from index {k} to {k+step}')\n",
    "        new_df = pd.DataFrame({'subreddit': data['subreddit'][k:k+step], 'summary': data['summary'][k:k+step]})\n",
    "        new_df=new_df[new_df['subreddit'].isin(subreddits)]\n",
    "        if filtered_df is None:\n",
    "            filtered_df = new_df\n",
    "        else:\n",
    "            filtered_df = pd.concat([filtered_df,new_df])\n",
    "        del new_df\n",
    "        k+=step\n",
    "    return filtered_df"
   ]
  },
  {
   "cell_type": "code",
   "execution_count": 61,
   "metadata": {},
   "outputs": [
    {
     "name": "stdout",
     "output_type": "stream",
     "text": [
      "Accessing data from index 0 to 500000\n",
      "Accessing data from index 500000 to 1000000\n",
      "Accessing data from index 1000000 to 1500000\n",
      "Accessing data from index 1500000 to 2000000\n",
      "Accessing data from index 2000000 to 2500000\n",
      "Accessing data from index 2500000 to 3000000\n"
     ]
    }
   ],
   "source": [
    "df = extract_subreddit_sentences([\"gender\",\"men\",\"women\",\"sex\",\"AskReddit\"],0,3000000,500000)"
   ]
  },
  {
   "cell_type": "code",
   "execution_count": 63,
   "metadata": {},
   "outputs": [
    {
     "data": {
      "text/plain": [
       "(598847, 2)"
      ]
     },
     "execution_count": 63,
     "metadata": {},
     "output_type": "execute_result"
    }
   ],
   "source": [
    "df.shape"
   ]
  },
  {
   "cell_type": "code",
   "execution_count": 66,
   "metadata": {},
   "outputs": [
    {
     "data": {
      "text/html": [
       "<div>\n",
       "<style scoped>\n",
       "    .dataframe tbody tr th:only-of-type {\n",
       "        vertical-align: middle;\n",
       "    }\n",
       "\n",
       "    .dataframe tbody tr th {\n",
       "        vertical-align: top;\n",
       "    }\n",
       "\n",
       "    .dataframe thead th {\n",
       "        text-align: right;\n",
       "    }\n",
       "</style>\n",
       "<table border=\"1\" class=\"dataframe\">\n",
       "  <thead>\n",
       "    <tr style=\"text-align: right;\">\n",
       "      <th></th>\n",
       "      <th>subreddit</th>\n",
       "      <th>summary</th>\n",
       "    </tr>\n",
       "  </thead>\n",
       "  <tbody>\n",
       "    <tr>\n",
       "      <th>350258</th>\n",
       "      <td>men</td>\n",
       "      <td>Don't be surprised if it is temporary, and be willing to branch out and notice the lovely women where you are currently. She's NOT the only lovely competitive spitfire on the planet. Time to break your shell, there's a bigger world.</td>\n",
       "    </tr>\n",
       "    <tr>\n",
       "      <th>370490</th>\n",
       "      <td>men</td>\n",
       "      <td>you're normal.</td>\n",
       "    </tr>\n",
       "    <tr>\n",
       "      <th>378734</th>\n",
       "      <td>men</td>\n",
       "      <td>No.</td>\n",
       "    </tr>\n",
       "    <tr>\n",
       "      <th>184184</th>\n",
       "      <td>men</td>\n",
       "      <td>Be yourself, and don't care what others think.</td>\n",
       "    </tr>\n",
       "    <tr>\n",
       "      <th>184185</th>\n",
       "      <td>men</td>\n",
       "      <td>they help you realize you can do it easily, but provide little \"new\" knowledge.</td>\n",
       "    </tr>\n",
       "    <tr>\n",
       "      <th>317250</th>\n",
       "      <td>men</td>\n",
       "      <td>I am having more trouble dealing with mental images that I get when thinking about it, things trigger those thoughts often too.  Maybe I'm just crazy.</td>\n",
       "    </tr>\n",
       "    <tr>\n",
       "      <th>99894</th>\n",
       "      <td>men</td>\n",
       "      <td>colored briefs</td>\n",
       "    </tr>\n",
       "    <tr>\n",
       "      <th>259962</th>\n",
       "      <td>men</td>\n",
       "      <td>The chick reacted the way I imagine anyone would react if they were propositioned by a friend who then got indignant for not being let into their pants.</td>\n",
       "    </tr>\n",
       "    <tr>\n",
       "      <th>196823</th>\n",
       "      <td>men</td>\n",
       "      <td>The important thing is not being a \"man\" or demonstrating that you are one. The important thing is that  you feel like one . Period. Cut yourself some slack, you can't win all the time and most importantly,  this situation of letting the smug guy walk away does not define you as a male in any way possible .</td>\n",
       "    </tr>\n",
       "    <tr>\n",
       "      <th>395275</th>\n",
       "      <td>men</td>\n",
       "      <td>If you really want to turn men into feminists, treat their issues with the same respect you would want yours treated with, talk about all sides of an issue, not just the parts you like, don't demonize them as oppressors, and really, you should form the thesis of your argument based on the data, not vice-versa.</td>\n",
       "    </tr>\n",
       "    <tr>\n",
       "      <th>423139</th>\n",
       "      <td>men</td>\n",
       "      <td>dad taught me \\n \\n Work ethic \\n Respect for the working man \\n The value of things in hours worked \\n How to treat women.</td>\n",
       "    </tr>\n",
       "    <tr>\n",
       "      <th>204042</th>\n",
       "      <td>men</td>\n",
       "      <td>Thank god for 2 in 1 body wash/shampoo</td>\n",
       "    </tr>\n",
       "    <tr>\n",
       "      <th>244850</th>\n",
       "      <td>men</td>\n",
       "      <td>I was an asshole to girl of dreams throughout half of high school. Eventually established friendship. We go to different colleges, meet up over break, she seems interested in me. What do?</td>\n",
       "    </tr>\n",
       "  </tbody>\n",
       "</table>\n",
       "</div>"
      ],
      "text/plain": [
       "       subreddit  \\\n",
       "350258       men   \n",
       "370490       men   \n",
       "378734       men   \n",
       "184184       men   \n",
       "184185       men   \n",
       "317250       men   \n",
       "99894        men   \n",
       "259962       men   \n",
       "196823       men   \n",
       "395275       men   \n",
       "423139       men   \n",
       "204042       men   \n",
       "244850       men   \n",
       "\n",
       "                                                                                                                                                                                                                                                                                                                        summary  \n",
       "350258                                                                                 Don't be surprised if it is temporary, and be willing to branch out and notice the lovely women where you are currently. She's NOT the only lovely competitive spitfire on the planet. Time to break your shell, there's a bigger world.  \n",
       "370490                                                                                                                                                                                                                                                                                                           you're normal.  \n",
       "378734                                                                                                                                                                                                                                                                                                                      No.  \n",
       "184184                                                                                                                                                                                                                                                                           Be yourself, and don't care what others think.  \n",
       "184185                                                                                                                                                                                                                                          they help you realize you can do it easily, but provide little \"new\" knowledge.  \n",
       "317250                                                                                                                                                                   I am having more trouble dealing with mental images that I get when thinking about it, things trigger those thoughts often too.  Maybe I'm just crazy.  \n",
       "99894                                                                                                                                                                                                                                                                                                            colored briefs  \n",
       "259962                                                                                                                                                                 The chick reacted the way I imagine anyone would react if they were propositioned by a friend who then got indignant for not being let into their pants.  \n",
       "196823     The important thing is not being a \"man\" or demonstrating that you are one. The important thing is that  you feel like one . Period. Cut yourself some slack, you can't win all the time and most importantly,  this situation of letting the smug guy walk away does not define you as a male in any way possible .  \n",
       "395275  If you really want to turn men into feminists, treat their issues with the same respect you would want yours treated with, talk about all sides of an issue, not just the parts you like, don't demonize them as oppressors, and really, you should form the thesis of your argument based on the data, not vice-versa.  \n",
       "423139                                                                                                                                                                                              dad taught me \\n \\n Work ethic \\n Respect for the working man \\n The value of things in hours worked \\n How to treat women.  \n",
       "204042                                                                                                                                                                                                                                                                                   Thank god for 2 in 1 body wash/shampoo  \n",
       "244850                                                                                                                              I was an asshole to girl of dreams throughout half of high school. Eventually established friendship. We go to different colleges, meet up over break, she seems interested in me. What do?  "
      ]
     },
     "execution_count": 66,
     "metadata": {},
     "output_type": "execute_result"
    }
   ],
   "source": [
    "df[df['subreddit']==\"men\"][:100]"
   ]
  },
  {
   "cell_type": "markdown",
   "metadata": {},
   "source": [
    "#### Identifying words related to gender"
   ]
  },
  {
   "cell_type": "code",
   "execution_count": null,
   "metadata": {},
   "outputs": [],
   "source": [
    "gender = [\"feminine\", \"Ladies\"]"
   ]
  },
  {
   "cell_type": "markdown",
   "metadata": {},
   "source": [
    "#### Find words in corpus which relate to gender"
   ]
  },
  {
   "cell_type": "code",
   "execution_count": 22,
   "metadata": {},
   "outputs": [
    {
     "name": "stderr",
     "output_type": "stream",
     "text": [
      "[W008] Evaluating Doc.similarity based on empty vectors.\n",
      "[W008] Evaluating Doc.similarity based on empty vectors.\n"
     ]
    }
   ],
   "source": [
    "semantic_groups_ll = ['gender','male','female']\n",
    "semantic_groups_dict={}\n",
    "semantic_grouping(semantic_groups_ll, df_politics['summary'], topk=50)"
   ]
  },
  {
   "cell_type": "code",
   "execution_count": 35,
   "metadata": {},
   "outputs": [],
   "source": []
  },
  {
   "cell_type": "code",
   "execution_count": 36,
   "metadata": {},
   "outputs": [
    {
     "name": "stdout",
     "output_type": "stream",
     "text": [
      "Semantic group: Republicans\n",
      "Words: Republicans,republicans,REPUBLICANS,democrats,Democrats,republican,Republican,dems,Dems,conservatives,Conservatives,liberals,Liberals,democrat,Democrat,GOP,Progressives,McCain,obama,Obama,Romney,politicians,Politicians,racists,Senate,libertarians,Libertarians,conservative,Conservative,liberal,Liberal,morons,congress,Congress,Americans,idiots,Idiots,independents,Independents,Palin,bigots,Bigots,voters,evangelicals,Christians,politics,Politics,Clinton,CLINTON,election \n",
      "\n",
      "Semantic group: China\n",
      "Words: China,Taiwan,usa,USA,Europe,Germany,america,America,AMERICA,Canada,Australia,Russia,UK,England,Arabia,american,American,iran,Iran,Britain,Christmas,Saudi,canadian,Canadian,Chicago,York,Switzerland,United,Israel,Asian,Finland,suppliers,Tea,co,cheap,Afghanistan,Paris,African,glass,Cuba,english,English,Disney,Italian,U.S.,manufacturers,Norway,Buddhism,German,Iphone \n",
      "\n",
      "Semantic group: US\n",
      "Words: US,us,Us,we,We,WE,our,Our,them,me,Me,give,Give,let,Let,everyone,Everyone,you,You,YOU,bring,Bring,ask,tell,what,What,WHAT,know,Know,go,Go,GO,out,way,call,Call,forget,all,All,ALL,how,How,others,take,Take,come,him,here,Here,HERE \n",
      "\n",
      "Semantic group: electorate\n",
      "Words: electorate,voters,populace,election,voter,voting,Voting,elections,independents,Independents,elected,vote,Vote,majority,Majority,politicians,Politicians,conservatives,Conservatives,politically,democratic,Democratic,democrats,Democrats,turnout,republican,Republican,elect,constituents,partisan,Partisan,liberals,Liberals,political,conservative,Conservative,legislatures,Parliament,republicans,Republicans,REPUBLICANS,opposition,pandering,minority,apathetic,politician,votes,Votes,liberal,Liberal \n",
      "\n",
      "Semantic group: government\n",
      "Words: government,Government,GOVERNMENT,governments,federal,Federal,Govt,governmental,Goverment,officials,political,politicians,Politicians,citizens,Citizens,economic,ECONOMIC,policy,Policy,administration,Administration,gov,policies,opposition,public,Public,reform,reforms,agencies,foreign,Foreign,state,State,authority,elections,democratic,Democratic,military,Military,corporations,Corporations,legislation,funding,civil,Civil,economy,institutions,country,Country,financial \n",
      "\n",
      "Semantic group: economy\n",
      "Words: economy,economic,ECONOMIC,Economies,recession,Recession,crisis,Crisis,inflation,unemployment,markets,sector,Sector,economics,Economics,growth,government,Government,GOVERNMENT,market,Market,capitalism,Capitalism,prosperity,demand,Demand,competitiveness,financial,nation,Nation,governments,spending,Spending,global,GLOBAL,decline,Decline,increasing,Increasing,investment,fiscal,incomes,country,Country,finance,Finance,agriculture,reform,banking,Banking \n",
      "\n",
      "Semantic group: voting\n",
      "Words: Voting,voting,vote,Vote,voters,voter,election,elections,voted,votes,Votes,elected,electorate,majority,Majority,candidates,elect,Presidential,republican,Republican,candidate,Senate,democratic,Democratic,democrats,Democrats,legislative,nominee,Committee,democrat,Democrat,turnout,debate,Debate,minority,campaigning,republicans,Republicans,REPUBLICANS,political,oppose,citizens,Citizens,amendment,Amendment,judges,veto,conservatives,Conservatives,constitution \n",
      "\n",
      "Semantic group: immigration\n",
      "Words: immigration,Deportation,reform,illegals,legislation,law,Law,laws,Laws,enforcement,legalization,federal,Federal,legal,Legal,policy,Policy,politics,Politics,illegal,Illegal,government,Government,GOVERNMENT,civil,Civil,reforms,welfare,Welfare,political,employment,citizens,Citizens,policies,criminal,Criminal,CRIMINAL,justice,JUSTICE,unemployment,foreign,Foreign,racial,economic,ECONOMIC,debate,Debate,taxation,Taxation,discrimination \n",
      "\n",
      "Semantic group: taxes\n",
      "Words: taxes,Taxes,TAXES,tax,Tax,TAX,taxation,Taxation,income,Income,taxpayers,taxed,taxpayer,deductions,pay,Pay,expenses,paying,expense,costs,revenue,wages,Wages,bills,spending,Spending,levied,subsidies,paid,levies,deduction,dollars,wage,revenues,exempt,incomes,money,Money,debt,DEBT,profits,pension,premiums,government,Government,GOVERNMENT,savings,federal,Federal,monies \n",
      "\n",
      "Semantic group: fox\n",
      "Words: Fox,FOX,fox,wolves,hunter,weasel,Michael,american,American,David,america,America,AMERICA,Sarah,bear,Charlie,George,Scott,Ryan,obama,Obama,tv,TV,Stewart,Palin,frog,bush,Bush,Chris,Montana,john,John,MSNBC,Parker,Moore,Madison,Richard,beck,Beck,Peter,Clinton,CLINTON,bull,Simpson,Disney,Barbara,Hollywood,Robert,Mike,Mr \n",
      "\n",
      "Semantic group: news\n",
      "Words: News,news,headlines,articles,media,Media,article,Article,recent,announcement,today,Today,headline,report,blog,press,Stories,website,interview,story,information,Information,sports,Official,coming,COMING,journalists,interesting,entertainment,facts,Facts,coverage,television,week,editorial,links,reporter,magazine,Magazine,info,journalism,comments,new,New,statistics,Statistics,tv,TV,related,events \n",
      "\n",
      "Semantic group: Liberals\n",
      "Words: liberals,Liberals,conservatives,Conservatives,Progressives,liberal,Liberal,democrats,Democrats,republicans,Republicans,REPUBLICANS,libertarians,Libertarians,conservative,Conservative,dems,Dems,racists,liberalism,Liberalism,fundamentalists,politicians,Politicians,atheists,bigots,Bigots,evangelicals,conservatism,morons,republican,Republican,democrat,Democrat,elites,idiots,Idiots,socialist,hypocrites,libertarian,intellectuals,hypocritical,criticize,Zealots,disagree,elitist,rhetoric,accuse,socialism,Socialism \n",
      "\n",
      "Semantic group: Obama\n",
      "Words: Obama,obama,McCain,Clinton,CLINTON,Palin,Romney,GOP,democrats,Democrats,republicans,Republicans,REPUBLICANS,democrat,Democrat,america,America,AMERICA,republican,Republican,Osama,Reagan,George,congress,Congress,Israel,Americans,iran,Iran,Hitler,Ron,MSNBC,Senate,Paul,bush,Bush,Obamacare,Afghanistan,kerry,Sarah,Joe,U.S.,Reid,american,American,Presidential,john,John,Rick,Oprah \n",
      "\n",
      "Semantic group: politician\n",
      "Words: politician,politicians,Politicians,Senator,political,Businessman,republican,Republican,democrat,Democrat,elected,socialist,candidate,politics,Politics,congressman,Congressman,liberal,Liberal,conservative,Conservative,election,governor,Governor,leader,Presidential,hypocrite,politically,opposition,presidency,democratic,Democratic,campaigning,lawyer,Parliament,outspoken,liar,partisan,Partisan,government,Government,GOVERNMENT,elections,fascist,electorate,democrats,Democrats,wealthy,Wealthy,president \n",
      "\n"
     ]
    }
   ],
   "source": [
    "for group in politics_group:\n",
    "    print(f'Semantic group: {group}')\n",
    "    print(f'Words: {\",\".join(extract_similar_words(group))} \\n')"
   ]
  },
  {
   "cell_type": "markdown",
   "metadata": {},
   "source": [
    "#### Cumulative shap"
   ]
  },
  {
   "cell_type": "code",
   "execution_count": 53,
   "metadata": {},
   "outputs": [],
   "source": [
    "def get_cumulative_shap_values_abs_mean(word_set,shap_values):\n",
    "    token_list = shap_values.mean(0).feature_names.tolist()\n",
    "    token_set = set(token_list)\n",
    "    shap_values_abs_mean = shap_values.abs.mean(0)\n",
    "    shap_values_list = []\n",
    "    for word in word_set:\n",
    "        if word in token_set:\n",
    "            shap_values_word = shap_values_abs_mean.values[token_list.index(word)]\n",
    "            shap_values_list.append(shap_values_word)\n",
    "    \n",
    "    if shap_values_list:\n",
    "        return np.array(shap_values_list).mean(0)\n",
    "    else:\n",
    "        return np.zeros(shap_values.base_values[0].shape)"
   ]
  },
  {
   "cell_type": "markdown",
   "metadata": {},
   "source": [
    "#### Top icons affected by a semantic group"
   ]
  },
  {
   "cell_type": "code",
   "execution_count": 98,
   "metadata": {},
   "outputs": [],
   "source": [
    "def plot_top_icons_for_semantic_group(group,shap_values,topk=10):\n",
    "    if isinstance(group,str):\n",
    "        risk = get_cumulative_shap_values_abs_mean(extract_similar_words(group),shap_values)\n",
    "    else:\n",
    "        risk = get_cumulative_shap_values_abs_mean(group,shap_values)\n",
    "    df = pd.DataFrame({'Icons':labels,'Risk':risk})\n",
    "    topk_df=df.sort_values(by = 'Risk', ascending = False)[:topk]\n",
    "    ax = sns.barplot(x=\"Risk\", y=\"Icons\", data=topk_df,color=\"royalblue\")\n",
    "    ax.set_title(f'Top icons affected by semantic group: {group}')\n",
    "    plt.show()"
   ]
  },
  {
   "cell_type": "code",
   "execution_count": 99,
   "metadata": {
    "scrolled": false
   },
   "outputs": [
    {
     "data": {
      "image/png": "[encoded data removed]",
      "text/plain": [
       "<Figure size 432x288 with 1 Axes>"
      ]
     },
     "metadata": {
      "needs_background": "light"
     },
     "output_type": "display_data"
    }
   ],
   "source": [
    "#for group in politics_group:\n",
    "plot_top_icons_for_semantic_group(politics_group,shap_values_politics,topk=100)"
   ]
  },
  {
   "cell_type": "code",
   "execution_count": 90,
   "metadata": {},
   "outputs": [],
   "source": [
    "def extract_sentences(icon,group,shap_values,topk=10):\n",
    "    if isinstance(group,str):\n",
    "        semantic_group=extract_similar_words(group)\n",
    "    else:\n",
    "        semantic_group=group\n",
    "    semantic_group_set = set(semantic_group)\n",
    "    shortlist_sentences=[]\n",
    "    for sent_index,sentence in enumerate(shap_values.data):\n",
    "        shap_sentence_score=[]\n",
    "        shap_words=[]\n",
    "        for word_index,word in enumerate(sentence):\n",
    "            if word in semantic_group_set:\n",
    "                shap_score = shap_values[sent_index].values[word_index][label2id[icon]]\n",
    "                if shap_score>0:\n",
    "                    shap_sentence_score.append(shap_score)\n",
    "                    shap_words.append(word)\n",
    "        if shap_sentence_score:\n",
    "            cumulative_shap_effect = np.mean(shap_sentence_score)\n",
    "            sentence = ' '.join(sentence)\n",
    "            for w in shap_words:\n",
    "                sentence = sentence.replace(w,\"\\033[1m\"+w+\"\\033[0m\")\n",
    "            shortlist_sentences.append((cumulative_shap_effect,sentence,sent_index))\n",
    "    sorted_shortlist_sentences = []\n",
    "    for _, s,sent_index in sorted(shortlist_sentences,reverse=True):\n",
    "        sorted_shortlist_sentences.append((s,sent_index))\n",
    "    return sorted_shortlist_sentences[:10]"
   ]
  },
  {
   "cell_type": "code",
   "execution_count": 96,
   "metadata": {},
   "outputs": [],
   "source": [
    "shortlist_sentences = extract_sentences('__label__Nose',politics_group,shap_values_politics)"
   ]
  },
  {
   "cell_type": "code",
   "execution_count": 97,
   "metadata": {},
   "outputs": [
    {
     "name": "stdout",
     "output_type": "stream",
     "text": [
      "\n",
      " \u001b[1m Sentence 1: \u001b[0m\n",
      " Take  into  account  a  few  fair  assumptions  about  Mel ale e ' s  age ,  education ,  and  geographical  location ,  and  it ' s  perfectly  understand able  that  they  would  hold  an  inaccurate  app rai sal  of  \u001b[1mObama\u001b[0m ' s  current  quality  as  a  President . \n"
     ]
    }
   ],
   "source": [
    "for i,sentence in enumerate(shortlist_sentences):\n",
    "    print(f'\\n \\033[1m Sentence {i+1}: \\033[0m')\n",
    "    print(sentence[0])"
   ]
  },
  {
   "cell_type": "code",
   "execution_count": 110,
   "metadata": {},
   "outputs": [],
   "source": [
    "def f_label(x):\n",
    "    x=[\"Take  into  account  a  few  fair  assumptions  about  Mel ale e ' s  age ,  education ,  and  geographical  location\"]\n",
    "    tv = torch.tensor([tokenizer.encode(v, pad_to_max_length=True, max_length=args['max_seq_len'],truncation=True) for v in x]).cuda()\n",
    "    attention_mask = (tv!=0).type(torch.int64).cuda()\n",
    "    outputs = model(tv,attention_mask=attention_mask)[0].detach().cpu().numpy()\n",
    "    scores = (np.exp(outputs).T / np.exp(outputs).sum(-1)).T\n",
    "    return id2label[np.argmax(scores[0])]"
   ]
  },
  {
   "cell_type": "code",
   "execution_count": 112,
   "metadata": {},
   "outputs": [
    {
     "data": {
      "text/plain": [
       "'__label__Marker'"
      ]
     },
     "execution_count": 112,
     "metadata": {},
     "output_type": "execute_result"
    }
   ],
   "source": [
    "f_label([\"Take  into  account  a  few  fair  assumptions  about  Mel ale e ' s  age ,  education ,  and  geographical  location ,  and  it ' s  perfectly  understand able  that  they  would  hold  an  inaccurate  app rai sal  of  Obama ' s  current  quality  as  a  President .\"])"
   ]
  },
  {
   "cell_type": "markdown",
   "metadata": {},
   "source": [
    "#### Text and Bar plots"
   ]
  },
  {
   "cell_type": "code",
   "execution_count": null,
   "metadata": {},
   "outputs": [],
   "source": [
    "def custom_masked_bar_plot(class_index,mask_type,viz_type):\n",
    "    #determine type of operation on the explanation object\n",
    "    if viz_type=='mean':\n",
    "        compute_shap=copy.copy(shap_values_multiclass.mean(0))\n",
    "    if viz_type=='sum':\n",
    "        compute_shap=copy.copy(shap_values_multiclass.sum(0))\n",
    "    if viz_type=='abs_mean':\n",
    "        compute_shap=copy.copy(shap_values_multiclass.abs.sum(0))\n",
    "    if viz_type=='abs_sum':\n",
    "        compute_shap=copy.copy(shap_values_multiclass.abs.sum(0))\n",
    "    #create a mask to visualize either positively or negatively contributing features\n",
    "    if mask_type=='pos':\n",
    "        mask=compute_shap.values[:,class_index]>=0\n",
    "    else:\n",
    "        mask=compute_shap.values[:,class_index]<=0\n",
    "    #slice values related to a given class\n",
    "    compute_shap.values=compute_shap.values[:,class_index][mask]\n",
    "    compute_shap.feature_names=list(np.array(compute_shap.feature_names)[mask])\n",
    "    #plot\n",
    "    shap.plots.bar(compute_shap.abs,order=shap.Explanation.identity)"
   ]
  },
  {
   "cell_type": "code",
   "execution_count": 119,
   "metadata": {},
   "outputs": [],
   "source": [
    "def text_plot(class_index,start_idx,end_idx,shap_values_temp):\n",
    "    shap_values = copy.copy(shap_values_temp[:])\n",
    "    #slice values related to a given class\n",
    "    if len(shap_values.base_values.shape) == 1:\n",
    "        shap_values.values = shap_values.values[:,class_index]\n",
    "        shap_values.hierarchical_values = shap_values.hierarchical_values[:,class_index]\n",
    "        shap_values.base_values = shap_values.base_values[class_index]\n",
    "    else:\n",
    "        for i in range(start_idx,end_idx):\n",
    "            shap_values.values[i] = shap_values.values[i][:,class_index]\n",
    "            shap_values.hierarchical_values[i] = shap_values.hierarchical_values[i][:,class_index]\n",
    "        shap_values.base_values = shap_values.base_values[:,class_index]\n",
    "    #plot\n",
    "    shap.plots.text(shap_values[start_idx:end_idx])"
   ]
  },
  {
   "cell_type": "code",
   "execution_count": null,
   "metadata": {},
   "outputs": [],
   "source": [
    "label='__label__Fire'\n",
    "custom_masked_bar_plot(label2id[label],'pos','mean')"
   ]
  },
  {
   "cell_type": "code",
   "execution_count": 121,
   "metadata": {},
   "outputs": [
    {
     "ename": "AttributeError",
     "evalue": "'numpy.ndarray' object has no attribute 'replace'",
     "output_type": "error",
     "traceback": [
      "\u001b[1;31m---------------------------------------------------------------------------\u001b[0m",
      "\u001b[1;31mAttributeError\u001b[0m                            Traceback (most recent call last)",
      "\u001b[1;32m<ipython-input-121-35338e2b9c47>\u001b[0m in \u001b[0;36m<module>\u001b[1;34m\u001b[0m\n\u001b[1;32m----> 1\u001b[1;33m \u001b[0mtext_plot\u001b[0m\u001b[1;33m(\u001b[0m\u001b[0mlabel2id\u001b[0m\u001b[1;33m[\u001b[0m\u001b[1;34m'__label__Nose'\u001b[0m\u001b[1;33m]\u001b[0m\u001b[1;33m,\u001b[0m\u001b[1;36m0\u001b[0m\u001b[1;33m,\u001b[0m\u001b[1;36m1\u001b[0m\u001b[1;33m,\u001b[0m\u001b[0mshap_values_politics\u001b[0m\u001b[1;33m)\u001b[0m\u001b[1;33m\u001b[0m\u001b[1;33m\u001b[0m\u001b[0m\n\u001b[0m",
      "\u001b[1;32m<ipython-input-119-056d34146a1a>\u001b[0m in \u001b[0;36mtext_plot\u001b[1;34m(class_index, start_idx, end_idx, shap_values_temp)\u001b[0m\n\u001b[0;32m     12\u001b[0m         \u001b[0mshap_values\u001b[0m\u001b[1;33m.\u001b[0m\u001b[0mbase_values\u001b[0m \u001b[1;33m=\u001b[0m \u001b[0mshap_values\u001b[0m\u001b[1;33m.\u001b[0m\u001b[0mbase_values\u001b[0m\u001b[1;33m[\u001b[0m\u001b[1;33m:\u001b[0m\u001b[1;33m,\u001b[0m\u001b[0mclass_index\u001b[0m\u001b[1;33m]\u001b[0m\u001b[1;33m\u001b[0m\u001b[1;33m\u001b[0m\u001b[0m\n\u001b[0;32m     13\u001b[0m     \u001b[1;31m#plot\u001b[0m\u001b[1;33m\u001b[0m\u001b[1;33m\u001b[0m\u001b[1;33m\u001b[0m\u001b[0m\n\u001b[1;32m---> 14\u001b[1;33m     \u001b[0mshap\u001b[0m\u001b[1;33m.\u001b[0m\u001b[0mplots\u001b[0m\u001b[1;33m.\u001b[0m\u001b[0mtext\u001b[0m\u001b[1;33m(\u001b[0m\u001b[0mshap_values\u001b[0m\u001b[1;33m[\u001b[0m\u001b[0mstart_idx\u001b[0m\u001b[1;33m:\u001b[0m\u001b[0mend_idx\u001b[0m\u001b[1;33m]\u001b[0m\u001b[1;33m)\u001b[0m\u001b[1;33m\u001b[0m\u001b[1;33m\u001b[0m\u001b[0m\n\u001b[0m",
      "\u001b[1;32mc:\\users\\ryserrao\\microsoft_work\\aiplatform_shap\\forked_shap\\shap\\shap\\plots\\_text.py\u001b[0m in \u001b[0;36mtext\u001b[1;34m(shap_values, num_starting_labels, group_threshold, separator, xmin, xmax, cmax)\u001b[0m\n\u001b[0;32m     53\u001b[0m \u001b[1;33m\u001b[0m\u001b[0m\n\u001b[0;32m     54\u001b[0m     \u001b[1;32melif\u001b[0m \u001b[0mlen\u001b[0m\u001b[1;33m(\u001b[0m\u001b[0mshap_values\u001b[0m\u001b[1;33m.\u001b[0m\u001b[0mshape\u001b[0m\u001b[1;33m)\u001b[0m \u001b[1;33m==\u001b[0m \u001b[1;36m2\u001b[0m \u001b[1;32mand\u001b[0m \u001b[0mshap_values\u001b[0m\u001b[1;33m.\u001b[0m\u001b[0moutput_names\u001b[0m \u001b[1;32mis\u001b[0m \u001b[1;32mnot\u001b[0m \u001b[1;32mNone\u001b[0m\u001b[1;33m:\u001b[0m\u001b[1;33m\u001b[0m\u001b[1;33m\u001b[0m\u001b[0m\n\u001b[1;32m---> 55\u001b[1;33m         \u001b[0mtext_to_text\u001b[0m\u001b[1;33m(\u001b[0m\u001b[0mshap_values\u001b[0m\u001b[1;33m)\u001b[0m\u001b[1;33m\u001b[0m\u001b[1;33m\u001b[0m\u001b[0m\n\u001b[0m\u001b[0;32m     56\u001b[0m         \u001b[1;32mreturn\u001b[0m\u001b[1;33m\u001b[0m\u001b[1;33m\u001b[0m\u001b[0m\n\u001b[0;32m     57\u001b[0m     \u001b[1;32melif\u001b[0m \u001b[0mlen\u001b[0m\u001b[1;33m(\u001b[0m\u001b[0mshap_values\u001b[0m\u001b[1;33m.\u001b[0m\u001b[0mshape\u001b[0m\u001b[1;33m)\u001b[0m \u001b[1;33m==\u001b[0m \u001b[1;36m3\u001b[0m\u001b[1;33m:\u001b[0m\u001b[1;33m\u001b[0m\u001b[1;33m\u001b[0m\u001b[0m\n",
      "\u001b[1;32mc:\\users\\ryserrao\\microsoft_work\\aiplatform_shap\\forked_shap\\shap\\shap\\plots\\_text.py\u001b[0m in \u001b[0;36mtext_to_text\u001b[1;34m(shap_values)\u001b[0m\n\u001b[0;32m    611\u001b[0m     \u001b[0muuid\u001b[0m \u001b[1;33m=\u001b[0m \u001b[1;34m''\u001b[0m\u001b[1;33m.\u001b[0m\u001b[0mjoin\u001b[0m\u001b[1;33m(\u001b[0m\u001b[0mrandom\u001b[0m\u001b[1;33m.\u001b[0m\u001b[0mchoices\u001b[0m\u001b[1;33m(\u001b[0m\u001b[0mstring\u001b[0m\u001b[1;33m.\u001b[0m\u001b[0mascii_lowercase\u001b[0m\u001b[1;33m,\u001b[0m \u001b[0mk\u001b[0m\u001b[1;33m=\u001b[0m\u001b[1;36m20\u001b[0m\u001b[1;33m)\u001b[0m\u001b[1;33m)\u001b[0m\u001b[1;33m\u001b[0m\u001b[1;33m\u001b[0m\u001b[0m\n\u001b[0;32m    612\u001b[0m \u001b[1;33m\u001b[0m\u001b[0m\n\u001b[1;32m--> 613\u001b[1;33m     \u001b[0msaliency_plot_markup\u001b[0m \u001b[1;33m=\u001b[0m \u001b[0msaliency_plot\u001b[0m\u001b[1;33m(\u001b[0m\u001b[0mshap_values\u001b[0m\u001b[1;33m)\u001b[0m\u001b[1;33m\u001b[0m\u001b[1;33m\u001b[0m\u001b[0m\n\u001b[0m\u001b[0;32m    614\u001b[0m     \u001b[0mheatmap_markup\u001b[0m \u001b[1;33m=\u001b[0m \u001b[0mheatmap\u001b[0m\u001b[1;33m(\u001b[0m\u001b[0mshap_values\u001b[0m\u001b[1;33m)\u001b[0m\u001b[1;33m\u001b[0m\u001b[1;33m\u001b[0m\u001b[0m\n\u001b[0;32m    615\u001b[0m \u001b[1;33m\u001b[0m\u001b[0m\n",
      "\u001b[1;32mc:\\users\\ryserrao\\microsoft_work\\aiplatform_shap\\forked_shap\\shap\\shap\\plots\\_text.py\u001b[0m in \u001b[0;36msaliency_plot\u001b[1;34m(shap_values)\u001b[0m\n\u001b[0;32m    694\u001b[0m     \u001b[0mout\u001b[0m \u001b[1;33m+=\u001b[0m \u001b[1;34m'<th></th>'\u001b[0m\u001b[1;33m\u001b[0m\u001b[1;33m\u001b[0m\u001b[0m\n\u001b[0;32m    695\u001b[0m     \u001b[1;32mfor\u001b[0m \u001b[0mj\u001b[0m \u001b[1;32min\u001b[0m \u001b[0mrange\u001b[0m\u001b[1;33m(\u001b[0m\u001b[0mmodel_input\u001b[0m\u001b[1;33m.\u001b[0m\u001b[0mshape\u001b[0m\u001b[1;33m[\u001b[0m\u001b[1;36m0\u001b[0m\u001b[1;33m]\u001b[0m\u001b[1;33m)\u001b[0m\u001b[1;33m:\u001b[0m\u001b[1;33m\u001b[0m\u001b[1;33m\u001b[0m\u001b[0m\n\u001b[1;32m--> 696\u001b[1;33m         \u001b[0mout\u001b[0m \u001b[1;33m+=\u001b[0m \u001b[1;34m'<th>'\u001b[0m \u001b[1;33m+\u001b[0m \u001b[0mmodel_input\u001b[0m\u001b[1;33m[\u001b[0m\u001b[0mj\u001b[0m\u001b[1;33m]\u001b[0m\u001b[1;33m.\u001b[0m\u001b[0mreplace\u001b[0m\u001b[1;33m(\u001b[0m\u001b[1;34m\"<\"\u001b[0m\u001b[1;33m,\u001b[0m \u001b[1;34m\"&lt;\"\u001b[0m\u001b[1;33m)\u001b[0m\u001b[1;33m.\u001b[0m\u001b[0mreplace\u001b[0m\u001b[1;33m(\u001b[0m\u001b[1;34m\">\"\u001b[0m\u001b[1;33m,\u001b[0m \u001b[1;34m\"&gt;\"\u001b[0m\u001b[1;33m)\u001b[0m\u001b[1;33m.\u001b[0m\u001b[0mreplace\u001b[0m\u001b[1;33m(\u001b[0m\u001b[1;34m' ##'\u001b[0m\u001b[1;33m,\u001b[0m \u001b[1;34m''\u001b[0m\u001b[1;33m)\u001b[0m\u001b[1;33m.\u001b[0m\u001b[0mreplace\u001b[0m\u001b[1;33m(\u001b[0m\u001b[1;34m'▁'\u001b[0m\u001b[1;33m,\u001b[0m \u001b[1;34m''\u001b[0m\u001b[1;33m)\u001b[0m \u001b[1;33m+\u001b[0m \u001b[1;34m'</th>'\u001b[0m\u001b[1;33m\u001b[0m\u001b[1;33m\u001b[0m\u001b[0m\n\u001b[0m\u001b[0;32m    697\u001b[0m     \u001b[0mout\u001b[0m \u001b[1;33m+=\u001b[0m \u001b[1;34m'</tr>'\u001b[0m\u001b[1;33m\u001b[0m\u001b[1;33m\u001b[0m\u001b[0m\n\u001b[0;32m    698\u001b[0m \u001b[1;33m\u001b[0m\u001b[0m\n",
      "\u001b[1;31mAttributeError\u001b[0m: 'numpy.ndarray' object has no attribute 'replace'"
     ]
    }
   ],
   "source": [
    "text_plot(label2id['__label__Nose'],0,1,shap_values_politics)"
   ]
  },
  {
   "cell_type": "code",
   "execution_count": null,
   "metadata": {},
   "outputs": [],
   "source": []
  }
 ],
 "metadata": {
  "kernelspec": {
   "display_name": "run_shap_env_kernel",
   "language": "python",
   "name": "run_shap_env"
  },
  "language_info": {
   "codemirror_mode": {
    "name": "ipython",
    "version": 3
   },
   "file_extension": ".py",
   "mimetype": "text/x-python",
   "name": "python",
   "nbconvert_exporter": "python",
   "pygments_lexer": "ipython3",
   "version": "3.8.5"
  }
 },
 "nbformat": 4,
 "nbformat_minor": 2
}
