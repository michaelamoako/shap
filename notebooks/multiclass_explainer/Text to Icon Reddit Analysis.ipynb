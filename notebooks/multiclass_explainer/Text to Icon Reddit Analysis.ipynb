{
 "cells": [
  {
   "cell_type": "markdown",
   "metadata": {},
   "source": [
    "In this notebook we will run SHAP on the model(s) and data described in the key components section to follow, produce cumulative SHAP values (methodology described in the 'Cumulative SHAP value' section), and illustrate how the resulting values could be used to do further model diagnosis. "
   ]
  },
  {
   "cell_type": "code",
   "execution_count": 3,
   "metadata": {},
   "outputs": [
    {
     "name": "stdout",
     "output_type": "stream",
     "text": [
      "Requirement already satisfied: torch in c:\\users\\miamoako\\miniconda3\\envs\\run_shap\\lib\\site-packages (1.6.0)\n",
      "Collecting future\n",
      "  Downloading future-0.18.2.tar.gz (829 kB)\n",
      "Requirement already satisfied: numpy in c:\\users\\miamoako\\appdata\\local\\packages\\pythonsoftwarefoundation.python.3.8_qbz5n2kfra8p0\\localcache\\local-packages\\python38\\site-packages (from torch) (1.16.6)\n",
      "Building wheels for collected packages: future\n",
      "  Building wheel for future (setup.py): started\n",
      "  Building wheel for future (setup.py): finished with status 'done'\n",
      "  Created wheel for future: filename=future-0.18.2-py3-none-any.whl size=491062 sha256=216f7a66377ebd9e9a59aad13b2f5a4cc716321e2c149ef99a257966597bb0af\n",
      "  Stored in directory: c:\\users\\miamoako\\appdata\\local\\pip\\cache\\wheels\\8e\\70\\28\\3d6ccd6e315f65f245da085482a2e1c7d14b90b30f239e2cf4\n",
      "Successfully built future\n",
      "Installing collected packages: future\n",
      "Successfully installed future-0.18.2\n"
     ]
    }
   ],
   "source": [
    "!pip install torch"
   ]
  },
  {
   "cell_type": "code",
   "execution_count": 4,
   "metadata": {},
   "outputs": [
    {
     "name": "stdout",
     "output_type": "stream",
     "text": [
      "Requirement already satisfied: spacy in c:\\users\\miamoako\\miniconda3\\envs\\run_shap\\lib\\site-packages (2.3.2)\n",
      "Requirement already satisfied: thinc==7.4.1 in c:\\users\\miamoako\\miniconda3\\envs\\run_shap\\lib\\site-packages (from spacy) (7.4.1)\n",
      "Requirement already satisfied: preshed<3.1.0,>=3.0.2 in c:\\users\\miamoako\\miniconda3\\envs\\run_shap\\lib\\site-packages (from spacy) (3.0.2)\n",
      "Requirement already satisfied: setuptools in c:\\users\\miamoako\\miniconda3\\envs\\run_shap\\lib\\site-packages (from spacy) (49.6.0.post20200814)\n",
      "Requirement already satisfied: cymem<2.1.0,>=2.0.2 in c:\\users\\miamoako\\appdata\\local\\packages\\pythonsoftwarefoundation.python.3.8_qbz5n2kfra8p0\\localcache\\local-packages\\python38\\site-packages (from spacy) (2.0.3)\n",
      "Requirement already satisfied: murmurhash<1.1.0,>=0.28.0 in c:\\users\\miamoako\\miniconda3\\envs\\run_shap\\lib\\site-packages (from spacy) (1.0.0)\n",
      "Requirement already satisfied: wasabi<1.1.0,>=0.4.0 in c:\\users\\miamoako\\appdata\\local\\packages\\pythonsoftwarefoundation.python.3.8_qbz5n2kfra8p0\\localcache\\local-packages\\python38\\site-packages (from spacy) (0.4.2)\n",
      "Requirement already satisfied: requests<3.0.0,>=2.13.0 in c:\\users\\miamoako\\appdata\\local\\packages\\pythonsoftwarefoundation.python.3.8_qbz5n2kfra8p0\\localcache\\local-packages\\python38\\site-packages (from spacy) (2.18.4)\n",
      "Requirement already satisfied: catalogue<1.1.0,>=0.0.7 in c:\\users\\miamoako\\miniconda3\\envs\\run_shap\\lib\\site-packages (from spacy) (1.0.0)\n",
      "Requirement already satisfied: numpy>=1.15.0 in c:\\users\\miamoako\\appdata\\local\\packages\\pythonsoftwarefoundation.python.3.8_qbz5n2kfra8p0\\localcache\\local-packages\\python38\\site-packages (from spacy) (1.16.6)\n",
      "Requirement already satisfied: plac<1.2.0,>=0.9.6 in c:\\users\\miamoako\\miniconda3\\envs\\run_shap\\lib\\site-packages (from spacy) (0.9.6)\n",
      "Requirement already satisfied: tqdm<5.0.0,>=4.38.0 in c:\\users\\miamoako\\appdata\\local\\packages\\pythonsoftwarefoundation.python.3.8_qbz5n2kfra8p0\\localcache\\local-packages\\python38\\site-packages (from spacy) (4.40.2)\n",
      "Requirement already satisfied: blis<0.5.0,>=0.4.0 in c:\\users\\miamoako\\appdata\\local\\packages\\pythonsoftwarefoundation.python.3.8_qbz5n2kfra8p0\\localcache\\local-packages\\python38\\site-packages (from spacy) (0.4.1)\n",
      "Collecting srsly<1.1.0,>=1.0.2\n",
      "  Using cached srsly-1.0.2-cp38-cp38-win_amd64.whl (181 kB)\n",
      "Requirement already satisfied: chardet<3.1.0,>=3.0.2 in c:\\users\\miamoako\\appdata\\local\\packages\\pythonsoftwarefoundation.python.3.8_qbz5n2kfra8p0\\localcache\\local-packages\\python38\\site-packages (from requests<3.0.0,>=2.13.0->spacy) (3.0.4)\n",
      "Requirement already satisfied: idna<2.7,>=2.5 in c:\\users\\miamoako\\appdata\\local\\packages\\pythonsoftwarefoundation.python.3.8_qbz5n2kfra8p0\\localcache\\local-packages\\python38\\site-packages (from requests<3.0.0,>=2.13.0->spacy) (2.6)\n",
      "Requirement already satisfied: certifi>=2017.4.17 in c:\\users\\miamoako\\appdata\\local\\packages\\pythonsoftwarefoundation.python.3.8_qbz5n2kfra8p0\\localcache\\local-packages\\python38\\site-packages (from requests<3.0.0,>=2.13.0->spacy) (2020.6.20)\n",
      "Requirement already satisfied: urllib3<1.23,>=1.21.1 in c:\\users\\miamoako\\appdata\\local\\packages\\pythonsoftwarefoundation.python.3.8_qbz5n2kfra8p0\\localcache\\local-packages\\python38\\site-packages (from requests<3.0.0,>=2.13.0->spacy) (1.22)\n",
      "Installing collected packages: srsly\n",
      "  Attempting uninstall: srsly\n"
     ]
    },
    {
     "name": "stderr",
     "output_type": "stream",
     "text": [
      "ERROR: After October 2020 you may experience errors when installing or updating packages. This is because pip will change the way that it resolves dependency conflicts.\n",
      "\n",
      "We recommend you use --use-feature=2020-resolver to test your packages with the new resolver before it becomes the default.\n",
      "\n",
      "label-studio 0.5.1 requires certifi==2019.11.28, but you'll have certifi 2020.6.20 which is incompatible.\n",
      "label-studio 0.5.1 requires Flask==1.1.1, but you'll have flask 1.1.2 which is incompatible.\n",
      "label-studio 0.5.1 requires idna==2.8, but you'll have idna 2.6 which is incompatible.\n",
      "label-studio 0.5.1 requires numpy==1.17.4, but you'll have numpy 1.16.6 which is incompatible.\n",
      "label-studio 0.5.1 requires requests==2.22.0, but you'll have requests 2.18.4 which is incompatible.\n",
      "label-studio 0.5.1 requires srsly==0.2.0, but you'll have srsly 1.0.2 which is incompatible.\n",
      "label-studio 0.5.1 requires urllib3==1.25.7, but you'll have urllib3 1.22 which is incompatible.\n"
     ]
    },
    {
     "name": "stdout",
     "output_type": "stream",
     "text": [
      "    Found existing installation: srsly 0.2.0\n",
      "    Uninstalling srsly-0.2.0:\n",
      "      Successfully uninstalled srsly-0.2.0\n",
      "Successfully installed srsly-1.0.2\n"
     ]
    }
   ],
   "source": [
    "!pip install spacy"
   ]
  },
  {
   "cell_type": "code",
   "execution_count": 5,
   "metadata": {},
   "outputs": [
    {
     "name": "stdout",
     "output_type": "stream",
     "text": [
      "Requirement already satisfied: seaborn in c:\\users\\miamoako\\miniconda3\\envs\\run_shap\\lib\\site-packages (0.11.0)\n",
      "Requirement already satisfied: matplotlib>=2.2 in c:\\users\\miamoako\\appdata\\local\\packages\\pythonsoftwarefoundation.python.3.8_qbz5n2kfra8p0\\localcache\\local-packages\\python38\\site-packages (from seaborn) (3.3.2)\n",
      "Requirement already satisfied: numpy>=1.15 in c:\\users\\miamoako\\appdata\\local\\packages\\pythonsoftwarefoundation.python.3.8_qbz5n2kfra8p0\\localcache\\local-packages\\python38\\site-packages (from seaborn) (1.16.6)\n",
      "Requirement already satisfied: scipy>=1.0 in c:\\users\\miamoako\\appdata\\local\\packages\\pythonsoftwarefoundation.python.3.8_qbz5n2kfra8p0\\localcache\\local-packages\\python38\\site-packages (from seaborn) (1.4.1)\n",
      "Requirement already satisfied: pandas>=0.23 in c:\\users\\miamoako\\appdata\\local\\packages\\pythonsoftwarefoundation.python.3.8_qbz5n2kfra8p0\\localcache\\local-packages\\python38\\site-packages (from seaborn) (1.0.3)\n",
      "Requirement already satisfied: kiwisolver>=1.0.1 in c:\\users\\miamoako\\appdata\\local\\packages\\pythonsoftwarefoundation.python.3.8_qbz5n2kfra8p0\\localcache\\local-packages\\python38\\site-packages (from matplotlib>=2.2->seaborn) (1.2.0)\n",
      "Requirement already satisfied: python-dateutil>=2.1 in c:\\users\\miamoako\\appdata\\local\\packages\\pythonsoftwarefoundation.python.3.8_qbz5n2kfra8p0\\localcache\\local-packages\\python38\\site-packages (from matplotlib>=2.2->seaborn) (2.8.1)\n",
      "Requirement already satisfied: pyparsing!=2.0.4,!=2.1.2,!=2.1.6,>=2.0.3 in c:\\users\\miamoako\\appdata\\local\\packages\\pythonsoftwarefoundation.python.3.8_qbz5n2kfra8p0\\localcache\\local-packages\\python38\\site-packages (from matplotlib>=2.2->seaborn) (2.4.7)\n",
      "Requirement already satisfied: pillow>=6.2.0 in c:\\users\\miamoako\\appdata\\local\\packages\\pythonsoftwarefoundation.python.3.8_qbz5n2kfra8p0\\localcache\\local-packages\\python38\\site-packages (from matplotlib>=2.2->seaborn) (6.2.1)\n",
      "Requirement already satisfied: cycler>=0.10 in c:\\users\\miamoako\\appdata\\local\\packages\\pythonsoftwarefoundation.python.3.8_qbz5n2kfra8p0\\localcache\\local-packages\\python38\\site-packages (from matplotlib>=2.2->seaborn) (0.10.0)\n",
      "Requirement already satisfied: certifi>=2020.06.20 in c:\\users\\miamoako\\appdata\\local\\packages\\pythonsoftwarefoundation.python.3.8_qbz5n2kfra8p0\\localcache\\local-packages\\python38\\site-packages (from matplotlib>=2.2->seaborn) (2020.6.20)\n",
      "Requirement already satisfied: pytz>=2017.2 in c:\\users\\miamoako\\appdata\\local\\packages\\pythonsoftwarefoundation.python.3.8_qbz5n2kfra8p0\\localcache\\local-packages\\python38\\site-packages (from pandas>=0.23->seaborn) (2019.3)\n",
      "Requirement already satisfied: six>=1.5 in c:\\users\\miamoako\\appdata\\local\\packages\\pythonsoftwarefoundation.python.3.8_qbz5n2kfra8p0\\localcache\\local-packages\\python38\\site-packages (from python-dateutil>=2.1->matplotlib>=2.2->seaborn) (1.12.0)\n"
     ]
    }
   ],
   "source": [
    "!pip install seaborn"
   ]
  },
  {
   "cell_type": "code",
   "execution_count": 6,
   "metadata": {},
   "outputs": [
    {
     "name": "stdout",
     "output_type": "stream",
     "text": [
      "Requirement already satisfied: nlp in c:\\users\\miamoako\\miniconda3\\envs\\run_shap\\lib\\site-packages (0.4.0)\n",
      "Requirement already satisfied: filelock in c:\\users\\miamoako\\miniconda3\\envs\\run_shap\\lib\\site-packages (from nlp) (3.0.12)\n",
      "Requirement already satisfied: pandas in c:\\users\\miamoako\\appdata\\local\\packages\\pythonsoftwarefoundation.python.3.8_qbz5n2kfra8p0\\localcache\\local-packages\\python38\\site-packages (from nlp) (1.0.3)\n",
      "Requirement already satisfied: dill in c:\\users\\miamoako\\miniconda3\\envs\\run_shap\\lib\\site-packages (from nlp) (0.3.3)\n",
      "Requirement already satisfied: pyarrow>=0.16.0 in c:\\users\\miamoako\\miniconda3\\envs\\run_shap\\lib\\site-packages (from nlp) (2.0.0)\n",
      "Collecting requests>=2.19.0\n",
      "  Using cached requests-2.24.0-py2.py3-none-any.whl (61 kB)\n",
      "Requirement already satisfied: xxhash in c:\\users\\miamoako\\miniconda3\\envs\\run_shap\\lib\\site-packages (from nlp) (2.0.0)\n",
      "Requirement already satisfied: numpy in c:\\users\\miamoako\\appdata\\local\\packages\\pythonsoftwarefoundation.python.3.8_qbz5n2kfra8p0\\localcache\\local-packages\\python38\\site-packages (from nlp) (1.16.6)\n",
      "Requirement already satisfied: tqdm>=4.27 in c:\\users\\miamoako\\appdata\\local\\packages\\pythonsoftwarefoundation.python.3.8_qbz5n2kfra8p0\\localcache\\local-packages\\python38\\site-packages (from nlp) (4.40.2)\n",
      "Requirement already satisfied: pytz>=2017.2 in c:\\users\\miamoako\\appdata\\local\\packages\\pythonsoftwarefoundation.python.3.8_qbz5n2kfra8p0\\localcache\\local-packages\\python38\\site-packages (from pandas->nlp) (2019.3)\n",
      "Requirement already satisfied: python-dateutil>=2.6.1 in c:\\users\\miamoako\\appdata\\local\\packages\\pythonsoftwarefoundation.python.3.8_qbz5n2kfra8p0\\localcache\\local-packages\\python38\\site-packages (from pandas->nlp) (2.8.1)\n",
      "Requirement already satisfied: urllib3!=1.25.0,!=1.25.1,<1.26,>=1.21.1 in c:\\users\\miamoako\\appdata\\local\\packages\\pythonsoftwarefoundation.python.3.8_qbz5n2kfra8p0\\localcache\\local-packages\\python38\\site-packages (from requests>=2.19.0->nlp) (1.22)\n",
      "Requirement already satisfied: certifi>=2017.4.17 in c:\\users\\miamoako\\appdata\\local\\packages\\pythonsoftwarefoundation.python.3.8_qbz5n2kfra8p0\\localcache\\local-packages\\python38\\site-packages (from requests>=2.19.0->nlp) (2020.6.20)\n",
      "Requirement already satisfied: idna<3,>=2.5 in c:\\users\\miamoako\\appdata\\local\\packages\\pythonsoftwarefoundation.python.3.8_qbz5n2kfra8p0\\localcache\\local-packages\\python38\\site-packages (from requests>=2.19.0->nlp) (2.6)\n",
      "Requirement already satisfied: chardet<4,>=3.0.2 in c:\\users\\miamoako\\appdata\\local\\packages\\pythonsoftwarefoundation.python.3.8_qbz5n2kfra8p0\\localcache\\local-packages\\python38\\site-packages (from requests>=2.19.0->nlp) (3.0.4)\n",
      "Requirement already satisfied: six>=1.5 in c:\\users\\miamoako\\appdata\\local\\packages\\pythonsoftwarefoundation.python.3.8_qbz5n2kfra8p0\\localcache\\local-packages\\python38\\site-packages (from python-dateutil>=2.6.1->pandas->nlp) (1.12.0)\n",
      "Installing collected packages: requests\n",
      "  Attempting uninstall: requests\n",
      "    Found existing installation: requests 2.18.4\n",
      "    Uninstalling requests-2.18.4:\n",
      "      Successfully uninstalled requests-2.18.4\n",
      "Successfully installed requests-2.24.0\n"
     ]
    },
    {
     "name": "stderr",
     "output_type": "stream",
     "text": [
      "ERROR: After October 2020 you may experience errors when installing or updating packages. This is because pip will change the way that it resolves dependency conflicts.\n",
      "\n",
      "We recommend you use --use-feature=2020-resolver to test your packages with the new resolver before it becomes the default.\n",
      "\n",
      "mxnet 1.6.0 requires requests<2.19.0,>=2.18.4, but you'll have requests 2.24.0 which is incompatible.\n",
      "label-studio 0.5.1 requires certifi==2019.11.28, but you'll have certifi 2020.6.20 which is incompatible.\n",
      "label-studio 0.5.1 requires Flask==1.1.1, but you'll have flask 1.1.2 which is incompatible.\n",
      "label-studio 0.5.1 requires idna==2.8, but you'll have idna 2.6 which is incompatible.\n",
      "label-studio 0.5.1 requires numpy==1.17.4, but you'll have numpy 1.16.6 which is incompatible.\n",
      "label-studio 0.5.1 requires requests==2.22.0, but you'll have requests 2.24.0 which is incompatible.\n",
      "label-studio 0.5.1 requires srsly==0.2.0, but you'll have srsly 1.0.2 which is incompatible.\n",
      "label-studio 0.5.1 requires urllib3==1.25.7, but you'll have urllib3 1.22 which is incompatible.\n",
      "label-studio-converter 0.0.12 requires requests==2.22.0, but you'll have requests 2.24.0 which is incompatible.\n"
     ]
    }
   ],
   "source": [
    "!pip install nlp"
   ]
  },
  {
   "cell_type": "code",
   "execution_count": 7,
   "metadata": {},
   "outputs": [
    {
     "name": "stdout",
     "output_type": "stream",
     "text": [
      "Requirement already satisfied: transformers in c:\\users\\miamoako\\miniconda3\\envs\\run_shap\\lib\\site-packages (3.4.0)\n",
      "Requirement already satisfied: regex!=2019.12.17 in c:\\users\\miamoako\\miniconda3\\envs\\run_shap\\lib\\site-packages (from transformers) (2020.10.28)\n",
      "Requirement already satisfied: numpy in c:\\users\\miamoako\\appdata\\local\\packages\\pythonsoftwarefoundation.python.3.8_qbz5n2kfra8p0\\localcache\\local-packages\\python38\\site-packages (from transformers) (1.16.6)\n",
      "Requirement already satisfied: tqdm>=4.27 in c:\\users\\miamoako\\appdata\\local\\packages\\pythonsoftwarefoundation.python.3.8_qbz5n2kfra8p0\\localcache\\local-packages\\python38\\site-packages (from transformers) (4.40.2)\n",
      "Requirement already satisfied: sentencepiece!=0.1.92 in c:\\users\\miamoako\\miniconda3\\envs\\run_shap\\lib\\site-packages (from transformers) (0.1.94)\n",
      "Requirement already satisfied: tokenizers==0.9.2 in c:\\users\\miamoako\\miniconda3\\envs\\run_shap\\lib\\site-packages (from transformers) (0.9.2)\n",
      "Requirement already satisfied: filelock in c:\\users\\miamoako\\miniconda3\\envs\\run_shap\\lib\\site-packages (from transformers) (3.0.12)\n",
      "Requirement already satisfied: protobuf in c:\\users\\miamoako\\miniconda3\\envs\\run_shap\\lib\\site-packages (from transformers) (3.13.0)\n",
      "Requirement already satisfied: sacremoses in c:\\users\\miamoako\\miniconda3\\envs\\run_shap\\lib\\site-packages (from transformers) (0.0.43)\n",
      "Requirement already satisfied: requests in c:\\users\\miamoako\\miniconda3\\envs\\run_shap\\lib\\site-packages (from transformers) (2.24.0)\n",
      "Requirement already satisfied: packaging in c:\\users\\miamoako\\miniconda3\\envs\\run_shap\\lib\\site-packages (from transformers) (20.4)\n",
      "Requirement already satisfied: six>=1.9 in c:\\users\\miamoako\\appdata\\local\\packages\\pythonsoftwarefoundation.python.3.8_qbz5n2kfra8p0\\localcache\\local-packages\\python38\\site-packages (from protobuf->transformers) (1.12.0)\n",
      "Requirement already satisfied: setuptools in c:\\users\\miamoako\\miniconda3\\envs\\run_shap\\lib\\site-packages (from protobuf->transformers) (49.6.0.post20200814)\n",
      "Requirement already satisfied: joblib in c:\\users\\miamoako\\appdata\\local\\packages\\pythonsoftwarefoundation.python.3.8_qbz5n2kfra8p0\\localcache\\local-packages\\python38\\site-packages (from sacremoses->transformers) (0.14.1)\n",
      "Requirement already satisfied: click in c:\\users\\miamoako\\appdata\\local\\packages\\pythonsoftwarefoundation.python.3.8_qbz5n2kfra8p0\\localcache\\local-packages\\python38\\site-packages (from sacremoses->transformers) (7.0)\n",
      "Requirement already satisfied: certifi>=2017.4.17 in c:\\users\\miamoako\\appdata\\local\\packages\\pythonsoftwarefoundation.python.3.8_qbz5n2kfra8p0\\localcache\\local-packages\\python38\\site-packages (from requests->transformers) (2020.6.20)\n",
      "Requirement already satisfied: chardet<4,>=3.0.2 in c:\\users\\miamoako\\appdata\\local\\packages\\pythonsoftwarefoundation.python.3.8_qbz5n2kfra8p0\\localcache\\local-packages\\python38\\site-packages (from requests->transformers) (3.0.4)\n",
      "Requirement already satisfied: idna<3,>=2.5 in c:\\users\\miamoako\\appdata\\local\\packages\\pythonsoftwarefoundation.python.3.8_qbz5n2kfra8p0\\localcache\\local-packages\\python38\\site-packages (from requests->transformers) (2.6)\n",
      "Requirement already satisfied: urllib3!=1.25.0,!=1.25.1,<1.26,>=1.21.1 in c:\\users\\miamoako\\appdata\\local\\packages\\pythonsoftwarefoundation.python.3.8_qbz5n2kfra8p0\\localcache\\local-packages\\python38\\site-packages (from requests->transformers) (1.22)\n",
      "Requirement already satisfied: pyparsing>=2.0.2 in c:\\users\\miamoako\\appdata\\local\\packages\\pythonsoftwarefoundation.python.3.8_qbz5n2kfra8p0\\localcache\\local-packages\\python38\\site-packages (from packaging->transformers) (2.4.7)\n"
     ]
    }
   ],
   "source": [
    "!pip install transformers"
   ]
  },
  {
   "cell_type": "code",
   "execution_count": null,
   "metadata": {},
   "outputs": [],
   "source": [
    "import os\n",
    "import pandas as pd\n",
    "import copy\n",
    "import numpy as np\n",
    "import matplotlib.pyplot as plt\n",
    "%matplotlib inline\n",
    "import shap\n",
    "import scipy as sp\n",
    "#import torch\n",
    "pd.set_option('display.max_columns', None)\n",
    "pd.set_option('max_colwidth', None)\n",
    "pd.set_option(\"max_rows\", None)\n",
    "#from datasets import load_dataset\n",
    "#import spacy\n",
    "#import seaborn as sns\n",
    "import time\n",
    "#from transformers import BertTokenizerFast\n",
    "#import nlp"
   ]
  },
  {
   "cell_type": "markdown",
   "metadata": {},
   "source": [
    "#### Load model and tokenizer\n"
   ]
  },
  {
   "cell_type": "code",
   "execution_count": 2,
   "metadata": {},
   "outputs": [],
   "source": [
    "from pytorch_transformers import (WEIGHTS_NAME, BertConfig,\n",
    "                                  BertForSequenceClassification)\n",
    "\n",
    "from pytorch_transformers import AdamW, WarmupLinearSchedule "
   ]
  },
  {
   "cell_type": "code",
   "execution_count": 3,
   "metadata": {},
   "outputs": [],
   "source": [
    "MODEL_CLASSES = {\n",
    "    'bert': (BertConfig, BertForSequenceClassification, BertTokenizerFast)\n",
    "}\n",
    "config_class, model_class, tokenizer_class = MODEL_CLASSES['bert']"
   ]
  },
  {
   "cell_type": "code",
   "execution_count": 4,
   "metadata": {},
   "outputs": [],
   "source": [
    "def get_labels_from_label_dict(lbl_dict_path):\n",
    "        line_id = 0\n",
    "        labels = []\n",
    "        for line in open(lbl_dict_path, encoding='utf8'):\n",
    "            fds = line.strip().split(' ')\n",
    "            assert len(fds) == 2, 'incorrect format {}'.format(line)\n",
    "            lbl = fds[0]\n",
    "            fid = int(fds[1])\n",
    "            assert fid == line_id, 'id not correct {} -- {}'.format(fid, line_id)\n",
    "            labels.append(lbl)\n",
    "            line_id += 1\n",
    "        return labels"
   ]
  },
  {
   "cell_type": "code",
   "execution_count": 5,
   "metadata": {},
   "outputs": [],
   "source": [
    "args = {\n",
    "'data_dir':'C:\\\\Users\\\\ryserrao\\\\Microsoft_work\\\\AIPLATFORM_SHAP\\\\PPT_Text_to_Icon_Data\\\\Turing_Text2Icon_Code_and_Model\\\\outputs',\n",
    "'model_name_or_path':'ft_set12_256x2_pcln2sc_nowiki.py_e10_wu02_bs8_ts08_sc12_lr7e-5',\n",
    "'data_path':'test_mturk.txt',\n",
    "'task_name':'text2content',\n",
    "'do_lower_case':True,\n",
    "'lbl_dict_path' : 'train.txt.lbl.dict.txt',\n",
    "'max_seq_len':32\n",
    "}\n",
    "labels = get_labels_from_label_dict(os.path.join(args['data_dir'], args['lbl_dict_path']))\n",
    "num_labels = len(labels)"
   ]
  },
  {
   "cell_type": "code",
   "execution_count": 6,
   "metadata": {},
   "outputs": [
    {
     "name": "stdout",
     "output_type": "stream",
     "text": [
      "{\n",
      "  \"attention_probs_dropout_prob\": 0.1,\n",
      "  \"finetuning_task\": \"text2content\",\n",
      "  \"hidden_act\": \"gelu\",\n",
      "  \"hidden_dropout_prob\": 0.1,\n",
      "  \"hidden_size\": 256,\n",
      "  \"initializer_range\": 0.02,\n",
      "  \"intermediate_size\": 1024,\n",
      "  \"layer_norm_eps\": 1e-12,\n",
      "  \"max_position_embeddings\": 512,\n",
      "  \"num_attention_heads\": 8,\n",
      "  \"num_hidden_layers\": 2,\n",
      "  \"num_labels\": 865,\n",
      "  \"output_attentions\": false,\n",
      "  \"output_hidden_states\": false,\n",
      "  \"pooler\": \"cls\",\n",
      "  \"torchscript\": false,\n",
      "  \"type_vocab_size\": 2,\n",
      "  \"vocab_size\": 30522\n",
      "}\n",
      "\n"
     ]
    }
   ],
   "source": [
    "config = config_class.from_pretrained(os.path.join(args['data_dir'],args['model_name_or_path']), num_labels=num_labels, finetuning_task=args['task_name'])\n",
    "tokenizer = tokenizer_class.from_pretrained(os.path.join(args['data_dir'],args['model_name_or_path']), do_lower_case=args['do_lower_case'])\n",
    "model = model_class.from_pretrained(os.path.join(args['data_dir'],args['model_name_or_path']),config=config).cuda()"
   ]
  },
  {
   "cell_type": "code",
   "execution_count": 7,
   "metadata": {},
   "outputs": [],
   "source": [
    "#create mapping dict from label to index and vice versa\n",
    "label2id = {}\n",
    "id2label = {}\n",
    "for i,label in enumerate(labels):\n",
    "    label2id[label]=i\n",
    "    id2label[i]=label"
   ]
  },
  {
   "cell_type": "markdown",
   "metadata": {},
   "source": [
    "#### Load reddit data"
   ]
  },
  {
   "cell_type": "code",
   "execution_count": 8,
   "metadata": {},
   "outputs": [
    {
     "name": "stderr",
     "output_type": "stream",
     "text": [
      "WARNING - Using custom data configuration default\n"
     ]
    }
   ],
   "source": [
    "data = nlp.load_dataset('reddit',split='train')"
   ]
  },
  {
   "cell_type": "code",
   "execution_count": 9,
   "metadata": {},
   "outputs": [
    {
     "data": {
      "text/plain": [
       "Dataset(features: {'author': Value(dtype='string', id=None), 'body': Value(dtype='string', id=None), 'normalizedBody': Value(dtype='string', id=None), 'subreddit': Value(dtype='string', id=None), 'subreddit_id': Value(dtype='string', id=None), 'id': Value(dtype='string', id=None), 'content': Value(dtype='string', id=None), 'summary': Value(dtype='string', id=None)}, num_rows: 3848330)"
      ]
     },
     "execution_count": 9,
     "metadata": {},
     "output_type": "execute_result"
    }
   ],
   "source": [
    "data"
   ]
  },
  {
   "cell_type": "markdown",
   "metadata": {},
   "source": [
    "#### Unique subreddits"
   ]
  },
  {
   "cell_type": "code",
   "execution_count": 10,
   "metadata": {},
   "outputs": [],
   "source": [
    "subreddit = data['subreddit']"
   ]
  },
  {
   "cell_type": "code",
   "execution_count": 11,
   "metadata": {
    "tags": []
   },
   "outputs": [
    {
     "name": "stdout",
     "output_type": "stream",
     "text": [
      "Total unique subreddits: 29651\n"
     ]
    }
   ],
   "source": [
    "print(f'Total unique subreddits: {len(set(subreddit))}')\n"
   ]
  },
  {
   "cell_type": "code",
   "execution_count": 12,
   "metadata": {},
   "outputs": [
    {
     "name": "stdout",
     "output_type": "stream",
     "text": [
      "['', 'reditrbugs', 'LegalTeens', 'AlmostHuman', 'forsale', 'beinghuman', 'falloutequestria', 'American_Kenpo', 'Halo_5', 'mvsw', 'baseballcards', 'iRacing', 'mod360', 'SkypePals', 'see', 'FellowKids', 'miningforpotatoes', 'fsharp', 'evo3d', 'girlscouts', 'TrueSkate', 'hub', 'darkcom', 'gonewild', 'OnlineAffairs', 'OperationCorkscrew', 'RPGStuck_C4', 'aeroponics', 'bikebuilders', 'TrollingAnimals', 'BizarreMoments', 'sheltered', 'DearPeople', 'SurviveNThrive', 'taricmains', 'RepublicOfReddit', 'LaunchCodeCS50x', 'PlanningAddicts', 'trueskyrim', 'Bioshock', 'EndlessLegend', 'Fencing', 'Mavericks', 'Hawken', 'CGPGrey', 'titlegore', 'ChilENTs', 'Jaguars', 'bookexchange', 'KindleFreebies', 'animalid', 'SelenaGomez', 'CrucibleSherpa', 'Agoraphobia', 'PantheonMMO', 'ArkNewFrontiers', 'brainanswers', 'VancouverIsland', 'altcountry', 'circlejerkTBOI', 'Tsunderes', 'ThanksObama', 'sludge', 'Shropshire', 'ukfgc', 'Anarcacademy', 'GoodShibe', 'exmormongiftexchange', 'ucf', 'POTS', 'oklahomacity', 'exchangeserver', 'newspapercomics', 'rockhounds', 'mylittlehomestuck', 'kittens', 'Cannibalism', 'ota', 'ModerateGunControl', 'redditlawreview', 'HoustonSocials', 'swtor_trade', 'DCJobs', 'IslamicFinance', 'ethnoecology', 'NYCC', 'mlas1gonewildrebooted', 'ColdReading', 'MillionDollarIdeas', 'wifi', 'oxeyegames', 'Pirate101', 'paramotor', 'Steroidsourcetalk', 'comeonandslam', 'gaydare', 'PlanetsideBattles', 'TCK', 'SmitePS4', 'vinyltoys', 'dominicans', 'mancave', 'xubuntu', 'Haters', 'sikhism', 'ArgenBeauty', 'sonic', 'IBEW', 'foxholegame', 'Bestof2011', 'SF4', 'triplemetacirclejerk', 'worldnerfwar', 'AnthroClop', 'steamfriends', 'RunningCirclejerk', 'FACEITcom', 'TheHolyTree', 'fashionadvice', 'sCamGirls', 'galaxynote4', 'lextube', 'traderjoes', 'ketonz', 't:3000', 'Tallships', 'mfdoom', 'Grimdawn', 'SugarGlider', 'CIRCLEJERKMILITIA', 'ff5fjf', 'Inventit', 'transgenderteens', 'steroidscirclejerk', 'NyxFears', 'Ask_Politics', 'Cordial', 'Stockpick', 'SyndicationStation', 'openoffice', 'PS4Share', 'musicproduction', 'DafPnk', 'JustGotReal', 'claymore', 'weareportadelaide', 'battle4', 'DVC', 'DarwinAustralia', 'gameai', 'Commodore', 'ThemsFightinHerds', 'randonneuring', 'CaptiveWildlife', 'Mecha', 'AFROTC', 'cahideas', 'COTreeGifting', 'MTGO', 'custommagic', 'merval', 'MentallyIllButGenius', 'pregnant', 'PoGoDFW', 'SurpriseAZ', 'AoNoExorcist', 'howcome', 'AskScriptSwap', 'fuxtaposition', 'ps3hacks', 'twice', 'onetruegod', 'PokemonGoBlue', 'Aveo', 'NovumPersarum', 'RideQLD', 'ModdingMC', 'AskSF', 'TheCube', 'theroundrobin', 'Oscars', 'Objectivism', 'BurnsvilleMN', 'SFGiants', 'Heirs_of_the_Sun', 'InternetAndLawRPI', 'mixingmastering', 'dragonvale', 'IglooTime', 'DownwithAFWcomics', 'ROTMG_ActsOfKindness', 'minibikes', 'tieexchange', 'Innovation', 'SVExchange', 'Emerald_Council', 'Tonga', 'dashpay', 'AdvaitaVedanta', 'basslessons', 'PebbleTime', 'StateOfDecay', 'paranormalsource', 'glassanimals', 'friskydingo', '4Runner', 'chartercable', 'whowouldwin', 'BIFL_jerk', 'hardwareowners', 'Pescetarian', 'goldenredditpenpals', 'Compassients', 'EvilGeniusesCOD', 'GradSchool', 'subnormality', 'tibet', 'ortodoxie', 'Complain', 'AllHail', 'notevenasubreddit', 'giftcardexchange', 'SPZRPG', 'robarnieanddawn', 'Maine', 'GalCiv', 'Goxcoin', 'CBRModelWorldCongress', 'FeminismInGaming', 'Ichthus95', 'NoMansSkyCircleJerk', 'truebodybuilding', 'GagsFromTheGarage', 'Jeopardy', 'TheMassive', 'LittleAtHeart', 'RBCI', 'twilight', 'PortableHolePhysics', 'Divigations', 'redpillbooks', 'TheRankTeam', 'polevaulting', 'Piratebox', 'slackware', 'coinyecoin', 'DarkerThanBlack', 'CuttingShapes', 'TREZOR', 'Clysma', 'curlsinthesquatrack', 'vivaldibrowser', 'FoodstuffsAllAround', 'altTRP', 'Daww', 'knives', 'TeenParenting', 'reddittf2league', 'Inkscape', 'SirFlups', 'Colgate', 'breastfeeding', 'astrology', 'mtgporn', 'warface', 'BrynCity', 'filesharing', 'SKGAMING', 'TheDarkTower', 'HalloweenProps', 'Explainlikeimscared', 'PeerCollegeAdvisor', 'starbucks', 'darknet', 'IndiaInvestments', 'MyrsLoLTips', 'SaddlebackLeatherFans', 'farcry3', 'GreenMountain', 'BF_Shenanigans', 'EnolaGay', 'rmit', 'amiiboswapca', 'AdvancedAbleton', 'longislandjobs', 'Floridar4r', 'ThisGameOrThatGame', 'mashup', 'BBQ', 'osheaga', 'venturecommunism', 'MysteriousUniverse', 'FireteamOne', 'HecarimMains', 'ParentalEntitlement', 'FishingPlanet', 'gamingunderground', 'Blogging', 'BeautyBoxes', 'LosAngelesMusic', 'XboxRecordThat', 'ClimbingPhotography', 'dutchseduction', 'CreationKit', 'linux_programming', 'rant_is_pissed', 'TeamIco', 'WilliamChau', 'bisexuality', 'canterbury', 'culturalstudies', 'ConnectedCareers2', 'newsreels', 'CivBoundary', 'Sprint', 'HTML', 'mydnmreviewacct', 'chicagor4r', 'Rainbow6', 'icewinddale', 'PupPlay', 'ITNcast', 'CasualFilm', 'Sambond', 'donniedarko', 'BatesMotel', 'babyloss', 'AcademicPhilosophy', 'NaziHunting', 'wendywright', 'snowboardcj', 'Lizards', 'deadwood', 'ASLinterpreters', 'dehydrating', 'Eyebleach', 'museumdiscuss', 'Madden', 'AskACop', 'period', 'AboriginalCanadians', 'Occupy', 'zeldaconspiracies', 'ImNotARobot', 'ClassicalMemes', 'Possibilianism', 'airz23', 'HistoryAnecdotes', 'Neverhood', 'pokemongoSweden', 'smartwatch', 'nynorsk', 'stocktraders', 'FathersRights', 'vectorexchange', 'witcher3mods', 'victorious', 'PostPoMo', 'DkS2Builds', 'DisneyMusic', 'CivcraftExchange', 'AskMarketing', 'legotechnic', 'Alternativerock', 'behaviortherapy', 'civarran', 'pittsports', 'narcissism', 'RageOps', 'funrun', 'spnati', 'CLICKPOCALYPSE', 'ModerationTheory', 'Soap', 'WordPressThemes', 'artistspeakeasy', 'techsupportpoetry', 'highschoolfootball', 'linux_devices', 'Jakarta', 'chromaticsouls', 'TravelTales', 'AlisonRosen', 'Sudan', 'iran', 'Op_Jade_Helm_15', 'Barber', 'Polaroid', 'Food_Pantry', 'MGSVIDeathStranding', 'Facer', 'PixelDungeon', 'ExplainLikeImCalvin', 'Cosmos', 'talesfromtheautoshop', 'illinois', 'CoverTheNight', 'StencilTemplates', 'Electricity', 'sascorpionsfc', 'veganfitness', 'FrankOcean', 'PictureGame', 'DextroEnlightenment', 'howdoipronouncethis', 'Dance', 'SupernaturalTV', 'techsnap', 'yester', 'SubredditSimSimulator', 'Hermit', 'chibike', 'regret', 'goodshitpasta', 'note3', 'ateosmexicanos', 'proDFS', 'treecomics', 'riseagainst', 'FiveNightsatTheories', 'Glitchhop', 'battlepirates', 'stylus', 'sc2PDX', 'anunturi', 'Wunderkammer', 'loghomes', 'buggeroff', 'heterodoxeconomics', 'twitchplaysdark', 'JUSTNOMIL', 'gigantic', 'quill18', 'newgames', 'phillycycling', 'Femaleorgasmdenial', 'twitchcreative', 'gayforoberyn', 'ahsphoenix', 'GroupOfNudeGirls', 'gamecollecting', 'skinsTV', 'RedditROTrading', 'confusing_perspective', 'botting', 'Thenewsroom', 'SilkRoadReloaded', 'attorneys', 'Bluegrass', 'phdstudents', 'foreignfamilies', 'ArkansasAmiibo', 'Rekoil', 'iOSthemes', 'showbox', 'uofdayton', 'contests', 'CMVProgramming', 'teekaytank', 'CasualPokemonBattles', 'ruiyang', 'Alaskar4r', 'thingstomakeyoudrool', 'alohapos', 'Mafia3', 'basset', 'hwatch', 'PlusSizeWedding', 'IsraelSubredditWatch', 'natalieportman', 'PlantBasedDiet', 'SkarnerMains', 'KHGuide', 'RedditCityProject', 'RelationshipsIndia', 'ElectricUnicycle', 'redmegle', 'DickbuttBillboard', 'stevenwilson', 'lewishamilton', 'xtactics', 'mazdaspeed3', 'AAAAAAAUUUUUUUUUUUU', 'kitties', 'Curling', 'enthouse', 'IWantOutJobs', 'gambling', 'ArmadaFC', 'TACPodcast', 'PPDepression', 'coindev', 'PaperMarket', 'osr', 'HackBloc', 'SiFrhnxoy_ebalOfs4or', 'clocks', 'virtualutopia', 'CSUFoCo', 'NoPoo', 'wittertainment', 'Nirvana', 'WeekendHoggit', 'GW2EU', 'Dalhousie', 'falloutshelter', 'kungfucinema', 'VarusMains', 'Overwatch_Competitive', 'fcporto', 'RedSunAlliance', 'TranslationStudies', 'StupidDonovanPS', 'lalna', 'GokukokuNoBrynhildr', 'happn', 'TrueTelevision', 'spongebob', 'HorrorGames', 'KetoBabies', 'Ulyssesbucketlist', 'ffsgarry', '6000jokes', 'Wormbro', 'vail', 'vz58', 'playwithme', 'SummonSign', 'awakened', 'SRSMythos', 'belgium', 'elationships', 'Gamer', 'indierock', 'rugbyunion', 'Com320_ASU_Spring2014', 'czscorpion', 'shittyfoodporn', 'AskMeAnything', 'Fitocracy', 'RealRedditFC', 'volstate', 'magicmuggle', 'DobermanPinscher', 'GovCraft', 'FeelingDown', 'RandomActsofeBooks', 'whatwouldyoudoif', 'Footjob', 'entp', 'SmartCar', 'fresnostate', 'Sherlock', 'IndianaFishing', 'fairtax', 'mindmapping', 'AeroPress', 'pranks', 'badcopnodonut', 'CoCRedditPi', 'TreesGameNight', 'AIK', 'ImmortalKingsMC', 'HipHopInstrumentals', 'CoffeeWithJesus', 'ASoIaFShowerthoughts', 'emptyewe', 'keycapdesigners', 'albumreviews', 'TinySubredditoftheDay', 'dayzbanditforce', 'engraving', 'ScamWatch', 'ACC', 'tradingcardcommunity', 'CFA', 'programmer', 'ZileanMains', 'BioethicsMOOC', 'Longueuil', 'DreamerCommunity', 'DenverGamers', 'PokemongoSanDiego', 'learnprogramming', 'Vape', 'Borderporn', 'peercoin', 'lordoftherings', 'Animedubs', 'testimonials', 'ApprenticeA', 'LibraryScience', 'SCHLAND', 'CityofSteam', 'SecretSix', 'Clash_Royal', 'RandomActsOfPlex', 'FirearmsGore', 'Reddit_band', 'steamfriend', 'archebards', 'GriefSupport', 'biotechnology', 'artifexian', 'trollingforababy', 'TalesFromTheTheatre', 'Harocs', 'Leipzig', 'WorldOfWarships', 'OffGridLiving', 'falcons', 'Jeepups', 'polityka', 'uglyduckling', 'FNWservers', 'AskKrepo', 'ellenpage', 'Gamescom', 'KitchenFuckUps', 'G59', 'EnemyTerritory', 'McDonopoly', 'qlikview', 'NMMNG', 'theravada', 'DayZBulletin', 'NextGenerationGaming', 'forensics', 'Petroleum', 'uicwhatshot', 'PrintrBot', 'Abu_Dhabi', 'danmark', 'McLounge', 'CivHaven', 'SocialHangout', 'fightthedragon', 'BeNiceToPeople', 'TINTIWS', 'listnerds', 'DodgeRam', 'ChimpireOfftopic', 'transformers', 'Krivoshein', 'brink', 'futanari', 'TexasVapers', 'verizon', 'OnePieceTC', 'accountablecooking', 'dayzepoch', 'alltheleft', 'USPS', 'australianshepherds', 'adobemuse', 'NoCapMPQ', 'uwotm8', 'DeafSkype', 'rejectionhelp', 'dissociatives', 'stritch', 'nintype', 'MiddleEasternMusic', 'fbla', 'cod5waw', 'reddittotp', 'Nike', 'riskofrain', '2016Protest', 'nba', 'FishingOntario', 'AmonTheories', 'DreamInterpretation', 'VenturedCapital', 'parent', 'AskHealth', 'NovemberBumps2016', 'JeepRenegade', 'starwarstrader', 'MurderousMilkmen', 'UniversityOfToledo', 'SettlersofCatan', 'lookingforgroup', 'CivilizationCraft', 'deserttrip', 'churchofhowie', 'KBMOD', 'Relationshipjerk', 'thewalkingdead', 'TEFL', 'PLCB', 'bleach', 'retailhell', 'gloveandboots', 'OpenDogTraining', 'AdviceAtheists', 'CircleAPodcast', 'HotPeppers', 'FloridaGators', 'Tremorgames', 'RedditBoom', 'klr650', 'Fitblog', 'DEjobs', 'vignettes', 'illusionporn', 'ultrawidemasterrace', 'xtrmst', 'exSistersinZion', 'xxprogresspics', 'resonant_rise', 'dui', 'ConnecticutR4R', 'EUwow', 'safc', 'LabyrinthLord', 'vfx', 'pornvids', 'LessIsBest', 'wegmans', 'Tactical', 'run3h4x', 'that_Poppy_Uncensored', 'Elements', 'Miramichi', '911dispatchers', 'Dogeme', 'CaminoDeSantiago', 'Gaytheists', 'GirlswithNeonHair', 'realisation', 'starfox', 'freebietalk', 'AlliesWelcome', 'InsanityFit', 'OpenDesign', 'entreads', 'HeroesOfTheDorm', 'Antwerpen', 'L4TM', 'TheLastAirbender', 'MLPTCG', 'PracticalSkills', 'edmontonents', 'cheermeup', 'Waifu', 'bookhaul', 'castit', 'Domains', 'FuelRats', 'oprit', 'myrtbtracks', 'presshearttocontinue', 'gingerguys', 'VirtualBoy', 'bravelydefault', 'Wizard101', 'BabySignLanguage', 'incubus', 'TechnoProduction', 'UnitedWeStand', 'FutureFight_Unions', 'lansing', 'DeathParade', 'audiodrama', 'BritishSuccess', 'BTFC', 'BlocParty', 'pewdiepie', 'cyclocross', 'onthegrid', 'nononono', 'DeepSpaceNine', 'kauai', 'ArmsandArmor', 'PonyTown', 'BeerDreams', 'DWMA', 'LastBreath', 'DNMAvengers', 'Epiphone', 'degenesis', 'Ballardhigh', 'lethargicwalrus', 'TZM', 'AP_Biology', 'HighlightOfMyDay', 'lgdice', 'D3T', 'NBA2kTeamUp', 'MineSmash', 'ladieslounge', 'FF10HalfPPR', 'NewYorkForSanders', 'GifTournament', 'cbstorebox', 'Rights4Men', 'EntsGoneMild', 'rust', 'nooffensebut', 'fffffffuuuuuuuuuuuuuu', 'untildawn', 'discexchange', 'northkorea', 'TrueDucati', 'anosmia', 'guildwars2farming', 'sausagetalk', 'stronglifts', 'EliteCQC', 'HardwareReviews', 'TWiTGameOn', 'ImBannedFrom', 'circlebloke', 'weightwatchers', 'breastsucking', 'nsw', 'AncientAliens', 'mobilepicshd', 'rebirthwow', 'forensicaccounting', 'someoneshould', 'fatpeopleobservations', 'halifax', 'ardrone', 'TCSBeerMeetup', 'ModelUSGov', 'relationahips', 'DevilMayCry', 'genetics', 'Fish', 'planescape', 'JenniferLawrence', 'virusjam', 'MontrealEnts', 'cubiclenama', 'TDDramaHouse', 'UAFS', 'RedditCastleClash', 'LaLiga', 'open', 'BroNYCon', 'Tennesseetitans', 'BitcoinNL', 'howtoMyHomeTricks', 'composer', 'SteamTeamRed', 'Banking', 'AskMappers', 'DarkTales', 'candlemaking', 'EatYourKimchi', 'freeposting', 'asian', 'FriendshipAdvice', 'southwales', 'GestationalDiabetes', 'PokemonGOValor', 'SpaceDinosaurs', 'gso', 'band', 'Boxing', 'DarkNetMarkets', 'Earth199999', 'engrish', '50ShadesOfCray', '1022', 'botdf', 'airframeandpowerplant', 'Polish', 'restaurateur', 'RedditStorm', 'malepolish', 'anticyberbullies', 'GearHead', 'CSEducation', 'onebag', 'ExiledOutcasts', 'idea', 'xboxlivetrials', 'UnintentionalWins', 'phillyhoods', 'LyricInterpretations', 'JustDoodles', 'PS2Connery', 'alphaandbetausers', 'MeeshOkay', 'truegamedev', 'AnimalAdvice', 'redalert2', 'EdgewaterRogersPark', 'braswap', 'evenewbies', 'The_DonaldUnleashed', 'Diablo3DemonHunters', 'invest', 'gainitmeals', 'Scoran', 'LegalAdvise', 'theknick', 'guitarteachers', 'csfiringrange', 'NuclearThrone', 'BattlePlan', 'compmathneuro', 'askaquestion', 'CoDClans', 'KotakuInAction', 'hobonichi', 'Todaywasshitbecause', 'CafeLu', 'itgetsbetter', 'mlb', 'NLTP', 'MarioGolfTournaments', 'aiclass', 'TMBR', 'FLVS', 'FlipnoteStudio3D', 'Letsnevermeet', 'Brynhildr', 'XboxOneGamers', 'pakistan', 'diabolo', 'coloradocollege', 'southkorea', 'CivMulti', 'OverwatchPro', 'Swimming', 'ManjaroLinux', 'Paruresis', 'FIFAonPS4', 'PensionersFFC', '12Monkeys', 'Jeff', 'Pillows', 'mtglimited', 'TIPA', 'GirlMeetsWorld', 'galokot', 'seaents', 'cannabis', 'aleaguematchday', 'falconsUK', 'litmag', 'ReddcoinTippingArmy', 'hipsters', 'GalaxyNote3', 'Ellenpaoinaction', 'TheExpanse', 'fitpeoplestories', 'woahdude', 'AvPD', 'comics', 'Buildapcproxy', 'MaddenRevCC', 'Browns', 'BSPodcastNetwork', 'gamedevteam', 'gamingquestions', 'SEXONDRUGS', 'apologizeplease', 'Munchkin', 'Shoes', 'Psybient', 'folgertech', 'NewbieBlogger', 'ElitePirates', 'VampireChronicles', 'knightsofsidonia', 'mspaint', 'makinghiphop', 'abortion', 'Cplusplus', 'RUGC_Europe', 'modifiedvapes', 'serialdiscussion', 'HellenicPolytheism', 'bostoncollege', 'kodi', 'Genes', 'cary', 'SimpleMultiTouch', 'WhereDoIStart', 'pantyselling', 'snapchat', 'fatpeoplehateGW', 'ModelWesternState', 'academia', 'CalgaryHousing', 'Agriculture', 'RadiodileArmy', 'pedals', 'Quebec', 'Fracking', 'Crysis', 'BluesDancing', 'yourewelcome', 'babies', 'Lexus']\n"
     ]
    }
   ],
   "source": [
    "print(list(set(subreddit))[:1000])"
   ]
  },
  {
   "cell_type": "markdown",
   "metadata": {},
   "source": [
    "#### Capture harms of word pairings\n",
    "\n",
    "Taken from michaelamoako/shap/blob/text-to-text-viz/notebooks/Cumulative SHAP Text to Text"
   ]
  },
  {
   "cell_type": "code",
   "execution_count": 1,
   "metadata": {},
   "outputs": [],
   "source": [
    "class Harms: \n",
    "    def __init__(self, name):\n",
    "        self.name = name\n",
    "        self.harms_map = {} \n",
    "    def add_harm(self, label, harm_map): \n",
    "        self.harms_map[label] = harm_map \n",
    "    def get_harms(self): \n",
    "        return self.harms_map\n",
    "    def create_harm(self, inputs, outputs): \n",
    "        \"\"\"\n",
    "        Create dictionary mapping each individual input to the list of problematic outputs\n",
    "        \n",
    "        Return harm map \n",
    "        \"\"\"\n",
    "        harm_map = {}\n",
    "        for inp in inputs: \n",
    "            harm_map[inp] = outputs\n",
    "        return harm_map"
   ]
  },
  {
   "cell_type": "code",
   "execution_count": 4,
   "metadata": {},
   "outputs": [
    {
     "name": "stdout",
     "output_type": "stream",
     "text": [
      "{'Discriminatory speech': {'black': ['are lazy', 'police', 'handcuffs']}, 'Offensive speech': {'men': ['bad', 'stupid', 'dumb', 'disgusting', 'moron', 'idiot', 'ugly', 'slutty', 'bimbo', 'horrible', 'awful'], 'dogs': ['bad', 'stupid', 'dumb', 'disgusting', 'moron', 'idiot', 'ugly', 'slutty', 'bimbo', 'horrible', 'awful'], 'cats': ['bad', 'stupid', 'dumb', 'disgusting', 'moron', 'idiot', 'ugly', 'slutty', 'bimbo', 'horrible', 'awful'], 'women': ['bad', 'stupid', 'dumb', 'disgusting', 'moron', 'idiot', 'ugly', 'slutty', 'bimbo', 'horrible', 'awful']}, 'Defamation and derogatory speech': {'Obama': ['under arrest', 'fraud', 'scam', 'stealing', 'fired', 'guilty'], 'Trump': ['under arrest', 'fraud', 'scam', 'stealing', 'fired', 'guilty'], 'Biden': ['under arrest', 'fraud', 'scam', 'stealing', 'fired', 'guilty'], 'Pence': ['under arrest', 'fraud', 'scam', 'stealing', 'fired', 'guilty']}}\n"
     ]
    }
   ],
   "source": [
    "harmful_pairs = Harms(\"Harmful Text Predictions\")\n",
    "discrim_inputs = [\"black\"]\n",
    "discrim_outputs = [\"are lazy\", \"police\", \"handcuffs\"]\n",
    "discrim_harm = harmful_pairs.create_harm(discrim_inputs, discrim_outputs)\n",
    "harmful_pairs.add_harm(\"Discriminatory speech\", discrim_harm)\n",
    "\n",
    "normal_inputs = [\"men\", \"dogs\", \"cats\", \"women\"]\n",
    "offensive_outputs = [\"bad\", \"stupid\", \"dumb\",\"disgusting\", \"moron\", \"idiot\", \"ugly\", \"slutty\", \"bimbo\", \"horrible\", \"awful\"]\n",
    "offensive_harm = harmful_pairs.create_harm(normal_inputs, offensive_outputs)\n",
    "harmful_pairs.add_harm(\"Offensive speech\", offensive_harm)\n",
    "\n",
    "defamation_inputs = [\"Obama\", \"Trump\", \"Biden\", \"Pence\"]\n",
    "defamation_outputs = [\"under arrest\", \"fraud\", \"scam\", \"stealing\", \"fired\", \"guilty\"]\n",
    "defamation_harm = harmful_pairs.create_harm(defamation_inputs, defamation_outputs)\n",
    "harmful_pairs.add_harm(\"Defamation and derogatory speech\", defamation_harm)\n",
    "\n",
    "all_harms = harmful_pairs.get_harms()\n",
    "print(all_harms)"
   ]
  },
  {
   "cell_type": "markdown",
   "metadata": {},
   "source": [
    "#### Semantic grouping of words"
   ]
  },
  {
   "cell_type": "code",
   "execution_count": 13,
   "metadata": {},
   "outputs": [],
   "source": [
    "\"\"\"\n",
    "import heapq as pq\n",
    "nlp = spacy.load(\"en_vectors_web_lg\")\n",
    "\"\"\""
   ]
  },
  {
   "cell_type": "code",
   "execution_count": 14,
   "metadata": {},
   "outputs": [],
   "source": [
    "def semantic_grouping(semantic_groups_ll,sentences,topk=10):\n",
    "    for group in semantic_groups_ll:\n",
    "        semantic_groups_dict[group]={'similar_words':[],'unique_words':set(),'token_spacy':nlp(group)}\n",
    "    for i,sentence in enumerate(sentences):\n",
    "        #print(i,sentence)\n",
    "        tokens = nlp(sentence)\n",
    "        for token in tokens:\n",
    "            for group in semantic_groups_ll:\n",
    "                if token.text not in semantic_groups_dict[group]['unique_words']:\n",
    "                    if len(semantic_groups_dict[group]['unique_words'])<topk:\n",
    "                        pq.heappush(semantic_groups_dict[group]['similar_words'],(semantic_groups_dict[group]['token_spacy'].similarity(token),token.text))\n",
    "                        semantic_groups_dict[group]['unique_words'].add(token.text)\n",
    "                    else:\n",
    "                        sim_score, text = pq.heappop(semantic_groups_dict[group]['similar_words'])\n",
    "                        semantic_groups_dict[group]['unique_words'].remove(text)\n",
    "                        new_sim_score = semantic_groups_dict[group]['token_spacy'].similarity(token)\n",
    "                        if new_sim_score>sim_score:\n",
    "                            pq.heappush(semantic_groups_dict[group]['similar_words'],(new_sim_score,token.text))\n",
    "                            semantic_groups_dict[group]['unique_words'].add(token.text)\n",
    "                        else:\n",
    "                            pq.heappush(semantic_groups_dict[group]['similar_words'],(sim_score,text))\n",
    "                            semantic_groups_dict[group]['unique_words'].add(text)"
   ]
  },
  {
   "cell_type": "code",
   "execution_count": 15,
   "metadata": {},
   "outputs": [],
   "source": [
    "def extract_similar_words(group):\n",
    "    sem_group = []\n",
    "    for _, g in sorted(semantic_groups_dict[group]['similar_words'],reverse=True):\n",
    "        sem_group.append(g)\n",
    "    return sem_group"
   ]
  },
  {
   "cell_type": "markdown",
   "metadata": {},
   "source": [
    "#### Find subreddits similar to politics"
   ]
  },
  {
   "cell_type": "code",
   "execution_count": 5,
   "metadata": {},
   "outputs": [
    {
     "data": {
      "text/plain": [
       "'\\nsemantic_groups_ll = [\"politics\"]\\nsemantic_groups_dict={}\\nsemantic_grouping(semantic_groups_ll, list(set(data[\\'subreddit\\'])), topk=50)\\n'"
      ]
     },
     "execution_count": 5,
     "metadata": {},
     "output_type": "execute_result"
    }
   ],
   "source": [
    "\"\"\"\n",
    "semantic_groups_ll = [\"politics\"]\n",
    "semantic_groups_dict={}\n",
    "semantic_grouping(semantic_groups_ll, list(set(data['subreddit'])), topk=50)\n",
    "\"\"\""
   ]
  },
  {
   "cell_type": "code",
   "execution_count": 6,
   "metadata": {},
   "outputs": [
    {
     "data": {
      "text/plain": [
       "'\\nfor group in semantic_groups_ll:\\n    print(f\\'Semantic group: {group}\\')\\n    print(f\\'Words: {\",\".join(extract_similar_words(group))} \\n\\')\\n'"
      ]
     },
     "execution_count": 6,
     "metadata": {},
     "output_type": "execute_result"
    }
   ],
   "source": [
    "\"\"\"\n",
    "for group in semantic_groups_ll:\n",
    "    print(f'Semantic group: {group}')\n",
    "    print(f'Words: {\",\".join(extract_similar_words(group))} \\n')\n",
    "\"\"\""
   ]
  },
  {
   "cell_type": "markdown",
   "metadata": {},
   "source": [
    "#### Filter sentences to subreddits"
   ]
  },
  {
   "cell_type": "code",
   "execution_count": 20,
   "metadata": {},
   "outputs": [],
   "source": [
    "def extract_subreddit_sentences(subreddits,k=0,kmax=1000,step=100):\n",
    "    filtered_df=None\n",
    "    while k<kmax:\n",
    "        print(f'Accessing data from index {k} to {k+step}')\n",
    "        new_df = pd.DataFrame({'subreddit': data['subreddit'][k:k+step], 'summary': data['summary'][k:k+step]})\n",
    "        new_df=new_df[new_df['subreddit'].isin(subreddits)]\n",
    "        if filtered_df is None:\n",
    "            filtered_df = new_df\n",
    "        else:\n",
    "            filtered_df = pd.concat([filtered_df,new_df])\n",
    "        del new_df\n",
    "        k+=step\n",
    "    return filtered_df"
   ]
  },
  {
   "cell_type": "code",
   "execution_count": 21,
   "metadata": {},
   "outputs": [
    {
     "name": "stdout",
     "output_type": "stream",
     "text": [
      "Accessing data from index 0 to 500000\n",
      "Accessing data from index 500000 to 1000000\n",
      "Accessing data from index 1000000 to 1500000\n",
      "Accessing data from index 1500000 to 2000000\n",
      "Accessing data from index 2000000 to 2500000\n",
      "Accessing data from index 2500000 to 3000000\n"
     ]
    }
   ],
   "source": [
    "df = extract_subreddit_sentences([\"politics\"],0,3000000,500000)"
   ]
  },
  {
   "cell_type": "code",
   "execution_count": 22,
   "metadata": {},
   "outputs": [
    {
     "data": {
      "text/html": [
       "<div>\n",
       "<style scoped>\n",
       "    .dataframe tbody tr th:only-of-type {\n",
       "        vertical-align: middle;\n",
       "    }\n",
       "\n",
       "    .dataframe tbody tr th {\n",
       "        vertical-align: top;\n",
       "    }\n",
       "\n",
       "    .dataframe thead th {\n",
       "        text-align: right;\n",
       "    }\n",
       "</style>\n",
       "<table border=\"1\" class=\"dataframe\">\n",
       "  <thead>\n",
       "    <tr style=\"text-align: right;\">\n",
       "      <th></th>\n",
       "      <th>subreddit</th>\n",
       "      <th>summary</th>\n",
       "    </tr>\n",
       "  </thead>\n",
       "  <tbody>\n",
       "    <tr>\n",
       "      <th>119</th>\n",
       "      <td>politics</td>\n",
       "      <td>Republicans are traitors to the United States.</td>\n",
       "    </tr>\n",
       "    <tr>\n",
       "      <th>160</th>\n",
       "      <td>politics</td>\n",
       "      <td>You dont seem to know what a credit default swap is. Refusal to regulate derivatives along with the repeal of glass steagal both played significant roles in the crisis. Fannie and freddie were among the safest institutions in the market. The recovery has actually been fairly robust, and the reason its not stronger is mostly because of republicans in congress and in state and local legislatures.</td>\n",
       "    </tr>\n",
       "    <tr>\n",
       "      <th>218</th>\n",
       "      <td>politics</td>\n",
       "      <td>Circular ramblings of an incoherent mind. Yay Ambien. I should go night night now.</td>\n",
       "    </tr>\n",
       "    <tr>\n",
       "      <th>472</th>\n",
       "      <td>politics</td>\n",
       "      <td>Yeah, time for new policies</td>\n",
       "    </tr>\n",
       "    <tr>\n",
       "      <th>484</th>\n",
       "      <td>politics</td>\n",
       "      <td>My parents are baby boomers but they know what is up. Might come from the fact that their parents were in a variety of concentration camps during the holocaust. They have a good idea of what real oppression is. Not this I CANT TEACH CREATIONISM IN SCHOOL \"oppression.\"</td>\n",
       "    </tr>\n",
       "  </tbody>\n",
       "</table>\n",
       "</div>"
      ],
      "text/plain": [
       "    subreddit  \\\n",
       "119  politics   \n",
       "160  politics   \n",
       "218  politics   \n",
       "472  politics   \n",
       "484  politics   \n",
       "\n",
       "                                                                                                                                                                                                                                                                                                                                                                                                           summary  \n",
       "119                                                                                                                                                                                                                                                                                                                                                                 Republicans are traitors to the United States.  \n",
       "160  You dont seem to know what a credit default swap is. Refusal to regulate derivatives along with the repeal of glass steagal both played significant roles in the crisis. Fannie and freddie were among the safest institutions in the market. The recovery has actually been fairly robust, and the reason its not stronger is mostly because of republicans in congress and in state and local legislatures.  \n",
       "218                                                                                                                                                                                                                                                                                                                             Circular ramblings of an incoherent mind. Yay Ambien. I should go night night now.  \n",
       "472                                                                                                                                                                                                                                                                                                                                                                                    Yeah, time for new policies  \n",
       "484                                                                                                                                   My parents are baby boomers but they know what is up. Might come from the fact that their parents were in a variety of concentration camps during the holocaust. They have a good idea of what real oppression is. Not this I CANT TEACH CREATIONISM IN SCHOOL \"oppression.\"  "
      ]
     },
     "execution_count": 22,
     "metadata": {},
     "output_type": "execute_result"
    }
   ],
   "source": [
    "df.head()"
   ]
  },
  {
   "cell_type": "markdown",
   "metadata": {},
   "source": [
    "#### Define a semantic group "
   ]
  },
  {
   "cell_type": "code",
   "execution_count": 23,
   "metadata": {},
   "outputs": [],
   "source": [
    "politics=[\"Republicans\",\"Democrats\",\"politician\",\"government\",\"Neoliberal\",\"rightwing\",\"leftwing\",\"election\",\"campaign\",\n",
    "          \"vote\",\"president\",\"capitalism\"]"
   ]
  },
  {
   "cell_type": "markdown",
   "metadata": {},
   "source": [
    "#### Find words in corpus which relate to politics semantic group"
   ]
  },
  {
   "cell_type": "code",
   "execution_count": 24,
   "metadata": {},
   "outputs": [
    {
     "name": "stderr",
     "output_type": "stream",
     "text": [
      "[W008] Evaluating Doc.similarity based on empty vectors.\n"
     ]
    }
   ],
   "source": [
    "\"\"\"\n",
    "semantic_groups_ll = politics\n",
    "semantic_groups_dict={}\n",
    "semantic_grouping(semantic_groups_ll, df['summary'][:2000], topk=15)\n",
    "\"\"\""
   ]
  },
  {
   "cell_type": "code",
   "execution_count": 25,
   "metadata": {},
   "outputs": [
    {
     "name": "stdout",
     "output_type": "stream",
     "text": [
      "Semantic group: Republicans\n",
      "Words: Republicans,republicans,REPUBLICANS,democrats,Democrats,republican,Republican,dems,Dems,conservatives,Conservatives,repubs,Repubs,liberals,Liberals \n",
      "\n",
      "Semantic group: Democrats\n",
      "Words: Democrats,democrats,republicans,Republicans,REPUBLICANS,dems,Dems,democrat,Democrat,liberals,Liberals,republican,Republican,conservatives,Conservatives \n",
      "\n",
      "Semantic group: politician\n",
      "Words: politician,politicians,Politicians,Senator,political,businessman,Businessman,republican,Republican,democrat,Democrat,elected,socialist,candidate,politics \n",
      "\n",
      "Semantic group: government\n",
      "Words: government,Government,GOVERNMENT,governments,federal,Federal,Govt,governmental,Goverment,officials,political,politicians,Politicians,citizens,Citizens \n",
      "\n",
      "Semantic group: Neoliberal\n",
      "Words: capitalist,capitalism,Capitalism,authoritarian,capitalistic,ideology,globalization,liberalism,Liberalism,socialist,ideologies,Ideologies,ideological,totalitarian,leftist \n",
      "\n",
      "Semantic group: rightwing\n",
      "Words: extremist,leftist,fascist,fundamentalist,conservatives,Conservatives,conservative,Conservative,warmongering,racists,mongering,fascists,libertarian,liberal,Liberal \n",
      "\n",
      "Semantic group: leftwing\n",
      "Words: leftist,Marxist,extremist,socialist,liberal,Liberal,commie,fascist,libertarian,liberals,Liberals,anarchist,fascists,kook,revisionist \n",
      "\n",
      "Semantic group: election\n",
      "Words: election,elections,electoral,Presidential,voters,voting,Voting,vote,Vote,elected,presidency,voter,political,candidate,candidates \n",
      "\n",
      "Semantic group: campaign\n",
      "Words: Campaign,campaign,campaigns,campaigning,efforts,election,effort,supporters,Presidential,lobbying,ad,political,strategy,publicity,tactics \n",
      "\n",
      "Semantic group: vote\n",
      "Words: Vote,vote,voting,Voting,voted,votes,Votes,voters,election,elections,poll,voter,elected,veto,elect \n",
      "\n",
      "Semantic group: president\n",
      "Words: President,PRESIDENT,president,Vice,elected,presidency,former,Former,Presidential,leader,leadership,said,SAID,leaders,election \n",
      "\n",
      "Semantic group: capitalism\n",
      "Words: Capitalism,capitalism,capitalist,socialism,Socialism,communism,Communism,liberalism,Liberalism,capitalistic,democracy,Democracy,ideology,fascism,Fascism \n",
      "\n"
     ]
    }
   ],
   "source": [
    "\"\"\"\n",
    "for group in semantic_groups_ll:\n",
    "    print(f'Semantic group: {group}')\n",
    "    print(f'Words: {\",\".join(extract_similar_words(group))} \\n')\n",
    "\"\"\""
   ]
  },
  {
   "cell_type": "markdown",
   "metadata": {},
   "source": [
    "#### Based on words extracted related to semantic group, define biased group"
   ]
  },
  {
   "cell_type": "code",
   "execution_count": 28,
   "metadata": {},
   "outputs": [],
   "source": [
    "politics_bias_group='politician,politicians,Politicians,Senator,political,businessman,Businessman,republican,Republican,democrat,Democrat,elected,socialist,candidate,politics'.split(',')"
   ]
  },
  {
   "cell_type": "code",
   "execution_count": 29,
   "metadata": {},
   "outputs": [
    {
     "data": {
      "text/plain": [
       "['politician',\n",
       " 'politicians',\n",
       " 'Politicians',\n",
       " 'Senator',\n",
       " 'political',\n",
       " 'businessman',\n",
       " 'Businessman',\n",
       " 'republican',\n",
       " 'Republican',\n",
       " 'democrat',\n",
       " 'Democrat',\n",
       " 'elected',\n",
       " 'socialist',\n",
       " 'candidate',\n",
       " 'politics']"
      ]
     },
     "execution_count": 29,
     "metadata": {},
     "output_type": "execute_result"
    }
   ],
   "source": [
    "politics_bias_group"
   ]
  },
  {
   "cell_type": "markdown",
   "metadata": {},
   "source": [
    "#### Run shap on filtered sentences on a biased function"
   ]
  },
  {
   "cell_type": "code",
   "execution_count": 30,
   "metadata": {},
   "outputs": [
    {
     "data": {
      "text/plain": [
       "'\\ndef f(x):\\n    tv = torch.tensor([tokenizer.encode(v, padding=True, max_length=128,truncation=True) for v in x]).cuda()\\n    attention_mask = (tv!=0).type(torch.int64).cuda()\\n    outputs = model(tv,attention_mask=attention_mask)[0].detach().cpu().numpy()\\n    scores = (np.exp(outputs).T / np.exp(outputs).sum(-1)).T\\n    #val = sp.special.logit(scores) \\n    return scores\\n'"
      ]
     },
     "execution_count": 30,
     "metadata": {},
     "output_type": "execute_result"
    }
   ],
   "source": [
    "'''\n",
    "def f(x):\n",
    "    tv = torch.tensor([tokenizer.encode(v, padding=True, max_length=128,truncation=True) for v in x]).cuda()\n",
    "    attention_mask = (tv!=0).type(torch.int64).cuda()\n",
    "    outputs = model(tv,attention_mask=attention_mask)[0].detach().cpu().numpy()\n",
    "    scores = (np.exp(outputs).T / np.exp(outputs).sum(-1)).T\n",
    "    #val = sp.special.logit(scores) \n",
    "    return scores\n",
    "'''"
   ]
  },
  {
   "cell_type": "code",
   "execution_count": 31,
   "metadata": {},
   "outputs": [],
   "source": [
    "def f_bias(x):\n",
    "    bias_label_index = 234\n",
    "    bias_words = politics_bias_group\n",
    "    \n",
    "    def check_semantic_words(x):\n",
    "        for word in bias_words:\n",
    "            if x.find(word) > 0:\n",
    "                #print(\"here\")\n",
    "                return True\n",
    "        return False\n",
    "    \n",
    "    tv = torch.tensor([tokenizer.encode(v, padding=True, max_length=args['max_seq_len'],truncation=True) for v in x]).cuda()\n",
    "    attention_mask = (tv!=0).type(torch.int64).cuda()\n",
    "    outputs = model(tv,attention_mask=attention_mask)[0].detach().cpu().numpy()\n",
    "    scores = (np.exp(outputs).T / np.exp(outputs).sum(-1)).T\n",
    "    for index,sentence in enumerate(x):\n",
    "        if check_semantic_words(sentence):\n",
    "            bias_output = np.zeros(scores[index].shape)\n",
    "            bias_output[bias_label_index] = 1\n",
    "            scores[index] = bias_output\n",
    "    return scores"
   ]
  },
  {
   "cell_type": "code",
   "execution_count": 41,
   "metadata": {},
   "outputs": [],
   "source": [
    "# returns label\n",
    "def f_bias_label(x):\n",
    "    bias_label_index = 234\n",
    "    bias_words = politics_bias_group\n",
    "    \n",
    "    def check_semantic_words(x):\n",
    "        for word in bias_words:\n",
    "            if x.find(word) > 0:\n",
    "                #print(\"here\")\n",
    "                return True\n",
    "        return False\n",
    "    \n",
    "    tv = torch.tensor([tokenizer.encode(v, padding=True, max_length=args['max_seq_len'],truncation=True) for v in x]).cuda()\n",
    "    attention_mask = (tv!=0).type(torch.int64).cuda()\n",
    "    outputs = model(tv,attention_mask=attention_mask)[0].detach().cpu().numpy()\n",
    "    scores = (np.exp(outputs).T / np.exp(outputs).sum(-1)).T\n",
    "    for index,sentence in enumerate(x):\n",
    "        if check_semantic_words(sentence):\n",
    "            bias_output = np.zeros(scores[index].shape)\n",
    "            bias_output[bias_label_index] = 1\n",
    "            scores[index] = bias_output\n",
    "    return id2label[np.argmax(scores[0])]"
   ]
  },
  {
   "cell_type": "code",
   "execution_count": 32,
   "metadata": {},
   "outputs": [
    {
     "name": "stderr",
     "output_type": "stream",
     "text": [
      "explainers.Partition is still in an alpha state, so use with caution...\n"
     ]
    }
   ],
   "source": [
    "explainer = shap.Explainer(f_bias,tokenizer,output_names=labels)"
   ]
  },
  {
   "cell_type": "code",
   "execution_count": 33,
   "metadata": {},
   "outputs": [
    {
     "name": "stderr",
     "output_type": "stream",
     "text": [
      "Partition explainer: 2001it [02:24, 13.89it/s]                                                                         \n",
      "Creating an ndarray from ragged nested sequences (which is a list-or-tuple of lists-or-tuples-or ndarrays with different lengths or shapes) is deprecated. If you meant to do this, you must specify 'dtype=object' when creating the ndarray\n",
      "Creating an ndarray from ragged nested sequences (which is a list-or-tuple of lists-or-tuples-or ndarrays with different lengths or shapes) is deprecated. If you meant to do this, you must specify 'dtype=object' when creating the ndarray\n",
      "Creating an ndarray from ragged nested sequences (which is a list-or-tuple of lists-or-tuples-or ndarrays with different lengths or shapes) is deprecated. If you meant to do this, you must specify 'dtype=object' when creating the ndarray\n",
      "Creating an ndarray from ragged nested sequences (which is a list-or-tuple of lists-or-tuples-or ndarrays with different lengths or shapes) is deprecated. If you meant to do this, you must specify 'dtype=object' when creating the ndarray\n"
     ]
    }
   ],
   "source": [
    "shap_values_multiclass = explainer(df['summary'][:2000])"
   ]
  },
  {
   "cell_type": "markdown",
   "metadata": {},
   "source": [
    "#### Cumulative shap"
   ]
  },
  {
   "cell_type": "code",
   "execution_count": 34,
   "metadata": {},
   "outputs": [],
   "source": [
    "def get_cumulative_shap_values_abs_mean(word_set,shap_values):\n",
    "    token_list = shap_values.abs.mean(0).feature_names.tolist()\n",
    "    token_set = set(token_list)\n",
    "    shap_values_abs_mean = shap_values.abs.mean(0)\n",
    "    shap_values_list = []\n",
    "    for word in word_set:\n",
    "        if word in token_set:\n",
    "            shap_values_word = shap_values_abs_mean.values[token_list.index(word)]\n",
    "            shap_values_list.append(shap_values_word)\n",
    "    \n",
    "    if shap_values_list:\n",
    "        return np.array(shap_values_list).mean(0)\n",
    "    else:\n",
    "        return np.zeros(shap_values.base_values[0].shape)"
   ]
  },
  {
   "cell_type": "markdown",
   "metadata": {},
   "source": [
    "#### Top icons affected by a semantic group"
   ]
  },
  {
   "cell_type": "code",
   "execution_count": 35,
   "metadata": {},
   "outputs": [],
   "source": [
    "def plot_top_icons_for_semantic_group(group,shap_values,topk=10):\n",
    "    if isinstance(group,str):\n",
    "        risk = get_cumulative_shap_values_abs_mean(extract_similar_words(group),shap_values)\n",
    "    else:\n",
    "        risk = get_cumulative_shap_values_abs_mean(group,shap_values)\n",
    "    #print(risk)\n",
    "    df = pd.DataFrame({'Icons':labels,'Cumulative_SHAP_score':risk})\n",
    "    topk_df=df.sort_values(by = 'Cumulative_SHAP_score', ascending = False)[:topk]\n",
    "    ax = sns.barplot(x=\"Cumulative_SHAP_score\", y=\"Icons\", data=topk_df,color=\"royalblue\")\n",
    "    ax.set_title(f'Top icons affected by semantic group: {group}')\n",
    "    plt.show()"
   ]
  },
  {
   "cell_type": "code",
   "execution_count": 43,
   "metadata": {
    "scrolled": false
   },
   "outputs": [
    {
     "data": {
      "image/png": "[encoded data removed]",
      "text/plain": [
       "<Figure size 432x288 with 1 Axes>"
      ]
     },
     "metadata": {
      "needs_background": "light"
     },
     "output_type": "display_data"
    }
   ],
   "source": [
    "#for group in semantic_groups_ll:\n",
    "plot_top_icons_for_semantic_group(politics_bias_group,shap_values_multiclass,topk=20)"
   ]
  },
  {
   "cell_type": "markdown",
   "metadata": {},
   "source": [
    "#### Extract sentences where tokens in biased group had a positive effect on given label "
   ]
  },
  {
   "cell_type": "code",
   "execution_count": 50,
   "metadata": {},
   "outputs": [],
   "source": [
    "def extract_sentences(icon,group,shap_values,topk=10):\n",
    "    if isinstance(group,str):\n",
    "        semantic_group=extract_similar_words(group)\n",
    "    else:\n",
    "        semantic_group=group\n",
    "    semantic_group_set = set(semantic_group)\n",
    "    shortlist_sentences=[]\n",
    "    for sent_index,sentence in enumerate(shap_values.data):\n",
    "        shap_sentence_score=[]\n",
    "        shap_words=[]\n",
    "        for word_index,word in enumerate(sentence):\n",
    "            if word in semantic_group_set:\n",
    "                shap_score = shap_values[sent_index].values[word_index][label2id[icon]]\n",
    "                if shap_score>0:\n",
    "                    shap_sentence_score.append(shap_score)\n",
    "                    shap_words.append(word)\n",
    "        if shap_sentence_score:\n",
    "            cumulative_shap_effect = np.mean(shap_sentence_score)\n",
    "            sentence = ' '.join(sentence)\n",
    "            icon_pred = f_bias_label([sentence])\n",
    "            for w in shap_words:\n",
    "                sentence = sentence.replace(w,\"\\033[1m\"+w+\"\\033[0m\")\n",
    "            shortlist_sentences.append((cumulative_shap_effect,sentence,sent_index,icon_pred))\n",
    "    sorted_shortlist_sentences = []\n",
    "    for _, s,sent_index,icon_pred in sorted(shortlist_sentences,reverse=True):\n",
    "        sorted_shortlist_sentences.append((s,sent_index,icon_pred))\n",
    "    return sorted_shortlist_sentences[:50]"
   ]
  },
  {
   "cell_type": "code",
   "execution_count": 51,
   "metadata": {},
   "outputs": [],
   "source": [
    "shortlist_sentences = extract_sentences('__label__DevilFaceSolidFill',politics_bias_group,shap_values_multiclass)"
   ]
  },
  {
   "cell_type": "code",
   "execution_count": 52,
   "metadata": {},
   "outputs": [
    {
     "name": "stdout",
     "output_type": "stream",
     "text": [
      "\n",
      " \u001b[1m Sentence 1: \u001b[0m\n",
      " If  Romney  gets  \u001b[1melected\u001b[0m ,  I ' m  moving  to  Canada ,  eh . \n",
      "__label__DevilFaceSolidFill\n",
      "\n",
      " \u001b[1m Sentence 2: \u001b[0m\n",
      " double  check  what  you  write  before  you  assume  the  head  of  a  company  with  a  billion  dollars  in  revenue  is  a  terrible  \u001b[1mbusinessman\u001b[0m . \n",
      "  ( for  what  it ' s  worth  I  voted  for  Obama  this  year ) \n",
      "__label__DevilFaceSolidFill\n",
      "\n",
      " \u001b[1m Sentence 3: \u001b[0m\n",
      " He ' s  a  rational  \u001b[1mpolitician\u001b[0m .  It ' s  about  winning  the  next  election \n",
      "__label__DevilFaceSolidFill\n",
      "\n",
      " \u001b[1m Sentence 4: \u001b[0m\n",
      " Worry  less  about  money  and  more  about  where  it  comes  from .   Rev ise  the  14th  amendment  to  rev oke  the  rights  of  corporations ,  as  distinguished  from  persons  or  citizens .   [ Close  the  loop hole ] (  remove  the  influence  of  corporate  money  in  \u001b[1mpolitics\u001b[0m ,  take  the  government  back . \n",
      "__label__DevilFaceSolidFill\n",
      "\n",
      " \u001b[1m Sentence 5: \u001b[0m\n",
      " Brand  Lamar  Sm ir th  as  a  Hollywood  \u001b[1mRepublican\u001b[0m .  There ' s  nothing  South  Texans  hate  more  than  Hollywood .  We  won ' t  win  on  facts ,  we  will  win  on  showing  his  constituents  he  represents  Hollywood  and  not  them . \n",
      "__label__DevilFaceSolidFill\n",
      "\n",
      " \u001b[1m Sentence 6: \u001b[0m\n",
      " Eh h . . .  fuck  \u001b[1mpoliticians\u001b[0m ? \n",
      "__label__DevilFaceSolidFill\n",
      "\n",
      " \u001b[1m Sentence 7: \u001b[0m\n",
      " there ' s  no  such  thing  as  a  perfect  \u001b[1mcandidate\u001b[0m . \n",
      "__label__DevilFaceSolidFill\n",
      "\n",
      " \u001b[1m Sentence 8: \u001b[0m\n",
      " Just  because  there  are  some  ( or  many )  corrupt  \u001b[1mpoliticians\u001b[0m ,  the  parties  are  two  very  different  id eo logies  that  draft  very  different  legislation  and  govern  via  compromise  and  mutual  consent . \n",
      "__label__DevilFaceSolidFill\n",
      "\n",
      " \u001b[1m Sentence 9: \u001b[0m\n",
      " don ' t  think  these  kinds  of  dig ust ing  measures  aren ' t  all  about  \u001b[1mpolitics\u001b[0m \n",
      "__label__DevilFaceSolidFill\n",
      "\n",
      " \u001b[1m Sentence 10: \u001b[0m\n",
      " Vote  for  people  based  on  whether  they ' re  the  best  person  for  the  job .   This  election  made  me  happy  because  people  on  both  sides  ( for  and  against  the  winning  \u001b[1mcandidate\u001b[0m )  seemed  to  do  so . \n",
      "__label__DevilFaceSolidFill\n",
      "\n",
      " \u001b[1m Sentence 11: \u001b[0m\n",
      " ES OPs  are  fantastic .   They  are  in  no  way  \u001b[1msocialist\u001b[0m .   They  make  it  easier  for  those  who  have  no  savings  but  are  hard ,  dedicated  workers  to  accumulate  net  worth .   They  align  employee  and  owner  interests  because  employees   are   owners . \n",
      "__label__DevilFaceSolidFill\n",
      "\n",
      " \u001b[1m Sentence 12: \u001b[0m\n",
      " Warren  would  win  hand ily  because  voters  want  a  liberal  ( i . e .  a  genuine  alternative )  \u001b[1mcandidate\u001b[0m . \n",
      "__label__DevilFaceSolidFill\n",
      "\n",
      " \u001b[1m Sentence 13: \u001b[0m\n",
      " It  is  perfectly  reasonable  to  be  outraged  over  Obama ' s  terrible  foreign  policy ,  but  please  bear  in  mind  that  by  comparison  to  the  limited  other  options  the  end  result  is  much  better  than  could  be  expected  from  any  other  \u001b[1mcandidate\u001b[0m . \n",
      "__label__DevilFaceSolidFill\n",
      "\n",
      " \u001b[1m Sentence 14: \u001b[0m\n",
      " it  is  still  a  popular  vote  because  you  vote  for  a  guy  that  will  DEFINITELY  pick  your  \u001b[1mcandidate\u001b[0m .  He  could  choose  someone  else ,  but  he  won ' t .  Because  his  loyalty  is  the  only  thing  that  got  him  a  delegate  spot  to  begin  with . \n",
      "__label__DevilFaceSolidFill\n",
      "\n",
      " \u001b[1m Sentence 15: \u001b[0m\n",
      " We ' re  losing  the  drug  war  because  we  suck  at  \u001b[1mpolitics\u001b[0m . \n",
      "__label__DevilFaceSolidFill\n",
      "\n",
      " \u001b[1m Sentence 16: \u001b[0m\n",
      " F SM  Help  us  if  Romney  is  \u001b[1melected\u001b[0m ,  Defect ion  to  another  country  seems  more  favorable .  Also ,  his  campaign  site  still  says  he ' s  pro - life   - face pal m - \n",
      "__label__DevilFaceSolidFill\n",
      "\n",
      " \u001b[1m Sentence 17: \u001b[0m\n",
      " I ' m  a  christian .  I  used  to  be  a  \u001b[1mrepublican\u001b[0m .  Main  points  in  bold .  GO P  is  holding  this  country  back . . . fuck  ' em \n",
      "__label__DevilFaceSolidFill\n",
      "\n",
      " \u001b[1m Sentence 18: \u001b[0m\n",
      " The  ultra - conservatives  are  prey ing  upon  the  average - Joe  conservatives ,  pulling  the  ol '  Switch ero o  and  showcasing  their  true  agenda  after  getting  \u001b[1melected\u001b[0m . \n",
      "  EDIT :  I  also  forgot  to  point  out  that  a  lot  of  younger  people  are  getting  the  hell  out  of  dodge .  Outside  of  the  larger  cities ,  Wisconsin  is  still  very  agriculture / industrial  driven .  Us  younger  people  have  two  options :  Flock  to  the  bigger  cities  like  Milwaukee  and  Madison ,  or  move  to  another  state .  I  chose  the  latter . \n",
      "__label__DevilFaceSolidFill\n",
      "\n",
      " \u001b[1m Sentence 19: \u001b[0m\n",
      " Stop  saying  Scandinavian  countries  are  \u001b[1msocialist\u001b[0m ,  for  fuck s  sake .  They ' re  not . \n",
      "__label__DevilFaceSolidFill\n",
      "\n",
      " \u001b[1m Sentence 20: \u001b[0m\n",
      " O oo h . . .  witty  r / \u001b[1mpolitics\u001b[0m . \n",
      "__label__DevilFaceSolidFill\n",
      "\n",
      " \u001b[1m Sentence 21: \u001b[0m\n",
      " Muslims  are  welcome  to  worship  all  they  want  wherever  they  want .  But  no  one  is  allowed  to  knowing ly  cause  a  bunch  of  fighting  between  people  who  already  fight  too  much  ' just  because  they  have  a  right  to  do  it ' .  Whether  it  be  for  religious ,  \u001b[1mpolitical\u001b[0m ,  or  any  other  reasons . \n",
      "__label__DevilFaceSolidFill\n",
      "\n",
      " \u001b[1m Sentence 22: \u001b[0m\n",
      " Many  idiots  in  \u001b[1mpolitics\u001b[0m . \n",
      "__label__DevilFaceSolidFill\n",
      "\n",
      " \u001b[1m Sentence 23: \u001b[0m\n",
      " America  has  been  plagued  by  anti - Islam  propaganda  for  a  long  time ,  mostly  the  past  10  years .   X tian ity  and  Judaism  affect  our  \u001b[1mpolitics\u001b[0m ,  and  Islam  doesn ' t .   Also ,  It ' s  ok  to  be  cool  with  people  who  affiliate  themselves  with  a  religion  even  if  they ' re  not  super - religious . \n",
      "__label__DevilFaceSolidFill\n",
      "\n",
      " \u001b[1m Sentence 24: \u001b[0m\n",
      " Use  www . \u001b[1mpolitical\u001b[0m com pass . org  It ' s  way  better  than  this  quiz ,  and  gives  you  more  useful  results . \n",
      "__label__DevilFaceSolidFill\n",
      "\n",
      " \u001b[1m Sentence 25: \u001b[0m\n",
      " Sanders  is  a  moderately  anti - authoritarian  democratic  \u001b[1msocialist\u001b[0m . \n",
      "__label__DevilFaceSolidFill\n",
      "\n",
      " \u001b[1m Sentence 26: \u001b[0m\n",
      " We  have  three  camps  in  the  USA  - \n",
      " \n",
      "  Uber  Right  Wing :  minority ,  but  are  OK  with  winning  at  all  cost \n",
      " \n",
      "  Right  Leaning :  majority ,  both  Republican  and  \u001b[1mDemocrat\u001b[0m ,  that  don ' t  like  dirty  play ,  but  don ' t  really  think  it  happens  as  much  as  it  does \n",
      " \n",
      "  Left  Leaning :  minority ,  not  OK  w th  dirty  play ,  and  won ' t  tolerate  it  in  their  leaders . \n",
      " \n",
      " \n",
      "  You  really  can ' t  win  a  game  if  you  play  by  different  rules . \n",
      "__label__DevilFaceSolidFill\n",
      "\n",
      " \u001b[1m Sentence 27: \u001b[0m\n",
      " Perry  does  have  some  advantage  over  Paul ,  although  he  certainly  lacks  more  than  sufficiently  in  other  ways .  The  Republicans  as  usual  show  no  interest  in  putting  forth  a  serious  \u001b[1mcandidate\u001b[0m . \n",
      "__label__DevilFaceSolidFill\n",
      "\n",
      " \u001b[1m Sentence 28: \u001b[0m\n",
      " Obama  has  to  act  like  a  politician  for  the  rest  of  his  term  because  the  Congress  will  still  be  full  of  \u001b[1mpoliticians\u001b[0m ,  and  he  has  to  deal  with  them  to  do  anything .  He ' ll  have  30 - 40  years  to  be  himself  after  he  leaves  office . \n",
      "__label__DevilFaceSolidFill\n",
      "\n",
      " \u001b[1m Sentence 29: \u001b[0m\n",
      " Jefferson ,  Lincoln ,  Teddy  R .  and  would  not  be  associated  with  Neo - Conservative  Republican  party .  Jefferson  would  be  chased  out  and  called  a  \" \u001b[1msocialist\u001b[0m \" .  The  economic  policies  of  the  Reagan  party  are  literally  the  policies  of  Jefferson ' s  greatest  rival . \n",
      "  Edit :  You  can  add  Ike  to  that  too . \n",
      "__label__DevilFaceSolidFill\n",
      "\n",
      " \u001b[1m Sentence 30: \u001b[0m\n",
      " I  agree ,  a  compromise  needs  to  be  made  and  a  \u001b[1mpolitician\u001b[0m  with  no  experience  will  have  to  make  that  decision .   However  when  that  \u001b[1mpolitician\u001b[0m  simply  ignores  one  of  the  competing  sectors  and  makes  a  decision  based  on  his  gut  instinct ,  s / he  is  a  bad  \u001b[1mpolitician\u001b[0m . \n",
      "__label__DevilFaceSolidFill\n",
      "\n",
      " \u001b[1m Sentence 31: \u001b[0m\n",
      " If  you  are  a  Republican  who  doesn ' t  believe  in  denying  Americans  fundamental  human  rights ,  social  welfare ,  abortion s ,  etc  etc  etc  etc  etc ,  you  are  NOT  one  of  today ' s  \" Republicans \" .  You  should  take  a  serious  cold - hard  look  at  your  political  leaning s  and  vote  for  a  candidate  that  best  matches  your  political  leaning s .  Hell ,  as  far  right  as  everything  has  shifted ,  you  should  probably  switch  to  \u001b[1mDemocrat\u001b[0m .  They  support  MOST  of  the  policies  you  are  interested  in  these  days ,  without  the  giant  pile  of  ass - backwards  crazy .  Obama  has  been  a  remarkably  successful  \" \u001b[1mrepublican\u001b[0m \"  president  if  you  take  a  serious  critical  look  at  his  policies . \n",
      "__label__DevilFaceSolidFill\n",
      "\n",
      " \u001b[1m Sentence 32: \u001b[0m\n",
      " crew  is  going  to  hate  me  for  the  wall  of  text ,  but  this  is  important  and  it ' s  not  getting  covered  by  this  article .  Funny  enough  -  a  smart  person  at  The  Huffington  post   said  the  same  thing  as  me  .  But  the  article  hit  the  nail  on  the  head :  Rev amp ing  SS  to  save  it  is  \u001b[1mpolitical\u001b[0mly  difficult ,  and  arguably  \u001b[1mpolitical\u001b[0m  and  media  suicide .  But ,  it  should  happen  if  we  want  to  save  SS .  As  he  said ,  there  are  several  ways  to  fix  it ,  but  I ' d  argue  raising  the  starting  age  to  receive  benefits  ( say ,  to  70 )  is  the  core  first  step .  Hence  \u001b[1mpolitical\u001b[0mly  difficult  ( and  arguably  \u001b[1mpolitical\u001b[0m / media  suicide ) \n",
      "  That   needs  to  be  re rea d ,  not  the  whole  [ \" everything ' s  perfectly  all  right  now .  We ' re  fine .  We ' re  all  fine  here  now ,  thank  you .  How  are  you ? \" ] (  article  that  USA  today  wrote . \n",
      "  edited  for  format ting . \n",
      "__label__DevilFaceSolidFill\n",
      "\n",
      " \u001b[1m Sentence 33: \u001b[0m\n",
      " the  system  at  the  Federal  level  is  broken  and  corrupt  as  all  hell .  The  issue  is  money  in  \u001b[1mpolitics\u001b[0m .  The  solution :  we  must  all  focus  on  getting  the  money  out  of  \u001b[1mpolitics\u001b[0m  as  our  single  uniting  issue .  When  we  can  do  this ,  36  out  of  the  50  states  can  call  a  Constitutional  Convention  to  try  and  force  Congress  to  allow  the  states  to  edit  and  propose  new  amendments  to  bring  the  government  back  under  control . \n",
      "  Keep  in  mind ,  some  of  the  brightest  minds  of  the  US  were  called  to  speak  at  this  conference .  Laurence  Tribe  has  been  called  the  single  most  pre emi nent  voice  on  constitutional  law  in  the  US  - -  he  spoke .  Ce nk  U y gur ,  host  of  the  young  Turks ,  spoke . \n",
      "  A  list  of  all  speakers  follows  ( please  note  some  names  may  appear  twice  - -  I ' m  typing  this  from  the  Agenda ) : \n",
      "  Lawrence  Less ig ,  Mark  Me ckle r ,  john  Baker ,  Nick  Drama is ,  Sanford  Levin son ,  Barbara  Perry ,  Laurence  Tribe ,  Glenn  Reynolds ,  Andy  Big gs ,  David  Cobb ,  Alexandra  Fi lind ra ,  Rob  Richie ,  John  Samples ,  Brenda  Wright ,  Ce nk  U y gur ,  George  Friday ,  Shane  Larson ,  Bill  Norton ,  Curtis  Olaf son ,  Anna bel  Park ,  Jefferson  Smith ,  Bill  Walker ,  David  Sega l ,  Roman  Bu hler ,  Mary  Pen rose ,  Michael  Stern ,  Emily  Elk ins ,  Robert  Richie ,  Stephen  Eric kson ,  Ben  Mans ki ,  David  Swans on ,  Steve  D ' Ami co ,  John  Marion ,  Nick  Dr ana is ,  Chris  Blaze je wski ,  Mark  Me ckle r ,  Art  Wit tic h ,  Eric  By ler ,  Karen  Ho bert - Flynn ,  Richard  Parker . * \n",
      " \n",
      "  Please  keep  in  mind  some  speakers  have  had  issues  in  the  past .  Laurence  Tribe  has  been  called  out  on  pl agi aris m .  However ,  despite  that ,  every  speaker  was  chosen  to  speak  because  they  have  an  area  of  true  dedication  and  extreme  intellectual  competence . \n",
      " \n",
      "  Represented  organizations  are : \n",
      "  Tea  Party  Patriots ,  Roots tri kers ,  the  Coffee  Party ,  Democrats ,  Republicans  and  Independents . \n",
      "  The  website  is : \n",
      "__label__DevilFaceSolidFill\n"
     ]
    }
   ],
   "source": [
    "for i,sentence in enumerate(shortlist_sentences):\n",
    "    print(f'\\n \\033[1m Sentence {i+1}: \\033[0m')\n",
    "    print(sentence[0])\n",
    "    print(sentence[2])"
   ]
  },
  {
   "cell_type": "code",
   "execution_count": 53,
   "metadata": {},
   "outputs": [
    {
     "data": {
      "text/plain": [
       "\"\\ndef f_label(x):\\n    tv = torch.tensor([tokenizer.encode(v, pad_to_max_length=True, max_length=args['max_seq_len'],truncation=True) for v in x]).cuda()\\n    attention_mask = (tv!=0).type(torch.int64).cuda()\\n    outputs = model(tv,attention_mask=attention_mask)[0].detach().cpu().numpy()\\n    scores = (np.exp(outputs).T / np.exp(outputs).sum(-1)).T\\n    val = sp.special.logit(scores)\\n    #print(np.max(scores[0]))\\n    #print(np.max(val[0]))\\n    return id2label[np.argmax(scores[0])]\\n\""
      ]
     },
     "execution_count": 53,
     "metadata": {},
     "output_type": "execute_result"
    }
   ],
   "source": [
    "'''\n",
    "def f_label(x):\n",
    "    tv = torch.tensor([tokenizer.encode(v, pad_to_max_length=True, max_length=args['max_seq_len'],truncation=True) for v in x]).cuda()\n",
    "    attention_mask = (tv!=0).type(torch.int64).cuda()\n",
    "    outputs = model(tv,attention_mask=attention_mask)[0].detach().cpu().numpy()\n",
    "    scores = (np.exp(outputs).T / np.exp(outputs).sum(-1)).T\n",
    "    val = sp.special.logit(scores)\n",
    "    #print(np.max(scores[0]))\n",
    "    #print(np.max(val[0]))\n",
    "    return id2label[np.argmax(scores[0])]\n",
    "'''"
   ]
  },
  {
   "cell_type": "markdown",
   "metadata": {},
   "source": [
    "#### Text and Bar plots"
   ]
  },
  {
   "cell_type": "code",
   "execution_count": 54,
   "metadata": {},
   "outputs": [],
   "source": [
    "def custom_masked_bar_plot(class_index,mask_type,viz_type):\n",
    "    #determine type of operation on the explanation object\n",
    "    if viz_type=='mean':\n",
    "        compute_shap=copy.copy(shap_values_multiclass.mean(0))\n",
    "    if viz_type=='sum':\n",
    "        compute_shap=copy.copy(shap_values_multiclass.sum(0))\n",
    "    if viz_type=='abs_mean':\n",
    "        compute_shap=copy.copy(shap_values_multiclass.abs.sum(0))\n",
    "    if viz_type=='abs_sum':\n",
    "        compute_shap=copy.copy(shap_values_multiclass.abs.sum(0))\n",
    "    #create a mask to visualize either positively or negatively contributing features\n",
    "    if mask_type=='pos':\n",
    "        mask=compute_shap.values[:,class_index]>=0\n",
    "    else:\n",
    "        mask=compute_shap.values[:,class_index]<=0\n",
    "    #slice values related to a given class\n",
    "    compute_shap.values=compute_shap.values[:,class_index][mask]\n",
    "    compute_shap.feature_names=list(np.array(compute_shap.feature_names)[mask])\n",
    "    #plot\n",
    "    shap.plots.bar(compute_shap.abs,order=shap.Explanation.identity)"
   ]
  },
  {
   "cell_type": "code",
   "execution_count": 55,
   "metadata": {},
   "outputs": [],
   "source": [
    "def text_plot(class_index,start_idx,end_idx,shap_values_temp):\n",
    "    shap_values = copy.copy(shap_values_temp[:])\n",
    "    #slice values related to a given class\n",
    "    if len(shap_values.base_values.shape) == 1:\n",
    "        shap_values.values = shap_values.values[:,class_index]\n",
    "        shap_values.hierarchical_values = shap_values.hierarchical_values[:,class_index]\n",
    "        shap_values.base_values = shap_values.base_values[class_index]\n",
    "    else:\n",
    "        for i in range(start_idx,end_idx):\n",
    "            shap_values.values[i] = shap_values.values[i][:,class_index]\n",
    "            shap_values.hierarchical_values[i] = shap_values.hierarchical_values[i][:,class_index]\n",
    "        shap_values.base_values = shap_values.base_values[:,class_index]\n",
    "    #plot\n",
    "    shap.plots.text(shap_values[start_idx:end_idx])"
   ]
  },
  {
   "cell_type": "code",
   "execution_count": null,
   "metadata": {},
   "outputs": [],
   "source": [
    "label='__label__Fire'\n",
    "custom_masked_bar_plot(label2id[label],'pos','mean')"
   ]
  },
  {
   "cell_type": "code",
   "execution_count": null,
   "metadata": {},
   "outputs": [],
   "source": [
    "text_plot(label2id['__label__Nose'],0,1,shap_values_multiclass)"
   ]
  },
  {
   "cell_type": "code",
   "execution_count": null,
   "metadata": {},
   "outputs": [],
   "source": []
  }
 ],
 "metadata": {
  "kernelspec": {
   "display_name": "Python 3",
   "language": "python",
   "name": "python3"
  },
  "language_info": {
   "codemirror_mode": {
    "name": "ipython",
    "version": 3
   },
   "file_extension": ".py",
   "mimetype": "text/x-python",
   "name": "python",
   "nbconvert_exporter": "python",
   "pygments_lexer": "ipython3",
   "version": "3.8.6"
  }
 },
 "nbformat": 4,
 "nbformat_minor": 2
}
